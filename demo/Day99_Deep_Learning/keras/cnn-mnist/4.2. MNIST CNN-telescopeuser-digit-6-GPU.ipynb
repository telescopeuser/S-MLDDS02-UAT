{
 "cells": [
  {
   "cell_type": "markdown",
   "metadata": {
    "slideshow": {
     "slide_type": "slide"
    }
   },
   "source": [
    "# Convolution Nets for MNIST\n",
    "\n",
    "### TelescopeUser: binary classification problem of looking for digit 6: {Class 1 for 6, Class 0 for the rest of digits}"
   ]
  },
  {
   "cell_type": "markdown",
   "metadata": {
    "slideshow": {
     "slide_type": "subslide"
    }
   },
   "source": [
    "Deep Learning models can take quite a bit of time to run, particularly if GPU isn't used. \n",
    "\n",
    "In the interest of time, you could sample a subset of observations (e.g. $1000$) that are a particular number of your choice (e.g. $6$) and $1000$ observations that aren't that particular number (i.e. $\\neq 6$). \n",
    "\n",
    "We will build a model using that and see how it performs on the test dataset"
   ]
  },
  {
   "cell_type": "code",
   "execution_count": 1,
   "metadata": {
    "slideshow": {
     "slide_type": "subslide"
    }
   },
   "outputs": [
    {
     "name": "stderr",
     "output_type": "stream",
     "text": [
      "Using TensorFlow backend.\n"
     ]
    }
   ],
   "source": [
    "#Import the required libraries\n",
    "import numpy as np\n",
    "np.random.seed(1338)\n",
    "\n",
    "from keras.datasets import mnist"
   ]
  },
  {
   "cell_type": "code",
   "execution_count": 2,
   "metadata": {
    "slideshow": {
     "slide_type": "fragment"
    }
   },
   "outputs": [],
   "source": [
    "from keras.models import Sequential\n",
    "from keras.layers.core import Dense, Dropout, Activation, Flatten"
   ]
  },
  {
   "cell_type": "code",
   "execution_count": 3,
   "metadata": {
    "slideshow": {
     "slide_type": "fragment"
    }
   },
   "outputs": [],
   "source": [
    "from keras.layers.convolutional import Conv2D\n",
    "from keras.layers.pooling import MaxPooling2D"
   ]
  },
  {
   "cell_type": "code",
   "execution_count": 4,
   "metadata": {
    "slideshow": {
     "slide_type": "fragment"
    }
   },
   "outputs": [],
   "source": [
    "from keras.utils import np_utils\n",
    "from keras.optimizers import SGD"
   ]
  },
  {
   "cell_type": "markdown",
   "metadata": {
    "slideshow": {
     "slide_type": "subslide"
    }
   },
   "source": [
    "## Loading Data"
   ]
  },
  {
   "cell_type": "code",
   "execution_count": 5,
   "metadata": {
    "slideshow": {
     "slide_type": "-"
    }
   },
   "outputs": [],
   "source": [
    "#Load the training and testing data\n",
    "(X_train, y_train), (X_test, y_test) = mnist.load_data()"
   ]
  },
  {
   "cell_type": "code",
   "execution_count": 6,
   "metadata": {
    "slideshow": {
     "slide_type": "skip"
    }
   },
   "outputs": [],
   "source": [
    "X_test_orig = X_test"
   ]
  },
  {
   "cell_type": "markdown",
   "metadata": {
    "slideshow": {
     "slide_type": "subslide"
    }
   },
   "source": [
    "## Data Preparation"
   ]
  },
  {
   "cell_type": "markdown",
   "metadata": {},
   "source": [
    "### Very Important: \n",
    "When dealing with images & convolutions, it is paramount to handle `image_data_format` properly"
   ]
  },
  {
   "cell_type": "code",
   "execution_count": 7,
   "metadata": {},
   "outputs": [],
   "source": [
    "from keras import backend as K"
   ]
  },
  {
   "cell_type": "code",
   "execution_count": 8,
   "metadata": {},
   "outputs": [],
   "source": [
    "img_rows, img_cols = 28, 28\n",
    "\n",
    "if K.image_data_format() == 'channels_first':\n",
    "    shape_ord = (1, img_rows, img_cols)\n",
    "else:  # channel_last\n",
    "    shape_ord = (img_rows, img_cols, 1)"
   ]
  },
  {
   "cell_type": "markdown",
   "metadata": {},
   "source": [
    "#### Preprocess and Normalise Data"
   ]
  },
  {
   "cell_type": "code",
   "execution_count": 9,
   "metadata": {
    "slideshow": {
     "slide_type": "-"
    }
   },
   "outputs": [],
   "source": [
    "X_train = X_train.reshape((X_train.shape[0],) + shape_ord)\n",
    "X_test = X_test.reshape((X_test.shape[0],) + shape_ord)\n",
    "\n",
    "X_train = X_train.astype('float32')\n",
    "X_test = X_test.astype('float32')\n",
    "\n",
    "X_train /= 255\n",
    "X_test /= 255"
   ]
  },
  {
   "cell_type": "code",
   "execution_count": 10,
   "metadata": {
    "slideshow": {
     "slide_type": "subslide"
    }
   },
   "outputs": [],
   "source": [
    "np.random.seed(1338)  # for reproducibilty!!\n",
    "\n",
    "# Test data\n",
    "X_test = X_test.copy()\n",
    "Y = y_test.copy()\n",
    "\n",
    "# Converting the output to binary classification(Six=1,Not Six=0)\n",
    "Y_test = Y == 6\n",
    "Y_test = Y_test.astype(int)\n",
    "\n",
    "# Selecting the 5918 examples where the output is 6\n",
    "X_six = X_train[y_train == 6].copy()\n",
    "Y_six = y_train[y_train == 6].copy()\n",
    "\n",
    "# Selecting the examples where the output is not 6\n",
    "X_not_six = X_train[y_train != 6].copy()\n",
    "Y_not_six = y_train[y_train != 6].copy()\n",
    "\n",
    "# Selecting 6000 random examples from the data that \n",
    "# only contains the data where the output is not 6\n",
    "random_rows = np.random.randint(0,X_six.shape[0],6000)\n",
    "X_not_six = X_not_six[random_rows]\n",
    "Y_not_six = Y_not_six[random_rows]"
   ]
  },
  {
   "cell_type": "code",
   "execution_count": 11,
   "metadata": {
    "slideshow": {
     "slide_type": "subslide"
    }
   },
   "outputs": [],
   "source": [
    "# Appending the data with output as 6 and data with output as <> 6\n",
    "X_train = np.append(X_six,X_not_six)\n",
    "\n",
    "# Reshaping the appended data to appropraite form\n",
    "X_train = X_train.reshape((X_six.shape[0] + X_not_six.shape[0],) + shape_ord)\n",
    "\n",
    "# Appending the labels and converting the labels to \n",
    "# binary classification(Six=1,Not Six=0)\n",
    "Y_labels = np.append(Y_six,Y_not_six)\n",
    "Y_train = Y_labels == 6 \n",
    "Y_train = Y_train.astype(int)"
   ]
  },
  {
   "cell_type": "code",
   "execution_count": 12,
   "metadata": {
    "slideshow": {
     "slide_type": "subslide"
    }
   },
   "outputs": [
    {
     "name": "stdout",
     "output_type": "stream",
     "text": [
      "(11918, 28, 28, 1) (11918,) (10000, 28, 28, 1) (10000,)\n"
     ]
    }
   ],
   "source": [
    "print(X_train.shape, Y_labels.shape, X_test.shape, Y_test.shape)"
   ]
  },
  {
   "cell_type": "code",
   "execution_count": 13,
   "metadata": {
    "slideshow": {
     "slide_type": "fragment"
    }
   },
   "outputs": [],
   "source": [
    "# Converting the classes to its binary categorical form\n",
    "nb_classes = 2\n",
    "Y_train = np_utils.to_categorical(Y_train, nb_classes)\n",
    "Y_test = np_utils.to_categorical(Y_test, nb_classes)"
   ]
  },
  {
   "cell_type": "markdown",
   "metadata": {
    "slideshow": {
     "slide_type": "slide"
    }
   },
   "source": [
    "# A simple CNN"
   ]
  },
  {
   "cell_type": "code",
   "execution_count": 14,
   "metadata": {
    "slideshow": {
     "slide_type": "subslide"
    }
   },
   "outputs": [],
   "source": [
    "# -- Initializing the values for the convolution neural network\n",
    "\n",
    "nb_epoch = 20  # kept very low! Please increase if you have GPU\n",
    "\n",
    "batch_size = 64\n",
    "# number of convolutional filters to use\n",
    "nb_filters = 32\n",
    "# size of pooling area for max pooling\n",
    "nb_pool = 2\n",
    "# convolution kernel size\n",
    "nb_conv = 3\n",
    "\n",
    "# Vanilla SGD\n",
    "sgd = SGD(lr=0.1, decay=1e-6, momentum=0.9, nesterov=True)"
   ]
  },
  {
   "cell_type": "markdown",
   "metadata": {
    "slideshow": {
     "slide_type": "subslide"
    }
   },
   "source": [
    "#### Step 1: Model Definition"
   ]
  },
  {
   "cell_type": "code",
   "execution_count": 15,
   "metadata": {},
   "outputs": [],
   "source": [
    "model = Sequential()\n",
    "\n",
    "model.add(Conv2D(nb_filters, (nb_conv, nb_conv), padding='valid', \n",
    "                 input_shape=shape_ord))  # note: the very first layer **must** always specify the input_shape\n",
    "model.add(Activation('relu'))\n",
    "\n",
    "model.add(Flatten())\n",
    "model.add(Dense(nb_classes))\n",
    "model.add(Activation('softmax'))"
   ]
  },
  {
   "cell_type": "markdown",
   "metadata": {
    "slideshow": {
     "slide_type": "subslide"
    }
   },
   "source": [
    "#### Step 2: Compile"
   ]
  },
  {
   "cell_type": "code",
   "execution_count": 16,
   "metadata": {},
   "outputs": [],
   "source": [
    "model.compile(loss='categorical_crossentropy',\n",
    "              optimizer=sgd,\n",
    "              metrics=['accuracy'])"
   ]
  },
  {
   "cell_type": "markdown",
   "metadata": {
    "slideshow": {
     "slide_type": "subslide"
    }
   },
   "source": [
    "#### Step 3: Fit"
   ]
  },
  {
   "cell_type": "code",
   "execution_count": 17,
   "metadata": {},
   "outputs": [
    {
     "name": "stdout",
     "output_type": "stream",
     "text": [
      "Train on 11918 samples, validate on 10000 samples\n",
      "Epoch 1/20\n",
      "11918/11918 [==============================] - 2s - loss: 0.0600 - acc: 0.9782 - val_loss: 0.0343 - val_acc: 0.9871\n",
      "Epoch 2/20\n",
      "11918/11918 [==============================] - 1s - loss: 0.0161 - acc: 0.9948 - val_loss: 0.0333 - val_acc: 0.9876\n",
      "Epoch 3/20\n",
      "11918/11918 [==============================] - 1s - loss: 0.0121 - acc: 0.9960 - val_loss: 0.0332 - val_acc: 0.9885\n",
      "Epoch 4/20\n",
      "11918/11918 [==============================] - 1s - loss: 0.0064 - acc: 0.9979 - val_loss: 0.0302 - val_acc: 0.9913\n",
      "Epoch 5/20\n",
      "11918/11918 [==============================] - 1s - loss: 0.0048 - acc: 0.9985 - val_loss: 0.0453 - val_acc: 0.9866\n",
      "Epoch 6/20\n",
      "11918/11918 [==============================] - 1s - loss: 0.0028 - acc: 0.9992 - val_loss: 0.0244 - val_acc: 0.9931\n",
      "Epoch 7/20\n",
      "11918/11918 [==============================] - 1s - loss: 0.0016 - acc: 0.9997 - val_loss: 0.0395 - val_acc: 0.9892\n",
      "Epoch 8/20\n",
      "11918/11918 [==============================] - 1s - loss: 0.0013 - acc: 0.9997 - val_loss: 0.0414 - val_acc: 0.9892\n",
      "Epoch 9/20\n",
      "11918/11918 [==============================] - 1s - loss: 9.7543e-04 - acc: 1.0000 - val_loss: 0.0366 - val_acc: 0.9905\n",
      "Epoch 10/20\n",
      "11918/11918 [==============================] - 1s - loss: 4.5172e-04 - acc: 1.0000 - val_loss: 0.0396 - val_acc: 0.9899\n",
      "Epoch 11/20\n",
      "11918/11918 [==============================] - 1s - loss: 3.2882e-04 - acc: 1.0000 - val_loss: 0.0380 - val_acc: 0.9906\n",
      "Epoch 12/20\n",
      "11918/11918 [==============================] - 1s - loss: 2.8375e-04 - acc: 1.0000 - val_loss: 0.0434 - val_acc: 0.9895\n",
      "Epoch 13/20\n",
      "11918/11918 [==============================] - 1s - loss: 2.6895e-04 - acc: 1.0000 - val_loss: 0.0407 - val_acc: 0.9901\n",
      "Epoch 14/20\n",
      "11918/11918 [==============================] - 1s - loss: 2.3065e-04 - acc: 1.0000 - val_loss: 0.0428 - val_acc: 0.9895\n",
      "Epoch 15/20\n",
      "11918/11918 [==============================] - 1s - loss: 2.0993e-04 - acc: 1.0000 - val_loss: 0.0438 - val_acc: 0.9895\n",
      "Epoch 16/20\n",
      "11918/11918 [==============================] - 1s - loss: 1.9589e-04 - acc: 1.0000 - val_loss: 0.0429 - val_acc: 0.9900\n",
      "Epoch 17/20\n",
      "11918/11918 [==============================] - 1s - loss: 1.7606e-04 - acc: 1.0000 - val_loss: 0.0442 - val_acc: 0.9898\n",
      "Epoch 18/20\n",
      "11918/11918 [==============================] - 1s - loss: 1.6556e-04 - acc: 1.0000 - val_loss: 0.0449 - val_acc: 0.9897\n",
      "Epoch 19/20\n",
      "11918/11918 [==============================] - 1s - loss: 1.5481e-04 - acc: 1.0000 - val_loss: 0.0452 - val_acc: 0.9895\n",
      "Epoch 20/20\n",
      "11918/11918 [==============================] - 1s - loss: 1.4538e-04 - acc: 1.0000 - val_loss: 0.0435 - val_acc: 0.9902\n"
     ]
    }
   ],
   "source": [
    "hist = model.fit(X_train, Y_train, batch_size=batch_size, \n",
    "                 epochs=nb_epoch, verbose=1, \n",
    "                 validation_data=(X_test, Y_test))"
   ]
  },
  {
   "cell_type": "code",
   "execution_count": 18,
   "metadata": {},
   "outputs": [
    {
     "data": {
      "text/plain": [
       "<matplotlib.legend.Legend at 0x7f0bc35ae588>"
      ]
     },
     "execution_count": 18,
     "metadata": {},
     "output_type": "execute_result"
    },
    {
     "data": {
      "image/png": "[encoded data removed]",
      "text/plain": [
       "<matplotlib.figure.Figure at 0x7f0bd0c72898>"
      ]
     },
     "metadata": {},
     "output_type": "display_data"
    },
    {
     "data": {
      "image/png": "[encoded data removed]",
      "text/plain": [
       "<matplotlib.figure.Figure at 0x7f0bebb86780>"
      ]
     },
     "metadata": {},
     "output_type": "display_data"
    }
   ],
   "source": [
    "import matplotlib.pyplot as plt\n",
    "%matplotlib inline\n",
    "\n",
    "plt.figure()\n",
    "plt.xlabel('Epochs')\n",
    "plt.ylabel('Loss')\n",
    "plt.plot(hist.history['loss'])\n",
    "plt.plot(hist.history['val_loss'])\n",
    "plt.legend(['Training', 'Validation'])\n",
    "\n",
    "plt.figure()\n",
    "plt.xlabel('Epochs')\n",
    "plt.ylabel('Accuracy')\n",
    "plt.plot(hist.history['acc'])\n",
    "plt.plot(hist.history['val_acc'])\n",
    "plt.legend(['Training', 'Validation'], loc='lower right')"
   ]
  },
  {
   "cell_type": "markdown",
   "metadata": {
    "slideshow": {
     "slide_type": "subslide"
    }
   },
   "source": [
    "### Step 4: Evaluate"
   ]
  },
  {
   "cell_type": "code",
   "execution_count": 19,
   "metadata": {},
   "outputs": [
    {
     "name": "stdout",
     "output_type": "stream",
     "text": [
      "Available Metrics in Model: ['loss', 'acc']\n"
     ]
    }
   ],
   "source": [
    "print('Available Metrics in Model: {}'.format(model.metrics_names))"
   ]
  },
  {
   "cell_type": "code",
   "execution_count": 20,
   "metadata": {},
   "outputs": [
    {
     "name": "stdout",
     "output_type": "stream",
     "text": [
      "Test Loss: 0.0435162696089\n",
      "Test Accuracy: 0.9902\n"
     ]
    }
   ],
   "source": [
    "# Evaluating the model on the test data    \n",
    "loss, accuracy = model.evaluate(X_test, Y_test, verbose=0)\n",
    "print('Test Loss:', loss)\n",
    "print('Test Accuracy:', accuracy)"
   ]
  },
  {
   "cell_type": "markdown",
   "metadata": {
    "slideshow": {
     "slide_type": "subslide"
    }
   },
   "source": [
    "### Let's plot our model Predictions!"
   ]
  },
  {
   "cell_type": "code",
   "execution_count": 21,
   "metadata": {
    "slideshow": {
     "slide_type": "skip"
    }
   },
   "outputs": [],
   "source": [
    "import matplotlib.pyplot as plt\n",
    "\n",
    "%matplotlib inline"
   ]
  },
  {
   "cell_type": "code",
   "execution_count": 31,
   "metadata": {
    "slideshow": {
     "slide_type": "subslide"
    }
   },
   "outputs": [
    {
     "data": {
      "image/png": "[encoded data removed]",
      "text/plain": [
       "<matplotlib.figure.Figure at 0x7f0bc2b6b198>"
      ]
     },
     "metadata": {},
     "output_type": "display_data"
    }
   ],
   "source": [
    "slice = 25\n",
    "predicted = model.predict(X_test[:slice]).argmax(-1)\n",
    "\n",
    "plt.figure(figsize=(16,8))\n",
    "for i in range(slice):\n",
    "    plt.subplot(1, slice, i+1)\n",
    "    plt.imshow(X_test_orig[i], interpolation='nearest')\n",
    "    plt.text(0, 0, predicted[i], color='black', \n",
    "             bbox=dict(facecolor='white', alpha=1))\n",
    "    plt.axis('off')"
   ]
  },
  {
   "cell_type": "markdown",
   "metadata": {
    "slideshow": {
     "slide_type": "slide"
    }
   },
   "source": [
    "# Adding more Dense Layers"
   ]
  },
  {
   "cell_type": "code",
   "execution_count": 23,
   "metadata": {
    "slideshow": {
     "slide_type": "subslide"
    }
   },
   "outputs": [],
   "source": [
    "model = Sequential()\n",
    "model.add(Conv2D(nb_filters, (nb_conv, nb_conv),\n",
    "                 padding='valid', input_shape=shape_ord))\n",
    "model.add(Activation('relu'))\n",
    "\n",
    "model.add(Flatten())\n",
    "model.add(Dense(128))\n",
    "model.add(Activation('relu'))\n",
    "\n",
    "model.add(Dense(nb_classes))\n",
    "model.add(Activation('softmax'))"
   ]
  },
  {
   "cell_type": "code",
   "execution_count": 24,
   "metadata": {
    "scrolled": true,
    "slideshow": {
     "slide_type": "subslide"
    }
   },
   "outputs": [
    {
     "name": "stdout",
     "output_type": "stream",
     "text": [
      "Train on 11918 samples, validate on 10000 samples\n",
      "Epoch 1/20\n",
      "11918/11918 [==============================] - 2s - loss: 0.2280 - acc: 0.9404 - val_loss: 0.0994 - val_acc: 0.9684\n",
      "Epoch 2/20\n",
      "11918/11918 [==============================] - 2s - loss: 0.0957 - acc: 0.9685 - val_loss: 0.0786 - val_acc: 0.9731\n",
      "Epoch 3/20\n",
      "11918/11918 [==============================] - 2s - loss: 0.0826 - acc: 0.9731 - val_loss: 0.0666 - val_acc: 0.9757\n",
      "Epoch 4/20\n",
      "11918/11918 [==============================] - 2s - loss: 0.0762 - acc: 0.9747 - val_loss: 0.0815 - val_acc: 0.9697\n",
      "Epoch 5/20\n",
      "11918/11918 [==============================] - 2s - loss: 0.0719 - acc: 0.9758 - val_loss: 0.0853 - val_acc: 0.9684\n",
      "Epoch 6/20\n",
      "11918/11918 [==============================] - 2s - loss: 0.0672 - acc: 0.9771 - val_loss: 0.1438 - val_acc: 0.9467\n",
      "Epoch 7/20\n",
      "11918/11918 [==============================] - 2s - loss: 0.0647 - acc: 0.9787 - val_loss: 0.0747 - val_acc: 0.9717\n",
      "Epoch 8/20\n",
      "11918/11918 [==============================] - 2s - loss: 0.0618 - acc: 0.9793 - val_loss: 0.0699 - val_acc: 0.9727\n",
      "Epoch 9/20\n",
      "11918/11918 [==============================] - 2s - loss: 0.0588 - acc: 0.9804 - val_loss: 0.0693 - val_acc: 0.9732\n",
      "Epoch 10/20\n",
      "11918/11918 [==============================] - 2s - loss: 0.0551 - acc: 0.9815 - val_loss: 0.1181 - val_acc: 0.9556\n",
      "Epoch 11/20\n",
      "11918/11918 [==============================] - 2s - loss: 0.0525 - acc: 0.9838 - val_loss: 0.0621 - val_acc: 0.9760\n",
      "Epoch 12/20\n",
      "11918/11918 [==============================] - 2s - loss: 0.0498 - acc: 0.9836 - val_loss: 0.0897 - val_acc: 0.9658\n",
      "Epoch 13/20\n",
      "11918/11918 [==============================] - 2s - loss: 0.0472 - acc: 0.9851 - val_loss: 0.0615 - val_acc: 0.9765\n",
      "Epoch 14/20\n",
      "11918/11918 [==============================] - 2s - loss: 0.0445 - acc: 0.9853 - val_loss: 0.0482 - val_acc: 0.9816\n",
      "Epoch 15/20\n",
      "11918/11918 [==============================] - 2s - loss: 0.0421 - acc: 0.9866 - val_loss: 0.0475 - val_acc: 0.9822\n",
      "Epoch 16/20\n",
      "11918/11918 [==============================] - 2s - loss: 0.0397 - acc: 0.9876 - val_loss: 0.0718 - val_acc: 0.9730\n",
      "Epoch 17/20\n",
      "11918/11918 [==============================] - 2s - loss: 0.0376 - acc: 0.9877 - val_loss: 0.0521 - val_acc: 0.9812\n",
      "Epoch 18/20\n",
      "11918/11918 [==============================] - 1s - loss: 0.0354 - acc: 0.9888 - val_loss: 0.0403 - val_acc: 0.9856\n",
      "Epoch 19/20\n",
      "11918/11918 [==============================] - 2s - loss: 0.0333 - acc: 0.9902 - val_loss: 0.0502 - val_acc: 0.9817\n",
      "Epoch 20/20\n",
      "11918/11918 [==============================] - 2s - loss: 0.0315 - acc: 0.9898 - val_loss: 0.0551 - val_acc: 0.9800\n"
     ]
    }
   ],
   "source": [
    "model.compile(loss='categorical_crossentropy',\n",
    "              optimizer='sgd',\n",
    "              metrics=['accuracy'])\n",
    "\n",
    "hist = model.fit(X_train, Y_train, batch_size=batch_size, \n",
    "          epochs=nb_epoch,verbose=1,\n",
    "          validation_data=(X_test, Y_test))"
   ]
  },
  {
   "cell_type": "code",
   "execution_count": 25,
   "metadata": {},
   "outputs": [
    {
     "data": {
      "text/plain": [
       "<matplotlib.legend.Legend at 0x7f0bc315e748>"
      ]
     },
     "execution_count": 25,
     "metadata": {},
     "output_type": "execute_result"
    },
    {
     "data": {
      "image/png": "[encoded data removed]",
      "text/plain": [
       "<matplotlib.figure.Figure at 0x7f0bd0c50d30>"
      ]
     },
     "metadata": {},
     "output_type": "display_data"
    },
    {
     "data": {
      "image/png": "[encoded data removed]",
      "text/plain": [
       "<matplotlib.figure.Figure at 0x7f0bc318f908>"
      ]
     },
     "metadata": {},
     "output_type": "display_data"
    }
   ],
   "source": [
    "import matplotlib.pyplot as plt\n",
    "%matplotlib inline\n",
    "\n",
    "plt.figure()\n",
    "plt.xlabel('Epochs')\n",
    "plt.ylabel('Loss')\n",
    "plt.plot(hist.history['loss'])\n",
    "plt.plot(hist.history['val_loss'])\n",
    "plt.legend(['Training', 'Validation'])\n",
    "\n",
    "plt.figure()\n",
    "plt.xlabel('Epochs')\n",
    "plt.ylabel('Accuracy')\n",
    "plt.plot(hist.history['acc'])\n",
    "plt.plot(hist.history['val_acc'])\n",
    "plt.legend(['Training', 'Validation'], loc='lower right')"
   ]
  },
  {
   "cell_type": "code",
   "execution_count": 26,
   "metadata": {
    "slideshow": {
     "slide_type": "subslide"
    }
   },
   "outputs": [
    {
     "name": "stdout",
     "output_type": "stream",
     "text": [
      "Test score: 0.055102327433\n",
      "Test accuracy: 0.98\n"
     ]
    }
   ],
   "source": [
    "#Evaluating the model on the test data    \n",
    "score, accuracy = model.evaluate(X_test, Y_test, verbose=0)\n",
    "print('Test score:', score)\n",
    "print('Test accuracy:', accuracy)"
   ]
  },
  {
   "cell_type": "code",
   "execution_count": 28,
   "metadata": {
    "slideshow": {
     "slide_type": "subslide"
    }
   },
   "outputs": [
    {
     "data": {
      "image/png": "[encoded data removed]",
      "text/plain": [
       "<matplotlib.figure.Figure at 0x7f0bc34af390>"
      ]
     },
     "metadata": {},
     "output_type": "display_data"
    }
   ],
   "source": [
    "slice = 25\n",
    "predicted = model.predict(X_test[:slice]).argmax(-1)\n",
    "\n",
    "plt.figure(figsize=(16,8))\n",
    "for i in range(slice):\n",
    "    plt.subplot(1, slice, i+1)\n",
    "    plt.imshow(X_test_orig[i], interpolation='nearest')\n",
    "    plt.text(0, 0, predicted[i], color='black', \n",
    "             bbox=dict(facecolor='white', alpha=1))\n",
    "    plt.axis('off')"
   ]
  },
  {
   "cell_type": "markdown",
   "metadata": {
    "slideshow": {
     "slide_type": "slide"
    }
   },
   "source": [
    "# Adding Dropout"
   ]
  },
  {
   "cell_type": "code",
   "execution_count": 32,
   "metadata": {
    "slideshow": {
     "slide_type": "subslide"
    }
   },
   "outputs": [],
   "source": [
    "model = Sequential()\n",
    "\n",
    "model.add(Conv2D(nb_filters, (nb_conv, nb_conv),\n",
    "                        padding='valid',\n",
    "                        input_shape=shape_ord))\n",
    "model.add(Activation('relu'))\n",
    "\n",
    "model.add(Flatten())\n",
    "model.add(Dense(128))\n",
    "model.add(Activation('relu'))\n",
    "model.add(Dropout(0.5))\n",
    "model.add(Dense(nb_classes))\n",
    "model.add(Activation('softmax'))"
   ]
  },
  {
   "cell_type": "code",
   "execution_count": 33,
   "metadata": {
    "scrolled": true,
    "slideshow": {
     "slide_type": "subslide"
    }
   },
   "outputs": [
    {
     "name": "stdout",
     "output_type": "stream",
     "text": [
      "Train on 11918 samples, validate on 10000 samples\n",
      "Epoch 1/20\n",
      "11918/11918 [==============================] - 2s - loss: 0.2230 - acc: 0.9369 - val_loss: 0.1137 - val_acc: 0.9615\n",
      "Epoch 2/20\n",
      "11918/11918 [==============================] - 2s - loss: 0.1048 - acc: 0.9651 - val_loss: 0.1094 - val_acc: 0.9596\n",
      "Epoch 3/20\n",
      "11918/11918 [==============================] - 2s - loss: 0.0881 - acc: 0.9710 - val_loss: 0.1154 - val_acc: 0.9555\n",
      "Epoch 4/20\n",
      "11918/11918 [==============================] - 2s - loss: 0.0792 - acc: 0.9731 - val_loss: 0.0644 - val_acc: 0.9753\n",
      "Epoch 5/20\n",
      "11918/11918 [==============================] - 2s - loss: 0.0695 - acc: 0.9775 - val_loss: 0.0513 - val_acc: 0.9804\n",
      "Epoch 6/20\n",
      "11918/11918 [==============================] - 2s - loss: 0.0684 - acc: 0.9784 - val_loss: 0.0580 - val_acc: 0.9778\n",
      "Epoch 7/20\n",
      "11918/11918 [==============================] - 2s - loss: 0.0630 - acc: 0.9799 - val_loss: 0.0406 - val_acc: 0.9856\n",
      "Epoch 8/20\n",
      "11918/11918 [==============================] - 2s - loss: 0.0575 - acc: 0.9814 - val_loss: 0.0637 - val_acc: 0.9753\n",
      "Epoch 9/20\n",
      "11918/11918 [==============================] - 2s - loss: 0.0538 - acc: 0.9831 - val_loss: 0.0544 - val_acc: 0.9799\n",
      "Epoch 10/20\n",
      "11918/11918 [==============================] - 2s - loss: 0.0495 - acc: 0.9847 - val_loss: 0.0460 - val_acc: 0.9828\n",
      "Epoch 11/20\n",
      "11918/11918 [==============================] - 2s - loss: 0.0467 - acc: 0.9862 - val_loss: 0.0556 - val_acc: 0.9793\n",
      "Epoch 12/20\n",
      "11918/11918 [==============================] - 2s - loss: 0.0443 - acc: 0.9856 - val_loss: 0.0583 - val_acc: 0.9788\n",
      "Epoch 13/20\n",
      "11918/11918 [==============================] - 2s - loss: 0.0432 - acc: 0.9859 - val_loss: 0.0502 - val_acc: 0.9809\n",
      "Epoch 14/20\n",
      "11918/11918 [==============================] - 2s - loss: 0.0377 - acc: 0.9888 - val_loss: 0.0338 - val_acc: 0.9878\n",
      "Epoch 15/20\n",
      "11918/11918 [==============================] - 2s - loss: 0.0369 - acc: 0.9891 - val_loss: 0.0410 - val_acc: 0.9849\n",
      "Epoch 16/20\n",
      "11918/11918 [==============================] - 2s - loss: 0.0353 - acc: 0.9894 - val_loss: 0.0372 - val_acc: 0.9865\n",
      "Epoch 17/20\n",
      "11918/11918 [==============================] - 2s - loss: 0.0317 - acc: 0.9905 - val_loss: 0.0486 - val_acc: 0.9811\n",
      "Epoch 18/20\n",
      "11918/11918 [==============================] - 2s - loss: 0.0319 - acc: 0.9902 - val_loss: 0.0373 - val_acc: 0.9864\n",
      "Epoch 19/20\n",
      "11918/11918 [==============================] - 2s - loss: 0.0314 - acc: 0.9908 - val_loss: 0.0386 - val_acc: 0.9860\n",
      "Epoch 20/20\n",
      "11918/11918 [==============================] - 2s - loss: 0.0297 - acc: 0.9906 - val_loss: 0.0490 - val_acc: 0.9815\n"
     ]
    }
   ],
   "source": [
    "model.compile(loss='categorical_crossentropy',\n",
    "              optimizer='sgd',\n",
    "              metrics=['accuracy'])\n",
    "\n",
    "hist = model.fit(X_train, Y_train, batch_size=batch_size, \n",
    "          epochs=nb_epoch,verbose=1,\n",
    "          validation_data=(X_test, Y_test))"
   ]
  },
  {
   "cell_type": "code",
   "execution_count": 34,
   "metadata": {},
   "outputs": [
    {
     "data": {
      "text/plain": [
       "<matplotlib.legend.Legend at 0x7f0bbe438a58>"
      ]
     },
     "execution_count": 34,
     "metadata": {},
     "output_type": "execute_result"
    },
    {
     "data": {
      "image/png": "[encoded data removed]",
      "text/plain": [
       "<matplotlib.figure.Figure at 0x7f0bc328e668>"
      ]
     },
     "metadata": {},
     "output_type": "display_data"
    },
    {
     "data": {
      "image/png": "[encoded data removed]",
      "text/plain": [
       "<matplotlib.figure.Figure at 0x7f0bc3494ac8>"
      ]
     },
     "metadata": {},
     "output_type": "display_data"
    }
   ],
   "source": [
    "import matplotlib.pyplot as plt\n",
    "%matplotlib inline\n",
    "\n",
    "plt.figure()\n",
    "plt.xlabel('Epochs')\n",
    "plt.ylabel('Loss')\n",
    "plt.plot(hist.history['loss'])\n",
    "plt.plot(hist.history['val_loss'])\n",
    "plt.legend(['Training', 'Validation'])\n",
    "\n",
    "plt.figure()\n",
    "plt.xlabel('Epochs')\n",
    "plt.ylabel('Accuracy')\n",
    "plt.plot(hist.history['acc'])\n",
    "plt.plot(hist.history['val_acc'])\n",
    "plt.legend(['Training', 'Validation'], loc='lower right')"
   ]
  },
  {
   "cell_type": "code",
   "execution_count": 37,
   "metadata": {
    "slideshow": {
     "slide_type": "subslide"
    }
   },
   "outputs": [
    {
     "name": "stdout",
     "output_type": "stream",
     "text": [
      "Test score: 0.0490124784244\n",
      "Test accuracy: 0.9815\n"
     ]
    }
   ],
   "source": [
    "#Evaluating the model on the test data    \n",
    "score, accuracy = model.evaluate(X_test, Y_test, verbose=0)\n",
    "print('Test score:', score)\n",
    "print('Test accuracy:', accuracy)"
   ]
  },
  {
   "cell_type": "code",
   "execution_count": 38,
   "metadata": {
    "slideshow": {
     "slide_type": "subslide"
    }
   },
   "outputs": [
    {
     "data": {
      "image/png": "[encoded data removed]",
      "text/plain": [
       "<matplotlib.figure.Figure at 0x7f0bc2ce3940>"
      ]
     },
     "metadata": {},
     "output_type": "display_data"
    }
   ],
   "source": [
    "slice = 25\n",
    "predicted = model.predict(X_test[:slice]).argmax(-1)\n",
    "\n",
    "plt.figure(figsize=(16,8))\n",
    "for i in range(slice):\n",
    "    plt.subplot(1, slice, i+1)\n",
    "    plt.imshow(X_test_orig[i], interpolation='nearest')\n",
    "    plt.text(0, 0, predicted[i], color='black', \n",
    "             bbox=dict(facecolor='white', alpha=1))\n",
    "    plt.axis('off')"
   ]
  },
  {
   "cell_type": "markdown",
   "metadata": {
    "slideshow": {
     "slide_type": "slide"
    }
   },
   "source": [
    "# Adding more Convolution Layers"
   ]
  },
  {
   "cell_type": "code",
   "execution_count": 39,
   "metadata": {
    "slideshow": {
     "slide_type": "subslide"
    }
   },
   "outputs": [],
   "source": [
    "model = Sequential()\n",
    "model.add(Conv2D(nb_filters, (nb_conv, nb_conv),\n",
    "                 padding='valid', input_shape=shape_ord))\n",
    "model.add(Activation('relu'))\n",
    "model.add(Conv2D(nb_filters, (nb_conv, nb_conv)))\n",
    "model.add(Activation('relu'))\n",
    "model.add(MaxPooling2D(pool_size=(nb_pool, nb_pool)))\n",
    "model.add(Dropout(0.25))\n",
    "    \n",
    "model.add(Flatten())\n",
    "model.add(Dense(128))\n",
    "model.add(Activation('relu'))\n",
    "model.add(Dropout(0.5))\n",
    "model.add(Dense(nb_classes))\n",
    "model.add(Activation('softmax'))"
   ]
  },
  {
   "cell_type": "code",
   "execution_count": 40,
   "metadata": {
    "scrolled": true,
    "slideshow": {
     "slide_type": "subslide"
    }
   },
   "outputs": [
    {
     "name": "stdout",
     "output_type": "stream",
     "text": [
      "Train on 11918 samples, validate on 10000 samples\n",
      "Epoch 1/20\n",
      "11918/11918 [==============================] - 2s - loss: 0.3588 - acc: 0.8688 - val_loss: 0.1611 - val_acc: 0.9485\n",
      "Epoch 2/20\n",
      "11918/11918 [==============================] - 2s - loss: 0.1381 - acc: 0.9523 - val_loss: 0.0814 - val_acc: 0.9730\n",
      "Epoch 3/20\n",
      "11918/11918 [==============================] - 2s - loss: 0.1092 - acc: 0.9622 - val_loss: 0.0757 - val_acc: 0.9723\n",
      "Epoch 4/20\n",
      "11918/11918 [==============================] - 2s - loss: 0.0976 - acc: 0.9661 - val_loss: 0.0918 - val_acc: 0.9662\n",
      "Epoch 5/20\n",
      "11918/11918 [==============================] - 2s - loss: 0.0860 - acc: 0.9700 - val_loss: 0.0541 - val_acc: 0.9800\n",
      "Epoch 6/20\n",
      "11918/11918 [==============================] - 2s - loss: 0.0799 - acc: 0.9720 - val_loss: 0.0462 - val_acc: 0.9827\n",
      "Epoch 7/20\n",
      "11918/11918 [==============================] - 2s - loss: 0.0734 - acc: 0.9747 - val_loss: 0.0698 - val_acc: 0.9742\n",
      "Epoch 8/20\n",
      "11918/11918 [==============================] - 2s - loss: 0.0660 - acc: 0.9781 - val_loss: 0.0516 - val_acc: 0.9803\n",
      "Epoch 9/20\n",
      "11918/11918 [==============================] - 2s - loss: 0.0630 - acc: 0.9782 - val_loss: 0.0516 - val_acc: 0.9813\n",
      "Epoch 10/20\n",
      "11918/11918 [==============================] - 2s - loss: 0.0584 - acc: 0.9807 - val_loss: 0.0456 - val_acc: 0.9832\n",
      "Epoch 11/20\n",
      "11918/11918 [==============================] - 2s - loss: 0.0548 - acc: 0.9807 - val_loss: 0.0527 - val_acc: 0.9806\n",
      "Epoch 12/20\n",
      "11918/11918 [==============================] - 2s - loss: 0.0535 - acc: 0.9819 - val_loss: 0.0529 - val_acc: 0.9808\n",
      "Epoch 13/20\n",
      "11918/11918 [==============================] - 2s - loss: 0.0537 - acc: 0.9815 - val_loss: 0.0513 - val_acc: 0.9808\n",
      "Epoch 14/20\n",
      "11918/11918 [==============================] - 2s - loss: 0.0462 - acc: 0.9848 - val_loss: 0.0389 - val_acc: 0.9857\n",
      "Epoch 15/20\n",
      "11918/11918 [==============================] - 2s - loss: 0.0478 - acc: 0.9843 - val_loss: 0.0462 - val_acc: 0.9840\n",
      "Epoch 16/20\n",
      "11918/11918 [==============================] - 2s - loss: 0.0435 - acc: 0.9856 - val_loss: 0.0306 - val_acc: 0.9898\n",
      "Epoch 17/20\n",
      "11918/11918 [==============================] - 2s - loss: 0.0419 - acc: 0.9848 - val_loss: 0.0340 - val_acc: 0.9880\n",
      "Epoch 18/20\n",
      "11918/11918 [==============================] - 2s - loss: 0.0420 - acc: 0.9861 - val_loss: 0.0267 - val_acc: 0.9910\n",
      "Epoch 19/20\n",
      "11918/11918 [==============================] - 2s - loss: 0.0384 - acc: 0.9871 - val_loss: 0.0344 - val_acc: 0.9878\n",
      "Epoch 20/20\n",
      "11918/11918 [==============================] - 2s - loss: 0.0368 - acc: 0.9867 - val_loss: 0.0265 - val_acc: 0.9904\n"
     ]
    }
   ],
   "source": [
    "model.compile(loss='categorical_crossentropy',\n",
    "              optimizer='sgd',\n",
    "              metrics=['accuracy'])\n",
    "\n",
    "hist = model.fit(X_train, Y_train, batch_size=batch_size, \n",
    "          epochs=nb_epoch,verbose=1,\n",
    "          validation_data=(X_test, Y_test))"
   ]
  },
  {
   "cell_type": "code",
   "execution_count": 41,
   "metadata": {},
   "outputs": [
    {
     "data": {
      "text/plain": [
       "<matplotlib.legend.Legend at 0x7f0bc34c4f28>"
      ]
     },
     "execution_count": 41,
     "metadata": {},
     "output_type": "execute_result"
    },
    {
     "data": {
      "image/png": "[encoded data removed]",
      "text/plain": [
       "<matplotlib.figure.Figure at 0x7f0bebb77e80>"
      ]
     },
     "metadata": {},
     "output_type": "display_data"
    },
    {
     "data": {
      "image/png": "[encoded data removed]",
      "text/plain": [
       "<matplotlib.figure.Figure at 0x7f0bc2afd2b0>"
      ]
     },
     "metadata": {},
     "output_type": "display_data"
    }
   ],
   "source": [
    "import matplotlib.pyplot as plt\n",
    "%matplotlib inline\n",
    "\n",
    "plt.figure()\n",
    "plt.xlabel('Epochs')\n",
    "plt.ylabel('Loss')\n",
    "plt.plot(hist.history['loss'])\n",
    "plt.plot(hist.history['val_loss'])\n",
    "plt.legend(['Training', 'Validation'])\n",
    "\n",
    "plt.figure()\n",
    "plt.xlabel('Epochs')\n",
    "plt.ylabel('Accuracy')\n",
    "plt.plot(hist.history['acc'])\n",
    "plt.plot(hist.history['val_acc'])\n",
    "plt.legend(['Training', 'Validation'], loc='lower right')"
   ]
  },
  {
   "cell_type": "code",
   "execution_count": 42,
   "metadata": {},
   "outputs": [
    {
     "name": "stdout",
     "output_type": "stream",
     "text": [
      "Test score: 0.0264681635696\n",
      "Test accuracy: 0.9904\n"
     ]
    }
   ],
   "source": [
    "#Evaluating the model on the test data    \n",
    "score, accuracy = model.evaluate(X_test, Y_test, verbose=0)\n",
    "print('Test score:', score)\n",
    "print('Test accuracy:', accuracy)"
   ]
  },
  {
   "cell_type": "code",
   "execution_count": 43,
   "metadata": {
    "slideshow": {
     "slide_type": "subslide"
    }
   },
   "outputs": [
    {
     "data": {
      "image/png": "[encoded data removed]",
      "text/plain": [
       "<matplotlib.figure.Figure at 0x7f0bc34112e8>"
      ]
     },
     "metadata": {},
     "output_type": "display_data"
    }
   ],
   "source": [
    "slice = 25\n",
    "predicted = model.predict(X_test[:slice]).argmax(-1)\n",
    "\n",
    "plt.figure(figsize=(16,8))\n",
    "for i in range(slice):\n",
    "    plt.subplot(1, slice, i+1)\n",
    "    plt.imshow(X_test_orig[i], interpolation='nearest')\n",
    "    plt.text(0, 0, predicted[i], color='black', \n",
    "             bbox=dict(facecolor='white', alpha=1))\n",
    "    plt.axis('off')"
   ]
  },
  {
   "cell_type": "markdown",
   "metadata": {},
   "source": [
    "# Exercise\n",
    "\n",
    "The above code has been written as a function. \n",
    "\n",
    "Change some of the **hyperparameters** and see what happens. "
   ]
  },
  {
   "cell_type": "code",
   "execution_count": 49,
   "metadata": {},
   "outputs": [],
   "source": [
    "nb_epoch = 100"
   ]
  },
  {
   "cell_type": "code",
   "execution_count": 50,
   "metadata": {
    "slideshow": {
     "slide_type": "skip"
    }
   },
   "outputs": [],
   "source": [
    "# Function for constructing the convolution neural network\n",
    "# Feel free to add parameters, if you want\n",
    "\n",
    "def build_model():\n",
    "    \"\"\"\"\"\"\n",
    "    model = Sequential()\n",
    "    model.add(Conv2D(nb_filters, (nb_conv, nb_conv), \n",
    "                     padding='valid',\n",
    "                     input_shape=shape_ord))\n",
    "    model.add(Activation('relu'))\n",
    "    model.add(Conv2D(nb_filters, (nb_conv, nb_conv)))\n",
    "    model.add(Activation('relu'))\n",
    "    model.add(MaxPooling2D(pool_size=(nb_pool, nb_pool)))\n",
    "    model.add(Dropout(0.25))\n",
    "    \n",
    "    model.add(Flatten())\n",
    "    model.add(Dense(128))\n",
    "    model.add(Activation('relu'))\n",
    "    model.add(Dropout(0.5))\n",
    "    model.add(Dense(nb_classes))\n",
    "    model.add(Activation('softmax'))\n",
    "    \n",
    "    model.compile(loss='categorical_crossentropy',\n",
    "              optimizer='sgd',\n",
    "              metrics=['accuracy'])\n",
    "\n",
    "    hist = model.fit(X_train, Y_train, batch_size=batch_size, \n",
    "              epochs=nb_epoch,verbose=1,\n",
    "              validation_data=(X_test, Y_test))\n",
    "          \n",
    "\n",
    "    #Evaluating the model on the test data    \n",
    "    score, accuracy = model.evaluate(X_test, Y_test, verbose=0)\n",
    "    print('Test score:', score)\n",
    "    print('Test accuracy:', accuracy)"
   ]
  },
  {
   "cell_type": "code",
   "execution_count": 51,
   "metadata": {
    "scrolled": true
   },
   "outputs": [
    {
     "name": "stdout",
     "output_type": "stream",
     "text": [
      "Train on 11918 samples, validate on 10000 samples\n",
      "Epoch 1/100\n",
      "11918/11918 [==============================] - 2s - loss: 0.3640 - acc: 0.8620 - val_loss: 0.1271 - val_acc: 0.9621\n",
      "Epoch 2/100\n",
      "11918/11918 [==============================] - 2s - loss: 0.1312 - acc: 0.9549 - val_loss: 0.0938 - val_acc: 0.9668\n",
      "Epoch 3/100\n",
      "11918/11918 [==============================] - 2s - loss: 0.1092 - acc: 0.9635 - val_loss: 0.0868 - val_acc: 0.9688\n",
      "Epoch 4/100\n",
      "11918/11918 [==============================] - 2s - loss: 0.0971 - acc: 0.9677 - val_loss: 0.1005 - val_acc: 0.9631\n",
      "Epoch 5/100\n",
      "11918/11918 [==============================] - 2s - loss: 0.0851 - acc: 0.9710 - val_loss: 0.0539 - val_acc: 0.9806\n",
      "Epoch 6/100\n",
      "11918/11918 [==============================] - 2s - loss: 0.0771 - acc: 0.9741 - val_loss: 0.0611 - val_acc: 0.9795\n",
      "Epoch 7/100\n",
      "11918/11918 [==============================] - 2s - loss: 0.0707 - acc: 0.9770 - val_loss: 0.0664 - val_acc: 0.9767\n",
      "Epoch 8/100\n",
      "11918/11918 [==============================] - 2s - loss: 0.0651 - acc: 0.9791 - val_loss: 0.0411 - val_acc: 0.9851\n",
      "Epoch 9/100\n",
      "11918/11918 [==============================] - 2s - loss: 0.0619 - acc: 0.9794 - val_loss: 0.0749 - val_acc: 0.9717\n",
      "Epoch 10/100\n",
      "11918/11918 [==============================] - 2s - loss: 0.0616 - acc: 0.9804 - val_loss: 0.0481 - val_acc: 0.9817\n",
      "Epoch 11/100\n",
      "11918/11918 [==============================] - 2s - loss: 0.0554 - acc: 0.9825 - val_loss: 0.0464 - val_acc: 0.9826\n",
      "Epoch 12/100\n",
      "11918/11918 [==============================] - 2s - loss: 0.0515 - acc: 0.9838 - val_loss: 0.0495 - val_acc: 0.9818\n",
      "Epoch 13/100\n",
      "11918/11918 [==============================] - 2s - loss: 0.0506 - acc: 0.9833 - val_loss: 0.0318 - val_acc: 0.9889\n",
      "Epoch 14/100\n",
      "11918/11918 [==============================] - 2s - loss: 0.0462 - acc: 0.9845 - val_loss: 0.0448 - val_acc: 0.9830\n",
      "Epoch 15/100\n",
      "11918/11918 [==============================] - 2s - loss: 0.0458 - acc: 0.9832 - val_loss: 0.0314 - val_acc: 0.9879\n",
      "Epoch 16/100\n",
      "11918/11918 [==============================] - 2s - loss: 0.0443 - acc: 0.9849 - val_loss: 0.0359 - val_acc: 0.9864\n",
      "Epoch 17/100\n",
      "11918/11918 [==============================] - 2s - loss: 0.0417 - acc: 0.9863 - val_loss: 0.0339 - val_acc: 0.9874\n",
      "Epoch 18/100\n",
      "11918/11918 [==============================] - 2s - loss: 0.0407 - acc: 0.9869 - val_loss: 0.0318 - val_acc: 0.9885\n",
      "Epoch 19/100\n",
      "11918/11918 [==============================] - 2s - loss: 0.0388 - acc: 0.9863 - val_loss: 0.0281 - val_acc: 0.9902\n",
      "Epoch 20/100\n",
      "11918/11918 [==============================] - 2s - loss: 0.0357 - acc: 0.9884 - val_loss: 0.0225 - val_acc: 0.9928\n",
      "Epoch 21/100\n",
      "11918/11918 [==============================] - 2s - loss: 0.0356 - acc: 0.9868 - val_loss: 0.0355 - val_acc: 0.9873\n",
      "Epoch 22/100\n",
      "11918/11918 [==============================] - 2s - loss: 0.0351 - acc: 0.9878 - val_loss: 0.0256 - val_acc: 0.9904\n",
      "Epoch 23/100\n",
      "11918/11918 [==============================] - 2s - loss: 0.0337 - acc: 0.9888 - val_loss: 0.0417 - val_acc: 0.9853\n",
      "Epoch 24/100\n",
      "11918/11918 [==============================] - 2s - loss: 0.0330 - acc: 0.9884 - val_loss: 0.0308 - val_acc: 0.9889\n",
      "Epoch 25/100\n",
      "11918/11918 [==============================] - 2s - loss: 0.0321 - acc: 0.9883 - val_loss: 0.0272 - val_acc: 0.9905\n",
      "Epoch 26/100\n",
      "11918/11918 [==============================] - 2s - loss: 0.0306 - acc: 0.9889 - val_loss: 0.0309 - val_acc: 0.9889\n",
      "Epoch 27/100\n",
      "11918/11918 [==============================] - 2s - loss: 0.0291 - acc: 0.9890 - val_loss: 0.0269 - val_acc: 0.9902\n",
      "Epoch 28/100\n",
      "11918/11918 [==============================] - 2s - loss: 0.0284 - acc: 0.9902 - val_loss: 0.0325 - val_acc: 0.9885\n",
      "Epoch 29/100\n",
      "11918/11918 [==============================] - 2s - loss: 0.0268 - acc: 0.9911 - val_loss: 0.0321 - val_acc: 0.9879\n",
      "Epoch 30/100\n",
      "11918/11918 [==============================] - 2s - loss: 0.0270 - acc: 0.9904 - val_loss: 0.0213 - val_acc: 0.9921\n",
      "Epoch 31/100\n",
      "11918/11918 [==============================] - 2s - loss: 0.0265 - acc: 0.9902 - val_loss: 0.0287 - val_acc: 0.9898\n",
      "Epoch 32/100\n",
      "11918/11918 [==============================] - 2s - loss: 0.0235 - acc: 0.9909 - val_loss: 0.0301 - val_acc: 0.9890\n",
      "Epoch 33/100\n",
      "11918/11918 [==============================] - 2s - loss: 0.0240 - acc: 0.9919 - val_loss: 0.0264 - val_acc: 0.9907\n",
      "Epoch 34/100\n",
      "11918/11918 [==============================] - 3s - loss: 0.0220 - acc: 0.9925 - val_loss: 0.0249 - val_acc: 0.9913\n",
      "Epoch 35/100\n",
      "11918/11918 [==============================] - 3s - loss: 0.0224 - acc: 0.9919 - val_loss: 0.0213 - val_acc: 0.9924\n",
      "Epoch 36/100\n",
      "11918/11918 [==============================] - 3s - loss: 0.0205 - acc: 0.9940 - val_loss: 0.0264 - val_acc: 0.9912\n",
      "Epoch 37/100\n",
      "11918/11918 [==============================] - 3s - loss: 0.0242 - acc: 0.9914 - val_loss: 0.0287 - val_acc: 0.9905\n",
      "Epoch 38/100\n",
      "11918/11918 [==============================] - 3s - loss: 0.0210 - acc: 0.9925 - val_loss: 0.0250 - val_acc: 0.9908\n",
      "Epoch 39/100\n",
      "11918/11918 [==============================] - 3s - loss: 0.0222 - acc: 0.9933 - val_loss: 0.0220 - val_acc: 0.9921\n",
      "Epoch 40/100\n",
      "11918/11918 [==============================] - 3s - loss: 0.0198 - acc: 0.9931 - val_loss: 0.0181 - val_acc: 0.9935\n",
      "Epoch 41/100\n",
      "11918/11918 [==============================] - 3s - loss: 0.0195 - acc: 0.9934 - val_loss: 0.0242 - val_acc: 0.9917\n",
      "Epoch 42/100\n",
      "11918/11918 [==============================] - 3s - loss: 0.0191 - acc: 0.9938 - val_loss: 0.0220 - val_acc: 0.9928\n",
      "Epoch 43/100\n",
      "11918/11918 [==============================] - 3s - loss: 0.0186 - acc: 0.9935 - val_loss: 0.0253 - val_acc: 0.9910\n",
      "Epoch 44/100\n",
      "11918/11918 [==============================] - 3s - loss: 0.0182 - acc: 0.9942 - val_loss: 0.0253 - val_acc: 0.9915\n",
      "Epoch 45/100\n",
      "11918/11918 [==============================] - 5s - loss: 0.0180 - acc: 0.9936 - val_loss: 0.0192 - val_acc: 0.9932\n",
      "Epoch 46/100\n",
      "11918/11918 [==============================] - 6s - loss: 0.0181 - acc: 0.9940 - val_loss: 0.0302 - val_acc: 0.9896\n",
      "Epoch 47/100\n",
      "11918/11918 [==============================] - 5s - loss: 0.0163 - acc: 0.9951 - val_loss: 0.0209 - val_acc: 0.9925\n",
      "Epoch 48/100\n",
      "11918/11918 [==============================] - 6s - loss: 0.0173 - acc: 0.9936 - val_loss: 0.0205 - val_acc: 0.9927\n",
      "Epoch 49/100\n",
      "11918/11918 [==============================] - 5s - loss: 0.0162 - acc: 0.9942 - val_loss: 0.0251 - val_acc: 0.9914\n",
      "Epoch 50/100\n",
      "11918/11918 [==============================] - 5s - loss: 0.0158 - acc: 0.9946 - val_loss: 0.0239 - val_acc: 0.9920\n",
      "Epoch 51/100\n",
      "11918/11918 [==============================] - 5s - loss: 0.0154 - acc: 0.9943 - val_loss: 0.0160 - val_acc: 0.9946\n",
      "Epoch 52/100\n",
      "11918/11918 [==============================] - 6s - loss: 0.0165 - acc: 0.9940 - val_loss: 0.0183 - val_acc: 0.9929\n",
      "Epoch 53/100\n",
      "11918/11918 [==============================] - 5s - loss: 0.0165 - acc: 0.9939 - val_loss: 0.0175 - val_acc: 0.9934\n",
      "Epoch 54/100\n",
      "11918/11918 [==============================] - 5s - loss: 0.0158 - acc: 0.9950 - val_loss: 0.0197 - val_acc: 0.9929\n",
      "Epoch 55/100\n",
      "11918/11918 [==============================] - 5s - loss: 0.0163 - acc: 0.9945 - val_loss: 0.0237 - val_acc: 0.9918\n",
      "Epoch 56/100\n",
      "11918/11918 [==============================] - 5s - loss: 0.0135 - acc: 0.9955 - val_loss: 0.0199 - val_acc: 0.9930\n",
      "Epoch 57/100\n",
      "11918/11918 [==============================] - 5s - loss: 0.0150 - acc: 0.9960 - val_loss: 0.0195 - val_acc: 0.9932\n",
      "Epoch 58/100\n",
      "11918/11918 [==============================] - 5s - loss: 0.0141 - acc: 0.9952 - val_loss: 0.0182 - val_acc: 0.9935\n",
      "Epoch 59/100\n",
      "11918/11918 [==============================] - 5s - loss: 0.0142 - acc: 0.9945 - val_loss: 0.0245 - val_acc: 0.9913\n",
      "Epoch 60/100\n",
      "11918/11918 [==============================] - 5s - loss: 0.0120 - acc: 0.9972 - val_loss: 0.0237 - val_acc: 0.9922\n",
      "Epoch 61/100\n",
      "11918/11918 [==============================] - 5s - loss: 0.0156 - acc: 0.9951 - val_loss: 0.0219 - val_acc: 0.9925\n",
      "Epoch 62/100\n",
      "11918/11918 [==============================] - 5s - loss: 0.0104 - acc: 0.9971 - val_loss: 0.0189 - val_acc: 0.9933\n",
      "Epoch 63/100\n",
      "11918/11918 [==============================] - 5s - loss: 0.0112 - acc: 0.9961 - val_loss: 0.0189 - val_acc: 0.9934\n",
      "Epoch 64/100\n",
      "11918/11918 [==============================] - 5s - loss: 0.0122 - acc: 0.9963 - val_loss: 0.0253 - val_acc: 0.9914\n",
      "Epoch 65/100\n",
      "11918/11918 [==============================] - 5s - loss: 0.0119 - acc: 0.9959 - val_loss: 0.0157 - val_acc: 0.9945\n",
      "Epoch 66/100\n",
      "11918/11918 [==============================] - 5s - loss: 0.0144 - acc: 0.9945 - val_loss: 0.0221 - val_acc: 0.9919\n",
      "Epoch 67/100\n",
      "11918/11918 [==============================] - 5s - loss: 0.0118 - acc: 0.9961 - val_loss: 0.0186 - val_acc: 0.9931\n",
      "Epoch 68/100\n",
      "11918/11918 [==============================] - 5s - loss: 0.0116 - acc: 0.9963 - val_loss: 0.0213 - val_acc: 0.9922\n",
      "Epoch 69/100\n",
      "11918/11918 [==============================] - 5s - loss: 0.0116 - acc: 0.9962 - val_loss: 0.0173 - val_acc: 0.9941\n",
      "Epoch 70/100\n",
      "11918/11918 [==============================] - 5s - loss: 0.0121 - acc: 0.9960 - val_loss: 0.0201 - val_acc: 0.9927\n",
      "Epoch 71/100\n",
      "11918/11918 [==============================] - 5s - loss: 0.0113 - acc: 0.9961 - val_loss: 0.0231 - val_acc: 0.9922\n",
      "Epoch 72/100\n",
      "11918/11918 [==============================] - 5s - loss: 0.0112 - acc: 0.9964 - val_loss: 0.0187 - val_acc: 0.9938\n",
      "Epoch 73/100\n",
      "11918/11918 [==============================] - 5s - loss: 0.0101 - acc: 0.9967 - val_loss: 0.0211 - val_acc: 0.9930\n",
      "Epoch 74/100\n",
      "11918/11918 [==============================] - 5s - loss: 0.0097 - acc: 0.9969 - val_loss: 0.0181 - val_acc: 0.9939\n",
      "Epoch 75/100\n",
      "11918/11918 [==============================] - 5s - loss: 0.0113 - acc: 0.9962 - val_loss: 0.0198 - val_acc: 0.9932\n",
      "Epoch 76/100\n",
      "11918/11918 [==============================] - 5s - loss: 0.0109 - acc: 0.9964 - val_loss: 0.0226 - val_acc: 0.9924\n",
      "Epoch 77/100\n",
      "11918/11918 [==============================] - 5s - loss: 0.0094 - acc: 0.9968 - val_loss: 0.0198 - val_acc: 0.9934\n",
      "Epoch 78/100\n",
      "11918/11918 [==============================] - 5s - loss: 0.0097 - acc: 0.9968 - val_loss: 0.0163 - val_acc: 0.9940\n",
      "Epoch 79/100\n",
      "11918/11918 [==============================] - 5s - loss: 0.0100 - acc: 0.9971 - val_loss: 0.0219 - val_acc: 0.9927\n",
      "Epoch 80/100\n",
      "11918/11918 [==============================] - 5s - loss: 0.0111 - acc: 0.9964 - val_loss: 0.0181 - val_acc: 0.9937\n",
      "Epoch 81/100\n",
      "11918/11918 [==============================] - 5s - loss: 0.0093 - acc: 0.9967 - val_loss: 0.0214 - val_acc: 0.9925\n",
      "Epoch 82/100\n",
      "11918/11918 [==============================] - 5s - loss: 0.0097 - acc: 0.9966 - val_loss: 0.0194 - val_acc: 0.9932\n",
      "Epoch 83/100\n",
      "11918/11918 [==============================] - 5s - loss: 0.0095 - acc: 0.9966 - val_loss: 0.0212 - val_acc: 0.9929\n",
      "Epoch 84/100\n",
      "11918/11918 [==============================] - 6s - loss: 0.0093 - acc: 0.9966 - val_loss: 0.0180 - val_acc: 0.9938\n",
      "Epoch 85/100\n",
      "11918/11918 [==============================] - 5s - loss: 0.0083 - acc: 0.9974 - val_loss: 0.0191 - val_acc: 0.9937\n",
      "Epoch 86/100\n",
      "11918/11918 [==============================] - 5s - loss: 0.0089 - acc: 0.9976 - val_loss: 0.0212 - val_acc: 0.9927\n",
      "Epoch 87/100\n",
      "11918/11918 [==============================] - 5s - loss: 0.0083 - acc: 0.9973 - val_loss: 0.0160 - val_acc: 0.9951\n",
      "Epoch 88/100\n",
      "11918/11918 [==============================] - 6s - loss: 0.0085 - acc: 0.9967 - val_loss: 0.0183 - val_acc: 0.9939\n",
      "Epoch 89/100\n",
      "11918/11918 [==============================] - 5s - loss: 0.0086 - acc: 0.9967 - val_loss: 0.0193 - val_acc: 0.9934\n",
      "Epoch 90/100\n",
      "11918/11918 [==============================] - 5s - loss: 0.0089 - acc: 0.9967 - val_loss: 0.0173 - val_acc: 0.9940\n",
      "Epoch 91/100\n",
      "11918/11918 [==============================] - 5s - loss: 0.0084 - acc: 0.9971 - val_loss: 0.0222 - val_acc: 0.9930\n",
      "Epoch 92/100\n",
      "11918/11918 [==============================] - 5s - loss: 0.0084 - acc: 0.9973 - val_loss: 0.0191 - val_acc: 0.9935\n",
      "Epoch 93/100\n",
      "11918/11918 [==============================] - 5s - loss: 0.0080 - acc: 0.9970 - val_loss: 0.0181 - val_acc: 0.9938\n",
      "Epoch 94/100\n",
      "11918/11918 [==============================] - 5s - loss: 0.0087 - acc: 0.9970 - val_loss: 0.0202 - val_acc: 0.9934\n",
      "Epoch 95/100\n",
      "11918/11918 [==============================] - 5s - loss: 0.0080 - acc: 0.9972 - val_loss: 0.0181 - val_acc: 0.9938\n",
      "Epoch 96/100\n",
      "11918/11918 [==============================] - 5s - loss: 0.0063 - acc: 0.9980 - val_loss: 0.0194 - val_acc: 0.9936\n",
      "Epoch 97/100\n",
      "11918/11918 [==============================] - 5s - loss: 0.0059 - acc: 0.9981 - val_loss: 0.0219 - val_acc: 0.9932\n",
      "Epoch 98/100\n",
      "11918/11918 [==============================] - 5s - loss: 0.0068 - acc: 0.9977 - val_loss: 0.0164 - val_acc: 0.9943\n",
      "Epoch 99/100\n",
      "11918/11918 [==============================] - 5s - loss: 0.0071 - acc: 0.9978 - val_loss: 0.0235 - val_acc: 0.9925\n",
      "Epoch 100/100\n",
      "11918/11918 [==============================] - 5s - loss: 0.0076 - acc: 0.9971 - val_loss: 0.0198 - val_acc: 0.9934\n",
      "Test score: 0.0198151776133\n",
      "Test accuracy: 0.9934\n",
      "7min 32s ± 0 ns per loop (mean ± std. dev. of 1 run, 1 loop each)\n"
     ]
    }
   ],
   "source": [
    "#Timing how long it takes to build the model and test it.\n",
    "%timeit -n1 -r1 build_model()"
   ]
  },
  {
   "cell_type": "code",
   "execution_count": 56,
   "metadata": {},
   "outputs": [
    {
     "data": {
      "text/plain": [
       "<matplotlib.legend.Legend at 0x7f0bbda9e080>"
      ]
     },
     "execution_count": 56,
     "metadata": {},
     "output_type": "execute_result"
    },
    {
     "data": {
      "image/png": "[encoded data removed]",
      "text/plain": [
       "<matplotlib.figure.Figure at 0x7f0bc3172e10>"
      ]
     },
     "metadata": {},
     "output_type": "display_data"
    },
    {
     "data": {
      "image/png": "[encoded data removed]",
      "text/plain": [
       "<matplotlib.figure.Figure at 0x7f0bbdaeda20>"
      ]
     },
     "metadata": {},
     "output_type": "display_data"
    }
   ],
   "source": [
    "import matplotlib.pyplot as plt\n",
    "%matplotlib inline\n",
    "\n",
    "plt.figure()\n",
    "plt.xlabel('Epochs')\n",
    "plt.ylabel('Loss')\n",
    "plt.plot(hist.history['loss'])\n",
    "plt.plot(hist.history['val_loss'])\n",
    "plt.legend(['Training', 'Validation'])\n",
    "\n",
    "plt.figure()\n",
    "plt.xlabel('Epochs')\n",
    "plt.ylabel('Accuracy')\n",
    "plt.plot(hist.history['acc'])\n",
    "plt.plot(hist.history['val_acc'])\n",
    "plt.legend(['Training', 'Validation'], loc='lower right')"
   ]
  },
  {
   "cell_type": "code",
   "execution_count": 55,
   "metadata": {},
   "outputs": [
    {
     "name": "stdout",
     "output_type": "stream",
     "text": [
      "Test score: 0.0264681635696\n",
      "Test accuracy: 0.9904\n"
     ]
    }
   ],
   "source": [
    "#Evaluating the model on the test data    \n",
    "score, accuracy = model.evaluate(X_test, Y_test, verbose=0)\n",
    "print('Test score:', score)\n",
    "print('Test accuracy:', accuracy)"
   ]
  },
  {
   "cell_type": "code",
   "execution_count": 57,
   "metadata": {
    "slideshow": {
     "slide_type": "subslide"
    }
   },
   "outputs": [
    {
     "data": {
      "image/png": "[encoded data removed]",
      "text/plain": [
       "<matplotlib.figure.Figure at 0x7f0bc28fda90>"
      ]
     },
     "metadata": {},
     "output_type": "display_data"
    }
   ],
   "source": [
    "slice = 25\n",
    "predicted = model.predict(X_test[:slice]).argmax(-1)\n",
    "\n",
    "plt.figure(figsize=(16,8))\n",
    "for i in range(slice):\n",
    "    plt.subplot(1, slice, i+1)\n",
    "    plt.imshow(X_test_orig[i], interpolation='nearest')\n",
    "    plt.text(0, 0, predicted[i], color='black', \n",
    "             bbox=dict(facecolor='white', alpha=1))\n",
    "    plt.axis('off')"
   ]
  },
  {
   "cell_type": "markdown",
   "metadata": {},
   "source": [
    "---"
   ]
  },
  {
   "cell_type": "markdown",
   "metadata": {},
   "source": [
    "## Understanding Convolutional Layers Structure\n",
    "\n",
    "In this exercise we want to build a (_quite shallow_) network which contains two \n",
    "[Convolution, Convolution, MaxPooling] stages, and two Dense layers.\n",
    "\n",
    "To test a different optimizer, we will use [AdaDelta](http://keras.io/optimizers/), which is a bit more complex than the simple Vanilla SGD with momentum."
   ]
  },
  {
   "cell_type": "code",
   "execution_count": 58,
   "metadata": {},
   "outputs": [],
   "source": [
    "from keras.optimizers import Adadelta"
   ]
  },
  {
   "cell_type": "code",
   "execution_count": 59,
   "metadata": {},
   "outputs": [],
   "source": [
    "input_shape = shape_ord\n",
    "nb_classes = 10\n",
    "\n",
    "## [conv@32x3x3+relu]x2 --> MaxPool@2x2 --> DropOut@0.25 -->\n",
    "## [conv@64x3x3+relu]x2 --> MaxPool@2x2 --> DropOut@0.25 -->\n",
    "## Flatten--> FC@512+relu --> DropOut@0.5 --> FC@nb_classes+SoftMax\n",
    "## NOTE: each couple of Conv filters must have `border_mode=\"same\"` and `\"valid\"`, respectively"
   ]
  },
  {
   "cell_type": "code",
   "execution_count": 36,
   "metadata": {},
   "outputs": [],
   "source": [
    "# %load solutions/sol31.py"
   ]
  },
  {
   "cell_type": "markdown",
   "metadata": {},
   "source": [
    "### Understanding layer shapes\n",
    "\n",
    "An important feature of Keras layers is that each of them has an `input_shape` attribute, which you can use to visualize the shape of the input tensor, and an `output_shape` attribute, for inspecting the shape of the output tensor.\n",
    "\n",
    "As we can see, the input shape of the first convolutional layer corresponds to the `input_shape` attribute (which must be specified by the user). \n",
    "\n",
    "In this case, it is a `28x28` image with three color channels. \n",
    "\n",
    "Since this convolutional layer has the `padding` set to `same`, its output width and height will remain the same, and the number of output channel will be equal to the number of filters learned by the layer, 16. \n",
    "\n",
    "The following convolutional layer, instead, have the default `padding`, and therefore reduce width and height by $(k-1)$, where $k$ is the size of the kernel. \n",
    "\n",
    "`MaxPooling` layers, instead, reduce width and height of the input tensor, but keep the same number of channels. \n",
    "\n",
    "`Activation` layers, of course, don't change the shape."
   ]
  },
  {
   "cell_type": "code",
   "execution_count": null,
   "metadata": {},
   "outputs": [],
   "source": [
    "# model.summary()"
   ]
  },
  {
   "cell_type": "code",
   "execution_count": 60,
   "metadata": {},
   "outputs": [
    {
     "name": "stdout",
     "output_type": "stream",
     "text": [
      "Layer 0 \t conv2d_4 \t\t (None, 28, 28, 1) \t (None, 26, 26, 32)\n",
      "Layer 1 \t activation_9 \t\t (None, 26, 26, 32) \t (None, 26, 26, 32)\n",
      "Layer 2 \t conv2d_5 \t\t (None, 26, 26, 32) \t (None, 24, 24, 32)\n",
      "Layer 3 \t activation_10 \t\t (None, 24, 24, 32) \t (None, 24, 24, 32)\n",
      "Layer 4 \t max_pooling2d_1 \t\t (None, 24, 24, 32) \t (None, 12, 12, 32)\n",
      "Layer 5 \t dropout_2 \t\t (None, 12, 12, 32) \t (None, 12, 12, 32)\n",
      "Layer 6 \t flatten_4 \t\t (None, 12, 12, 32) \t (None, 4608)\n",
      "Layer 7 \t dense_6 \t\t (None, 4608) \t (None, 128)\n",
      "Layer 8 \t activation_11 \t\t (None, 128) \t (None, 128)\n",
      "Layer 9 \t dropout_3 \t\t (None, 128) \t (None, 128)\n",
      "Layer 10 \t dense_7 \t\t (None, 128) \t (None, 2)\n",
      "Layer 11 \t activation_12 \t\t (None, 2) \t (None, 2)\n"
     ]
    }
   ],
   "source": [
    "for i, layer in enumerate(model.layers):\n",
    "    print (\"Layer\", i, \"\\t\", layer.name, \"\\t\\t\", layer.input_shape, \"\\t\", layer.output_shape)"
   ]
  },
  {
   "cell_type": "markdown",
   "metadata": {},
   "source": [
    "### Understanding weights shape\n",
    "\n",
    "In the same way, we can visualize the shape of the weights learned by each layer. \n",
    "\n",
    "In particular, Keras lets you inspect weights by using the `get_weights` method of a layer object. \n",
    "\n",
    "This will return a list with two elements, the first one being the **weight tensor** and the second one being the **bias vector**.\n",
    "\n",
    "In particular:\n",
    "\n",
    "- **MaxPooling layer** don't have any weight tensor, since they don't have learnable parameters. \n",
    "\n",
    "\n",
    "- **Convolutional layers**, instead, learn a $(n_o, n_i, k, k)$ weight tensor, where $k$ is the size of the kernel, $n_i$ is the number of channels of the input tensor, and $n_o$ is the number of filters to be learned. \n",
    "\n",
    "For each of the $n_o$ filters, a bias is also learned. \n",
    "\n",
    "\n",
    "- **Dense layers** learn a $(n_i, n_o)$ weight tensor, where $n_o$ is the output size and $n_i$ is the input size of the layer. Each of the $n_o$ neurons also has a bias."
   ]
  },
  {
   "cell_type": "code",
   "execution_count": 61,
   "metadata": {},
   "outputs": [
    {
     "name": "stdout",
     "output_type": "stream",
     "text": [
      "Layer 0 \t conv2d_4 \t\t (3, 3, 1, 32) \t (32,)\n",
      "Layer 2 \t conv2d_5 \t\t (3, 3, 32, 32) \t (32,)\n",
      "Layer 7 \t dense_6 \t\t (4608, 128) \t (128,)\n",
      "Layer 10 \t dense_7 \t\t (128, 2) \t (2,)\n"
     ]
    }
   ],
   "source": [
    "for i, layer in enumerate(model.layers):\n",
    "    if len(layer.get_weights()) > 0:\n",
    "        W, b = layer.get_weights()\n",
    "        print(\"Layer\", i, \"\\t\", layer.name, \"\\t\\t\", W.shape, \"\\t\", b.shape)"
   ]
  },
  {
   "cell_type": "markdown",
   "metadata": {
    "slideshow": {
     "slide_type": "slide"
    }
   },
   "source": [
    "# Batch Normalisation"
   ]
  },
  {
   "cell_type": "markdown",
   "metadata": {},
   "source": [
    "Normalize the activations of the previous layer at each batch, i.e. applies a transformation that maintains the mean activation close to 0 and the activation standard deviation close to 1."
   ]
  },
  {
   "cell_type": "markdown",
   "metadata": {
    "slideshow": {
     "slide_type": "subslide"
    }
   },
   "source": [
    "## How to BatchNorm in Keras"
   ]
  },
  {
   "cell_type": "markdown",
   "metadata": {},
   "source": [
    "```python\n",
    "from keras.layers.normalization import BatchNormalization\n",
    "\n",
    "BatchNormalization(axis=-1, momentum=0.99, epsilon=0.001, center=True, scale=True, \n",
    "                   beta_initializer='zeros', gamma_initializer='ones', moving_mean_initializer='zeros',\n",
    "                   moving_variance_initializer='ones', beta_regularizer=None, gamma_regularizer=None,\n",
    "                   beta_constraint=None, gamma_constraint=None)\n",
    "```\n",
    "\n",
    "#### Arguments\n",
    "\n",
    "<ul>\n",
    "<li><strong>axis</strong>: Integer, the axis that should be normalized\n",
    "    (typically the features axis).\n",
    "    For instance, after a <code>Conv2D</code> layer with\n",
    "    <code>data_format=\"channels_first\"</code>,\n",
    "    set <code>axis=1</code> in <code>BatchNormalization</code>.</li>\n",
    "<li><strong>momentum</strong>: Momentum for the moving average.</li>\n",
    "<li><strong>epsilon</strong>: Small float added to variance to avoid dividing by zero.</li>\n",
    "<li><strong>center</strong>: If True, add offset of <code>beta</code> to normalized tensor.\n",
    "    If False, <code>beta</code> is ignored.</li>\n",
    "<li><strong>scale</strong>: If True, multiply by <code>gamma</code>.\n",
    "    If False, <code>gamma</code> is not used.\n",
    "    When the next layer is linear (also e.g. <code>nn.relu</code>),\n",
    "    this can be disabled since the scaling\n",
    "    will be done by the next layer.</li>\n",
    "<li><strong>beta_initializer</strong>: Initializer for the beta weight.</li>\n",
    "<li><strong>gamma_initializer</strong>: Initializer for the gamma weight.</li>\n",
    "<li><strong>moving_mean_initializer</strong>: Initializer for the moving mean.</li>\n",
    "<li><strong>moving_variance_initializer</strong>: Initializer for the moving variance.</li>\n",
    "<li><strong>beta_regularizer</strong>: Optional regularizer for the beta weight.</li>\n",
    "<li><strong>gamma_regularizer</strong>: Optional regularizer for the gamma weight.</li>\n",
    "<li><strong>beta_constraint</strong>: Optional constraint for the beta weight.</li>\n",
    "<li><strong>gamma_constraint</strong>: Optional constraint for the gamma weight.</li>\n",
    "</ul>"
   ]
  },
  {
   "cell_type": "markdown",
   "metadata": {},
   "source": [
    "### Excercise"
   ]
  },
  {
   "cell_type": "code",
   "execution_count": 39,
   "metadata": {
    "slideshow": {
     "slide_type": "subslide"
    }
   },
   "outputs": [],
   "source": [
    "# Try to add a new BatchNormalization layer to the Model \n",
    "# (after the Dropout layer) - before or after the ReLU Activation"
   ]
  },
  {
   "cell_type": "markdown",
   "metadata": {},
   "source": [
    "---\n",
    "\n",
    "## Addendum:\n",
    "\n",
    "* [CNN on CIFAR10](4.3 CIFAR10 CNN.ipynb)"
   ]
  }
 ],
 "metadata": {
  "kernelspec": {
   "display_name": "Python 3",
   "language": "python",
   "name": "python3"
  },
  "language_info": {
   "codemirror_mode": {
    "name": "ipython",
    "version": 3
   },
   "file_extension": ".py",
   "mimetype": "text/x-python",
   "name": "python",
   "nbconvert_exporter": "python",
   "pygments_lexer": "ipython3",
   "version": "3.6.4"
  }
 },
 "nbformat": 4,
 "nbformat_minor": 1
}
