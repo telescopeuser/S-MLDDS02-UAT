{
 "cells": [
  {
   "cell_type": "markdown",
   "metadata": {},
   "source": [
    "**MNIST (\"Modified National Institute of Standards and Technology\") is the de facto “hello world” dataset of computer vision. Since its release in 1999, this classic dataset of handwritten images has served as the basis for benchmarking classification algorithms. As new machine learning techniques emerge, MNIST remains a reliable resource for researchers and learners alike.**\n",
    "\n",
    "**Your goal is to correctly identify digits from a dataset of tens of thousands of handwritten images. **"
   ]
  },
  {
   "cell_type": "raw",
   "metadata": {},
   "source": [
    "Data Description:\n",
    "\n",
    "The data files train.csv and test.csv contain gray-scale images of hand-drawn digits, from zero through nine.\n",
    "\n",
    "Each image is 28 pixels in height and 28 pixels in width, for a total of 784 pixels in total. Each pixel has a single pixel-value associated with it, indicating the lightness or darkness of that pixel, with higher numbers meaning darker. This pixel-value is an integer between 0 and 255, inclusive.\n",
    "\n",
    "The training data set, (train.csv), has 785 columns. The first column, called \"label\", is the digit that was drawn by the user. The rest of the columns contain the pixel-values of the associated image.\n",
    "\n",
    "Each pixel column in the training set has a name like pixelx, where x is an integer between 0 and 783, inclusive. To locate this pixel on the image, suppose that we have decomposed x as x = i * 28 + j, where i and j are integers between 0 and 27, inclusive. Then pixelx is located on row i and column j of a 28 x 28 matrix, (indexing by zero).\n",
    "\n",
    "For example, pixel31 indicates the pixel that is in the fourth column from the left, and the second row from the top, as in the ascii-diagram below.\n",
    "\n",
    "Visually, if we omit the \"pixel\" prefix, the pixels make up the image like this:\n",
    "\n",
    "\n",
    "        000 001 002 003 ... 026 027\n",
    "        028 029 030 031 ... 054 055\n",
    "        056 057 058 059 ... 082 083\n",
    "         |   |   |   |  ...  |   |\n",
    "        728 729 730 731 ... 754 755\n",
    "        756 757 758 759 ... 782 783 \n",
    "        \n",
    "        \n",
    "The test data set, (test.csv), is the same as the training set, except that it does not contain the \"label\" column.\n",
    "\n",
    "Your submission file should be in the following format: For each of the 28000 images in the test set, output a single line containing the ImageId and the digit you predict. For example, if you predict that the first image is of a 3, the second image is of a 7, and the third image is of a 8, then your submission file would look like:\n",
    "\n",
    "\n",
    "        ImageId,Label\n",
    "        1,3\n",
    "        2,7\n",
    "        3,8 \n",
    "        (27997 more lines)\n",
    "        \n",
    "The evaluation metric for this contest is the categorization accuracy, or the proportion of test images that are correctly classified. For example, a categorization accuracy of 0.97 indicates that you have correctly classified all but 3% of the images."
   ]
  },
  {
   "cell_type": "code",
   "execution_count": 1,
   "metadata": {},
   "outputs": [],
   "source": [
    "import tensorflow as tf\n",
    "import numpy as np\n",
    "import math\n",
    "import matplotlib.pyplot as plt\n",
    "import pandas as pd\n",
    "from tensorflow.contrib.learn.python.learn.datasets.mnist import read_data_sets\n",
    "tf.set_random_seed(0)"
   ]
  },
  {
   "cell_type": "markdown",
   "metadata": {},
   "source": [
    "## Read data from csv. file"
   ]
  },
  {
   "cell_type": "markdown",
   "metadata": {},
   "source": [
    "Data has been downloaded already!\n",
    "\n",
    "Original reference: The csv file we are using can be found here: https://www.kaggle.com/c/digit-recognizer/data"
   ]
  },
  {
   "cell_type": "code",
   "execution_count": 2,
   "metadata": {},
   "outputs": [],
   "source": [
    "# Read in training data from train.csv\n",
    "dfTrain = pd.read_csv('train.csv')\n",
    "dfTrainFeatureVectors = dfTrain.drop(['label'], axis=1)\n",
    "trainFeatureVectors = dfTrainFeatureVectors.values.astype(dtype=np.float32)\n",
    "trainFeatureVectorsConvoFormat = trainFeatureVectors.reshape(42000, 28, 28, 1)\n",
    "\n",
    "trainLabelsList = dfTrain['label'].tolist()\n",
    "ohTrainLabelsTensor = tf.one_hot(trainLabelsList, depth=10)\n",
    "ohTrainLabelsNdarray = tf.Session().run(ohTrainLabelsTensor).astype(dtype=np.float64)\n",
    "\n",
    "# Read in testing data from test.csv\n",
    "dfTest = pd.read_csv('test.csv')\n",
    "testFeatureVectors = dfTest.values.astype(dtype=np.float32)\n",
    "testFeatureVectorsConvoFormat = testFeatureVectors.reshape(28000, 28, 28, 1)"
   ]
  },
  {
   "cell_type": "code",
   "execution_count": 3,
   "metadata": {},
   "outputs": [
    {
     "data": {
      "text/plain": [
       "42000"
      ]
     },
     "execution_count": 3,
     "metadata": {},
     "output_type": "execute_result"
    }
   ],
   "source": [
    "len(dfTrain)"
   ]
  },
  {
   "cell_type": "code",
   "execution_count": 4,
   "metadata": {},
   "outputs": [
    {
     "data": {
      "text/html": [
       "<div>\n",
       "<style scoped>\n",
       "    .dataframe tbody tr th:only-of-type {\n",
       "        vertical-align: middle;\n",
       "    }\n",
       "\n",
       "    .dataframe tbody tr th {\n",
       "        vertical-align: top;\n",
       "    }\n",
       "\n",
       "    .dataframe thead th {\n",
       "        text-align: right;\n",
       "    }\n",
       "</style>\n",
       "<table border=\"1\" class=\"dataframe\">\n",
       "  <thead>\n",
       "    <tr style=\"text-align: right;\">\n",
       "      <th></th>\n",
       "      <th>label</th>\n",
       "      <th>pixel0</th>\n",
       "      <th>pixel1</th>\n",
       "      <th>pixel2</th>\n",
       "      <th>pixel3</th>\n",
       "      <th>pixel4</th>\n",
       "      <th>pixel5</th>\n",
       "      <th>pixel6</th>\n",
       "      <th>pixel7</th>\n",
       "      <th>pixel8</th>\n",
       "      <th>...</th>\n",
       "      <th>pixel774</th>\n",
       "      <th>pixel775</th>\n",
       "      <th>pixel776</th>\n",
       "      <th>pixel777</th>\n",
       "      <th>pixel778</th>\n",
       "      <th>pixel779</th>\n",
       "      <th>pixel780</th>\n",
       "      <th>pixel781</th>\n",
       "      <th>pixel782</th>\n",
       "      <th>pixel783</th>\n",
       "    </tr>\n",
       "  </thead>\n",
       "  <tbody>\n",
       "    <tr>\n",
       "      <th>0</th>\n",
       "      <td>1</td>\n",
       "      <td>0</td>\n",
       "      <td>0</td>\n",
       "      <td>0</td>\n",
       "      <td>0</td>\n",
       "      <td>0</td>\n",
       "      <td>0</td>\n",
       "      <td>0</td>\n",
       "      <td>0</td>\n",
       "      <td>0</td>\n",
       "      <td>...</td>\n",
       "      <td>0</td>\n",
       "      <td>0</td>\n",
       "      <td>0</td>\n",
       "      <td>0</td>\n",
       "      <td>0</td>\n",
       "      <td>0</td>\n",
       "      <td>0</td>\n",
       "      <td>0</td>\n",
       "      <td>0</td>\n",
       "      <td>0</td>\n",
       "    </tr>\n",
       "    <tr>\n",
       "      <th>1</th>\n",
       "      <td>0</td>\n",
       "      <td>0</td>\n",
       "      <td>0</td>\n",
       "      <td>0</td>\n",
       "      <td>0</td>\n",
       "      <td>0</td>\n",
       "      <td>0</td>\n",
       "      <td>0</td>\n",
       "      <td>0</td>\n",
       "      <td>0</td>\n",
       "      <td>...</td>\n",
       "      <td>0</td>\n",
       "      <td>0</td>\n",
       "      <td>0</td>\n",
       "      <td>0</td>\n",
       "      <td>0</td>\n",
       "      <td>0</td>\n",
       "      <td>0</td>\n",
       "      <td>0</td>\n",
       "      <td>0</td>\n",
       "      <td>0</td>\n",
       "    </tr>\n",
       "    <tr>\n",
       "      <th>2</th>\n",
       "      <td>1</td>\n",
       "      <td>0</td>\n",
       "      <td>0</td>\n",
       "      <td>0</td>\n",
       "      <td>0</td>\n",
       "      <td>0</td>\n",
       "      <td>0</td>\n",
       "      <td>0</td>\n",
       "      <td>0</td>\n",
       "      <td>0</td>\n",
       "      <td>...</td>\n",
       "      <td>0</td>\n",
       "      <td>0</td>\n",
       "      <td>0</td>\n",
       "      <td>0</td>\n",
       "      <td>0</td>\n",
       "      <td>0</td>\n",
       "      <td>0</td>\n",
       "      <td>0</td>\n",
       "      <td>0</td>\n",
       "      <td>0</td>\n",
       "    </tr>\n",
       "    <tr>\n",
       "      <th>3</th>\n",
       "      <td>4</td>\n",
       "      <td>0</td>\n",
       "      <td>0</td>\n",
       "      <td>0</td>\n",
       "      <td>0</td>\n",
       "      <td>0</td>\n",
       "      <td>0</td>\n",
       "      <td>0</td>\n",
       "      <td>0</td>\n",
       "      <td>0</td>\n",
       "      <td>...</td>\n",
       "      <td>0</td>\n",
       "      <td>0</td>\n",
       "      <td>0</td>\n",
       "      <td>0</td>\n",
       "      <td>0</td>\n",
       "      <td>0</td>\n",
       "      <td>0</td>\n",
       "      <td>0</td>\n",
       "      <td>0</td>\n",
       "      <td>0</td>\n",
       "    </tr>\n",
       "    <tr>\n",
       "      <th>4</th>\n",
       "      <td>0</td>\n",
       "      <td>0</td>\n",
       "      <td>0</td>\n",
       "      <td>0</td>\n",
       "      <td>0</td>\n",
       "      <td>0</td>\n",
       "      <td>0</td>\n",
       "      <td>0</td>\n",
       "      <td>0</td>\n",
       "      <td>0</td>\n",
       "      <td>...</td>\n",
       "      <td>0</td>\n",
       "      <td>0</td>\n",
       "      <td>0</td>\n",
       "      <td>0</td>\n",
       "      <td>0</td>\n",
       "      <td>0</td>\n",
       "      <td>0</td>\n",
       "      <td>0</td>\n",
       "      <td>0</td>\n",
       "      <td>0</td>\n",
       "    </tr>\n",
       "  </tbody>\n",
       "</table>\n",
       "<p>5 rows × 785 columns</p>\n",
       "</div>"
      ],
      "text/plain": [
       "   label  pixel0  pixel1  pixel2  pixel3  pixel4  pixel5  pixel6  pixel7  \\\n",
       "0      1       0       0       0       0       0       0       0       0   \n",
       "1      0       0       0       0       0       0       0       0       0   \n",
       "2      1       0       0       0       0       0       0       0       0   \n",
       "3      4       0       0       0       0       0       0       0       0   \n",
       "4      0       0       0       0       0       0       0       0       0   \n",
       "\n",
       "   pixel8    ...     pixel774  pixel775  pixel776  pixel777  pixel778  \\\n",
       "0       0    ...            0         0         0         0         0   \n",
       "1       0    ...            0         0         0         0         0   \n",
       "2       0    ...            0         0         0         0         0   \n",
       "3       0    ...            0         0         0         0         0   \n",
       "4       0    ...            0         0         0         0         0   \n",
       "\n",
       "   pixel779  pixel780  pixel781  pixel782  pixel783  \n",
       "0         0         0         0         0         0  \n",
       "1         0         0         0         0         0  \n",
       "2         0         0         0         0         0  \n",
       "3         0         0         0         0         0  \n",
       "4         0         0         0         0         0  \n",
       "\n",
       "[5 rows x 785 columns]"
      ]
     },
     "execution_count": 4,
     "metadata": {},
     "output_type": "execute_result"
    }
   ],
   "source": [
    "dfTrain.head()"
   ]
  },
  {
   "cell_type": "code",
   "execution_count": 5,
   "metadata": {},
   "outputs": [
    {
     "data": {
      "text/html": [
       "<div>\n",
       "<style scoped>\n",
       "    .dataframe tbody tr th:only-of-type {\n",
       "        vertical-align: middle;\n",
       "    }\n",
       "\n",
       "    .dataframe tbody tr th {\n",
       "        vertical-align: top;\n",
       "    }\n",
       "\n",
       "    .dataframe thead th {\n",
       "        text-align: right;\n",
       "    }\n",
       "</style>\n",
       "<table border=\"1\" class=\"dataframe\">\n",
       "  <thead>\n",
       "    <tr style=\"text-align: right;\">\n",
       "      <th></th>\n",
       "      <th>pixel0</th>\n",
       "      <th>pixel1</th>\n",
       "      <th>pixel2</th>\n",
       "      <th>pixel3</th>\n",
       "      <th>pixel4</th>\n",
       "      <th>pixel5</th>\n",
       "      <th>pixel6</th>\n",
       "      <th>pixel7</th>\n",
       "      <th>pixel8</th>\n",
       "      <th>pixel9</th>\n",
       "      <th>...</th>\n",
       "      <th>pixel774</th>\n",
       "      <th>pixel775</th>\n",
       "      <th>pixel776</th>\n",
       "      <th>pixel777</th>\n",
       "      <th>pixel778</th>\n",
       "      <th>pixel779</th>\n",
       "      <th>pixel780</th>\n",
       "      <th>pixel781</th>\n",
       "      <th>pixel782</th>\n",
       "      <th>pixel783</th>\n",
       "    </tr>\n",
       "  </thead>\n",
       "  <tbody>\n",
       "    <tr>\n",
       "      <th>0</th>\n",
       "      <td>0</td>\n",
       "      <td>0</td>\n",
       "      <td>0</td>\n",
       "      <td>0</td>\n",
       "      <td>0</td>\n",
       "      <td>0</td>\n",
       "      <td>0</td>\n",
       "      <td>0</td>\n",
       "      <td>0</td>\n",
       "      <td>0</td>\n",
       "      <td>...</td>\n",
       "      <td>0</td>\n",
       "      <td>0</td>\n",
       "      <td>0</td>\n",
       "      <td>0</td>\n",
       "      <td>0</td>\n",
       "      <td>0</td>\n",
       "      <td>0</td>\n",
       "      <td>0</td>\n",
       "      <td>0</td>\n",
       "      <td>0</td>\n",
       "    </tr>\n",
       "    <tr>\n",
       "      <th>1</th>\n",
       "      <td>0</td>\n",
       "      <td>0</td>\n",
       "      <td>0</td>\n",
       "      <td>0</td>\n",
       "      <td>0</td>\n",
       "      <td>0</td>\n",
       "      <td>0</td>\n",
       "      <td>0</td>\n",
       "      <td>0</td>\n",
       "      <td>0</td>\n",
       "      <td>...</td>\n",
       "      <td>0</td>\n",
       "      <td>0</td>\n",
       "      <td>0</td>\n",
       "      <td>0</td>\n",
       "      <td>0</td>\n",
       "      <td>0</td>\n",
       "      <td>0</td>\n",
       "      <td>0</td>\n",
       "      <td>0</td>\n",
       "      <td>0</td>\n",
       "    </tr>\n",
       "    <tr>\n",
       "      <th>2</th>\n",
       "      <td>0</td>\n",
       "      <td>0</td>\n",
       "      <td>0</td>\n",
       "      <td>0</td>\n",
       "      <td>0</td>\n",
       "      <td>0</td>\n",
       "      <td>0</td>\n",
       "      <td>0</td>\n",
       "      <td>0</td>\n",
       "      <td>0</td>\n",
       "      <td>...</td>\n",
       "      <td>0</td>\n",
       "      <td>0</td>\n",
       "      <td>0</td>\n",
       "      <td>0</td>\n",
       "      <td>0</td>\n",
       "      <td>0</td>\n",
       "      <td>0</td>\n",
       "      <td>0</td>\n",
       "      <td>0</td>\n",
       "      <td>0</td>\n",
       "    </tr>\n",
       "    <tr>\n",
       "      <th>3</th>\n",
       "      <td>0</td>\n",
       "      <td>0</td>\n",
       "      <td>0</td>\n",
       "      <td>0</td>\n",
       "      <td>0</td>\n",
       "      <td>0</td>\n",
       "      <td>0</td>\n",
       "      <td>0</td>\n",
       "      <td>0</td>\n",
       "      <td>0</td>\n",
       "      <td>...</td>\n",
       "      <td>0</td>\n",
       "      <td>0</td>\n",
       "      <td>0</td>\n",
       "      <td>0</td>\n",
       "      <td>0</td>\n",
       "      <td>0</td>\n",
       "      <td>0</td>\n",
       "      <td>0</td>\n",
       "      <td>0</td>\n",
       "      <td>0</td>\n",
       "    </tr>\n",
       "    <tr>\n",
       "      <th>4</th>\n",
       "      <td>0</td>\n",
       "      <td>0</td>\n",
       "      <td>0</td>\n",
       "      <td>0</td>\n",
       "      <td>0</td>\n",
       "      <td>0</td>\n",
       "      <td>0</td>\n",
       "      <td>0</td>\n",
       "      <td>0</td>\n",
       "      <td>0</td>\n",
       "      <td>...</td>\n",
       "      <td>0</td>\n",
       "      <td>0</td>\n",
       "      <td>0</td>\n",
       "      <td>0</td>\n",
       "      <td>0</td>\n",
       "      <td>0</td>\n",
       "      <td>0</td>\n",
       "      <td>0</td>\n",
       "      <td>0</td>\n",
       "      <td>0</td>\n",
       "    </tr>\n",
       "  </tbody>\n",
       "</table>\n",
       "<p>5 rows × 784 columns</p>\n",
       "</div>"
      ],
      "text/plain": [
       "   pixel0  pixel1  pixel2  pixel3  pixel4  pixel5  pixel6  pixel7  pixel8  \\\n",
       "0       0       0       0       0       0       0       0       0       0   \n",
       "1       0       0       0       0       0       0       0       0       0   \n",
       "2       0       0       0       0       0       0       0       0       0   \n",
       "3       0       0       0       0       0       0       0       0       0   \n",
       "4       0       0       0       0       0       0       0       0       0   \n",
       "\n",
       "   pixel9    ...     pixel774  pixel775  pixel776  pixel777  pixel778  \\\n",
       "0       0    ...            0         0         0         0         0   \n",
       "1       0    ...            0         0         0         0         0   \n",
       "2       0    ...            0         0         0         0         0   \n",
       "3       0    ...            0         0         0         0         0   \n",
       "4       0    ...            0         0         0         0         0   \n",
       "\n",
       "   pixel779  pixel780  pixel781  pixel782  pixel783  \n",
       "0         0         0         0         0         0  \n",
       "1         0         0         0         0         0  \n",
       "2         0         0         0         0         0  \n",
       "3         0         0         0         0         0  \n",
       "4         0         0         0         0         0  \n",
       "\n",
       "[5 rows x 784 columns]"
      ]
     },
     "execution_count": 5,
     "metadata": {},
     "output_type": "execute_result"
    }
   ],
   "source": [
    "dfTest.head()"
   ]
  },
  {
   "cell_type": "markdown",
   "metadata": {},
   "source": [
    "## Display image from csv. file"
   ]
  },
  {
   "cell_type": "markdown",
   "metadata": {},
   "source": [
    "This lets us verify that we have read in and structured the data correctly."
   ]
  },
  {
   "cell_type": "markdown",
   "metadata": {},
   "source": [
    "### Training image"
   ]
  },
  {
   "cell_type": "code",
   "execution_count": 8,
   "metadata": {},
   "outputs": [
    {
     "data": {
      "image/png": "[encoded data removed]",
      "text/plain": [
       "<matplotlib.figure.Figure at 0x7fc8f8d2a160>"
      ]
     },
     "metadata": {},
     "output_type": "display_data"
    },
    {
     "data": {
      "image/png": "[encoded data removed]",
      "text/plain": [
       "<matplotlib.figure.Figure at 0x7fc8f8d58be0>"
      ]
     },
     "metadata": {},
     "output_type": "display_data"
    },
    {
     "data": {
      "image/png": "[encoded data removed]",
      "text/plain": [
       "<matplotlib.figure.Figure at 0x7fc8f8c6de80>"
      ]
     },
     "metadata": {},
     "output_type": "display_data"
    },
    {
     "data": {
      "image/png": "[encoded data removed]",
      "text/plain": [
       "<matplotlib.figure.Figure at 0x7fc8f8c35780>"
      ]
     },
     "metadata": {},
     "output_type": "display_data"
    },
    {
     "data": {
      "image/png": "[encoded data removed]",
      "text/plain": [
       "<matplotlib.figure.Figure at 0x7fc8f8b9b470>"
      ]
     },
     "metadata": {},
     "output_type": "display_data"
    }
   ],
   "source": [
    "for i in range(0, 5):\n",
    "# Display an image read in from the CSV\n",
    "# testFeatureVectorsConvoFormat values are: [2, 0, 9, 0, 3, 7, ...]\n",
    "    pixels = trainFeatureVectorsConvoFormat[i].reshape((28, 28))\n",
    "    plt.imshow(pixels, cmap='gray')\n",
    "    plt.show()"
   ]
  },
  {
   "cell_type": "markdown",
   "metadata": {},
   "source": [
    "### Test image"
   ]
  },
  {
   "cell_type": "code",
   "execution_count": 9,
   "metadata": {},
   "outputs": [
    {
     "data": {
      "image/png": "[encoded data removed]",
      "text/plain": [
       "<matplotlib.figure.Figure at 0x7fc8f8b50588>"
      ]
     },
     "metadata": {},
     "output_type": "display_data"
    },
    {
     "data": {
      "image/png": "[encoded data removed]",
      "text/plain": [
       "<matplotlib.figure.Figure at 0x7fc8f8ad2518>"
      ]
     },
     "metadata": {},
     "output_type": "display_data"
    },
    {
     "data": {
      "image/png": "[encoded data removed]",
      "text/plain": [
       "<matplotlib.figure.Figure at 0x7fc8f8abee80>"
      ]
     },
     "metadata": {},
     "output_type": "display_data"
    },
    {
     "data": {
      "image/png": "[encoded data removed]",
      "text/plain": [
       "<matplotlib.figure.Figure at 0x7fc8f8a05780>"
      ]
     },
     "metadata": {},
     "output_type": "display_data"
    },
    {
     "data": {
      "image/png": "[encoded data removed]",
      "text/plain": [
       "<matplotlib.figure.Figure at 0x7fc8f89eb0b8>"
      ]
     },
     "metadata": {},
     "output_type": "display_data"
    }
   ],
   "source": [
    "for i in range(0, 5):\n",
    "# Display an image read in from the CSV\n",
    "# testFeatureVectorsConvoFormat values are: [2, 0, 9, 0, 3, 7, ...]\n",
    "    pixels = testFeatureVectorsConvoFormat[i].reshape((28, 28))\n",
    "    plt.imshow(pixels, cmap='gray')\n",
    "    plt.show()"
   ]
  },
  {
   "cell_type": "markdown",
   "metadata": {},
   "source": [
    "## Construct TensorFlow graph"
   ]
  },
  {
   "cell_type": "code",
   "execution_count": 10,
   "metadata": {},
   "outputs": [],
   "source": [
    "# Define Tensorflow graph\n",
    "X = tf.placeholder(tf.float32, [None, 28, 28, 1])\n",
    "Y_ = tf.placeholder(tf.float32, [None, 10])\n",
    "lr = tf.placeholder(tf.float32)\n",
    "pkeep = tf.placeholder(tf.float32)\n",
    "\n",
    "K = 6  # first convolutional layer output depth\n",
    "L = 12  # second convolutional layer output depth\n",
    "M = 24  # third convolutional layer\n",
    "N = 200  # fully connected layer (softmax)\n",
    "\n",
    "W1 = tf.Variable(tf.truncated_normal([6, 6, 1, K], stddev=0.1))  # 6x6 patch, 1 input channel, K output channels\n",
    "B1 = tf.Variable(tf.constant(0.1, tf.float32, [K]))\n",
    "W2 = tf.Variable(tf.truncated_normal([5, 5, K, L], stddev=0.1))\n",
    "B2 = tf.Variable(tf.constant(0.1, tf.float32, [L]))\n",
    "W3 = tf.Variable(tf.truncated_normal([4, 4, L, M], stddev=0.1))\n",
    "B3 = tf.Variable(tf.constant(0.1, tf.float32, [M]))\n",
    "\n",
    "W4 = tf.Variable(tf.truncated_normal([7 * 7 * M, N], stddev=0.1))\n",
    "B4 = tf.Variable(tf.constant(0.1, tf.float32, [N]))\n",
    "\n",
    "W5 = tf.Variable(tf.truncated_normal([N, 10], stddev=0.1))\n",
    "B5 = tf.Variable(tf.constant(0.1, tf.float32, [10]))\n",
    "\n",
    "# The model\n",
    "stride = 1  # output is 28x28\n",
    "Y1 = tf.nn.relu(tf.nn.conv2d(X, W1, strides=[1, stride, stride, 1], padding='SAME') + B1)\n",
    "stride = 2  # output is 14x14\n",
    "Y2 = tf.nn.relu(tf.nn.conv2d(Y1, W2, strides=[1, stride, stride, 1], padding='SAME') + B2)\n",
    "stride = 2  # output is 7x7\n",
    "Y3 = tf.nn.relu(tf.nn.conv2d(Y2, W3, strides=[1, stride, stride, 1], padding='SAME') + B3)\n",
    "\n",
    "# reshape the output from the third convolution for the fully connected layer\n",
    "YY = tf.reshape(Y3, shape=[-1, 7 * 7 * M])\n",
    "\n",
    "Y4 = tf.nn.relu(tf.matmul(YY, W4) + B4)\n",
    "YY4 = tf.nn.dropout(Y4, pkeep)\n",
    "Ylogits = tf.matmul(YY4, W5) + B5\n",
    "Y = tf.nn.softmax(Ylogits)"
   ]
  },
  {
   "cell_type": "markdown",
   "metadata": {},
   "source": [
    "## Define calculations we need from the Neural Network"
   ]
  },
  {
   "cell_type": "code",
   "execution_count": 11,
   "metadata": {},
   "outputs": [],
   "source": [
    "cross_entropy = tf.nn.softmax_cross_entropy_with_logits(logits=Ylogits, labels=Y_)\n",
    "cross_entropy = tf.reduce_mean(cross_entropy)*100\n",
    "\n",
    "# accuracy of the trained model, between 0 (worst) and 1 (best)\n",
    "correct_prediction = tf.equal(tf.argmax(Y, 1), tf.argmax(Y_, 1))\n",
    "accuracy = tf.reduce_mean(tf.cast(correct_prediction, tf.float32))\n",
    "predictions = tf.argmax(Y, 1)\n",
    "\n",
    "# training step, the learning rate is a placeholder\n",
    "train_step = tf.train.AdamOptimizer(lr).minimize(cross_entropy)"
   ]
  },
  {
   "cell_type": "markdown",
   "metadata": {},
   "source": [
    "## Train the Neural Network <font color = red>(Warning: this process roughly takes 30 minutes!)"
   ]
  },
  {
   "cell_type": "code",
   "execution_count": 12,
   "metadata": {},
   "outputs": [
    {
     "name": "stdout",
     "output_type": "stream",
     "text": [
      "How many iterations will scan through the entire train image set?\n"
     ]
    }
   ],
   "source": [
    "print('How many iterations will scan through the entire train image set?')\n",
    "# 5000*100/32000"
   ]
  },
  {
   "cell_type": "code",
   "execution_count": 13,
   "metadata": {
    "scrolled": false
   },
   "outputs": [
    {
     "name": "stdout",
     "output_type": "stream",
     "text": [
      "0: training accuracy: 0.08 training loss: 10016.8 (lr:0.003)\n",
      "0: ********* validation accuracy: 0.0741 test loss: 10146.0\n",
      "100: training accuracy: 0.93 training loss: 31.3368 (lr:0.0028585653310520707)\n",
      "200: training accuracy: 0.94 training loss: 24.7336 (lr:0.0027240285123042826)\n",
      "300: training accuracy: 0.95 training loss: 19.0238 (lr:0.0025960531316326675)\n",
      "400: training accuracy: 0.96 training loss: 16.7652 (lr:0.0024743191839261473)\n",
      "500: training accuracy: 0.99 training loss: 6.09752 (lr:0.002358522270907074)\n",
      "500: ********* validation accuracy: 0.9572 test loss: 13.3868\n",
      "600: training accuracy: 0.95 training loss: 20.4465 (lr:0.002248372839976982)\n",
      "700: training accuracy: 0.98 training loss: 3.77514 (lr:0.002143595460184269)\n",
      "800: training accuracy: 0.99 training loss: 3.35053 (lr:0.002043928133503354)\n",
      "900: training accuracy: 0.98 training loss: 5.57409 (lr:0.001949121639703143)\n",
      "1000: training accuracy: 0.98 training loss: 4.06111 (lr:0.0018589389131666372)\n",
      "1000: ********* validation accuracy: 0.9709 test loss: 9.39736\n",
      "1100: training accuracy: 0.98 training loss: 7.36194 (lr:0.0017731544501034114)\n",
      "1200: training accuracy: 1.0 training loss: 1.36778 (lr:0.0016915537446726768)\n",
      "1300: training accuracy: 1.0 training loss: 0.591851 (lr:0.0016139327526069466)\n",
      "1400: training accuracy: 1.0 training loss: 1.02139 (lr:0.0015400973809950877)\n",
      "1500: training accuracy: 1.0 training loss: 1.62789 (lr:0.0014698630029489428)\n",
      "1500: ********* validation accuracy: 0.9726 test loss: 9.00689\n",
      "1600: training accuracy: 0.99 training loss: 1.40906 (lr:0.0014030539959399427)\n",
      "1700: training accuracy: 1.0 training loss: 0.696007 (lr:0.0013395033026513076)\n",
      "1800: training accuracy: 0.98 training loss: 3.47142 (lr:0.0012790520132477375)\n",
      "1900: training accuracy: 0.99 training loss: 0.957441 (lr:0.0012215489680180538)\n",
      "2000: training accuracy: 0.99 training loss: 1.39848 (lr:0.0011668503793971828)\n",
      "2000: ********* validation accuracy: 0.9774 test loss: 8.57798\n",
      "2100: training accuracy: 1.0 training loss: 0.152687 (lr:0.0011148194724223506)\n",
      "2200: training accuracy: 0.98 training loss: 2.88643 (lr:0.0010653261427244307)\n",
      "2300: training accuracy: 0.99 training loss: 2.38472 (lr:0.0010182466311992545)\n",
      "2400: training accuracy: 1.0 training loss: 0.108175 (lr:0.0009734632145453863)\n",
      "2500: training accuracy: 1.0 training loss: 0.0214801 (lr:0.0009308639108945514)\n",
      "2500: ********* validation accuracy: 0.9769 test loss: 9.67206\n",
      "2600: training accuracy: 1.0 training loss: 0.134648 (lr:0.0008903421997986366)\n",
      "2700: training accuracy: 0.99 training loss: 0.943528 (lr:0.0008517967558730855)\n",
      "2800: training accuracy: 1.0 training loss: 0.0201646 (lr:0.0008151311954306589)\n",
      "2900: training accuracy: 1.0 training loss: 0.0693857 (lr:0.0007802538354720133)\n",
      "3000: training accuracy: 1.0 training loss: 0.522286 (lr:0.0007470774644304465)\n",
      "3000: ********* validation accuracy: 0.9795 test loss: 9.29474\n",
      "3100: training accuracy: 1.0 training loss: 0.213786 (lr:0.0007155191240975549)\n",
      "3200: training accuracy: 0.99 training loss: 1.47019 (lr:0.0006854999021845007)\n",
      "3300: training accuracy: 1.0 training loss: 0.287903 (lr:0.000656944735000187)\n",
      "3400: training accuracy: 1.0 training loss: 0.182788 (lr:0.0006297822197529307)\n",
      "3500: training accuracy: 1.0 training loss: 0.014444 (lr:0.000603944436006291)\n",
      "3500: ********* validation accuracy: 0.981 test loss: 9.33031\n",
      "3600: training accuracy: 1.0 training loss: 0.122313 (lr:0.000579366775842601)\n",
      "3700: training accuracy: 1.0 training loss: 0.00841692 (lr:0.0005559877823095201)\n",
      "3800: training accuracy: 1.0 training loss: 0.312296 (lr:0.0005337489957456418)\n",
      "3900: training accuracy: 1.0 training loss: 0.0149797 (lr:0.0005125948076008895)\n",
      "4000: training accuracy: 1.0 training loss: 0.0200973 (lr:0.0004924723213861769)\n",
      "4000: ********* validation accuracy: 0.9803 test loss: 9.46834\n",
      "4100: training accuracy: 1.0 training loss: 0.00771147 (lr:0.0004733312204046323)\n",
      "4200: training accuracy: 1.0 training loss: 0.0342001 (lr:0.00045512364193364755)\n",
      "4300: training accuracy: 1.0 training loss: 0.0493602 (lr:0.00043780405754314123)\n",
      "4400: training accuracy: 1.0 training loss: 0.0150184 (lr:0.00042132915925076824)\n",
      "4500: training accuracy: 1.0 training loss: 0.0367403 (lr:0.00040565775122940656)\n",
      "4500: ********* validation accuracy: 0.9811 test loss: 9.41789\n",
      "4600: training accuracy: 1.0 training loss: 0.00394953 (lr:0.0003907506467961309)\n",
      "4700: training accuracy: 1.0 training loss: 0.0239019 (lr:0.0003765705704250939)\n",
      "4800: training accuracy: 1.0 training loss: 0.0220631 (lr:0.0003630820645392963)\n",
      "4900: training accuracy: 1.0 training loss: 0.0221601 (lr:0.00035025140084817447)\n",
      "5000: training accuracy: 1.0 training loss: 0.213195 (lr:0.00033804649600930654)\n",
      "5000: ********* validation accuracy: 0.9798 test loss: 10.4505\n",
      "5100: training accuracy: 1.0 training loss: 0.036797 (lr:0.0003264368314033442)\n",
      "5200: training accuracy: 1.0 training loss: 0.00350267 (lr:0.0003153933768215683)\n",
      "5300: training accuracy: 1.0 training loss: 0.00233192 (lr:0.00030488851787524585)\n",
      "5400: training accuracy: 1.0 training loss: 0.0813522 (lr:0.0002948959869452743)\n",
      "5500: training accuracy: 1.0 training loss: 0.0163199 (lr:0.00028539079749945195)\n",
      "5500: ********* validation accuracy: 0.9822 test loss: 9.79496\n",
      "5600: training accuracy: 1.0 training loss: 0.00470133 (lr:0.00027634918161313215)\n",
      "5700: training accuracy: 1.0 training loss: 0.000697319 (lr:0.0002677485305370315)\n",
      "5800: training accuracy: 1.0 training loss: 0.0241596 (lr:0.000259567338163581)\n",
      "5900: training accuracy: 1.0 training loss: 0.061289 (lr:0.00025178514725045394)\n",
      "6000: training accuracy: 1.0 training loss: 0.0227982 (lr:0.00024438249826680544)\n",
      "6000: ********* validation accuracy: 0.9819 test loss: 10.0149\n",
      "6100: training accuracy: 1.0 training loss: 0.162735 (lr:0.00023734088073430873)\n",
      "6200: training accuracy: 1.0 training loss: 0.0087692 (lr:0.00023064268694131766)\n",
      "6300: training accuracy: 1.0 training loss: 0.0352189 (lr:0.00022427116791441654)\n",
      "6400: training accuracy: 1.0 training loss: 0.0257635 (lr:0.00021821039153726202)\n",
      "6500: training accuracy: 1.0 training loss: 0.012659 (lr:0.00021244520271199385)\n",
      "6500: ********* validation accuracy: 0.9823 test loss: 9.86664\n",
      "6600: training accuracy: 1.0 training loss: 0.00912669 (lr:0.00020696118546359606)\n",
      "6700: training accuracy: 1.0 training loss: 0.0155134 (lr:0.0002017446268924506)\n",
      "6800: training accuracy: 1.0 training loss: 0.00265513 (lr:0.00019678248288494563)\n",
      "6900: training accuracy: 1.0 training loss: 0.000188109 (lr:0.00019206234549639704)\n",
      "7000: training accuracy: 1.0 training loss: 0.0315321 (lr:0.00018757241192472366)\n",
      "7000: ********* validation accuracy: 0.9831 test loss: 9.82643\n",
      "7100: training accuracy: 1.0 training loss: 0.000580735 (lr:0.00018330145499729437)\n",
      "7200: training accuracy: 1.0 training loss: 0.00158376 (lr:0.00017923879509714843)\n",
      "7300: training accuracy: 1.0 training loss: 0.00116622 (lr:0.0001753742734583905)\n",
      "7400: training accuracy: 1.0 training loss: 0.00437224 (lr:0.00017169822676398424)\n",
      "7500: training accuracy: 1.0 training loss: 0.0106117 (lr:0.00016820146298242642)\n",
      "7500: ********* validation accuracy: 0.9825 test loss: 10.1008\n",
      "7600: training accuracy: 1.0 training loss: 0.00317106 (lr:0.00016487523838288026)\n",
      "7700: training accuracy: 1.0 training loss: 0.0248752 (lr:0.0001617112356712938)\n",
      "7800: training accuracy: 1.0 training loss: 0.0111305 (lr:0.00015870154319283275)\n",
      "7900: training accuracy: 1.0 training loss: 0.00246186 (lr:0.00015583863514862209)\n",
      "8000: training accuracy: 1.0 training loss: 0.0178635 (lr:0.00015311535277732913)\n",
      "8000: ********* validation accuracy: 0.9828 test loss: 10.015\n",
      "8100: training accuracy: 1.0 training loss: 0.00126703 (lr:0.0001505248864545312)\n",
      "8200: training accuracy: 1.0 training loss: 0.011765 (lr:0.00014806075866510764)\n",
      "8300: training accuracy: 1.0 training loss: 0.000727803 (lr:0.00014571680780607802)\n",
      "8400: training accuracy: 1.0 training loss: 0.00327274 (lr:0.00014348717277938534)\n",
      "8500: training accuracy: 1.0 training loss: 0.00021326 (lr:0.00014136627833609785)\n",
      "8500: ********* validation accuracy: 0.9825 test loss: 10.7029\n",
      "8600: training accuracy: 1.0 training loss: 0.0327317 (lr:0.00013934882113538272)\n",
      "8700: training accuracy: 1.0 training loss: 0.00132385 (lr:0.00013742975648339164)\n"
     ]
    },
    {
     "name": "stdout",
     "output_type": "stream",
     "text": [
      "8800: training accuracy: 1.0 training loss: 0.00301284 (lr:0.00013560428571889846)\n",
      "8900: training accuracy: 1.0 training loss: 0.00124887 (lr:0.0001338678442141468)\n",
      "9000: training accuracy: 1.0 training loss: 0.00300986 (lr:0.0001322160899609027)\n",
      "9000: ********* validation accuracy: 0.9825 test loss: 10.7307\n",
      "9100: training accuracy: 1.0 training loss: 0.000436407 (lr:0.00013064489271317272)\n",
      "9200: training accuracy: 1.0 training loss: 0.00586373 (lr:0.0001291503236594374)\n",
      "9300: training accuracy: 1.0 training loss: 0.00749942 (lr:0.00012772864559857617)\n",
      "9400: training accuracy: 1.0 training loss: 0.00521058 (lr:0.00012637630359491788)\n",
      "9500: training accuracy: 1.0 training loss: 0.000861546 (lr:0.00012508991608904985)\n",
      "9500: ********* validation accuracy: 0.9828 test loss: 10.5061\n",
      "9600: training accuracy: 1.0 training loss: 0.0116616 (lr:0.0001238662664421581)\n",
      "9700: training accuracy: 1.0 training loss: 0.00220928 (lr:0.00012270229489275475)\n",
      "9800: training accuracy: 1.0 training loss: 0.00249676 (lr:0.00012159509090568058)\n",
      "9900: training accuracy: 1.0 training loss: 0.00219199 (lr:0.00012054188589425116)\n",
      "10000: training accuracy: 1.0 training loss: 0.0028069 (lr:0.00011954004629734786)\n",
      "10000: ********* validation accuracy: 0.9831 test loss: 10.1478\n"
     ]
    }
   ],
   "source": [
    "init = tf.global_variables_initializer()\n",
    "sess = tf.Session()\n",
    "sess.run(init)\n",
    "\n",
    "def getBatch(i, size, trainFeatures, trainLabels):\n",
    "#     startIndex = (i * size) % 42000\n",
    "    startIndex = (i * size) % 32000 # training set: 32,000   validation set: 10,000 images\n",
    "    endIndex = startIndex + size\n",
    "    batch_X = trainFeatures[startIndex : endIndex]\n",
    "    batch_Y = trainLabels[startIndex : endIndex]\n",
    "    return batch_X, batch_Y\n",
    "\n",
    "# You can call this function in a loop to train the model, 100 images at a time\n",
    "def training_step(i):\n",
    "\n",
    "    # training on batches of 100 images with 100 labels\n",
    "    size = 100\n",
    "    batch_X, batch_Y = getBatch(i, size, trainFeatureVectorsConvoFormat, ohTrainLabelsNdarray)\n",
    "\n",
    "    # learning rate decay\n",
    "    max_learning_rate = 0.003\n",
    "    min_learning_rate = 0.0001\n",
    "    decay_speed = 2000.0\n",
    "    learning_rate = min_learning_rate + (max_learning_rate - min_learning_rate) * math.exp(-i/decay_speed)\n",
    "\n",
    "    # compute training values\n",
    "    if i % 100 == 0:\n",
    "        '''\n",
    "        When we sess.run here, we are calculating the accuracy and cross_entropy of the model on batch_X and batch_Y (ie. on 100 pieces of data)\n",
    "        '''\n",
    "        a, c = sess.run([accuracy, cross_entropy], {X: batch_X, Y_: batch_Y, pkeep: 1.0})\n",
    "        print(str(i) + \": training accuracy: \" + str(a) + \" training loss: \" + str(c) + \" (lr:\" + str(learning_rate) + \")\")\n",
    "\n",
    "    # compute test values\n",
    "    if i % 500 == 0:\n",
    "        '''\n",
    "        When we sess.run here, we are calculating the accuracy and cross_entropy of the model on validation data (last 10,000 train images)\n",
    "        '''\n",
    "        a, c = sess.run([accuracy, cross_entropy], {X: trainFeatureVectorsConvoFormat[-10000:], Y_: ohTrainLabelsNdarray[-10000:], pkeep: 1.0})\n",
    "        print(str(i) + \": ********* validation accuracy: \" + str(a) + \" test loss: \" + str(c))\n",
    "\n",
    "    # the backpropagation training step\n",
    "    sess.run(train_step, {X: batch_X, Y_: batch_Y, lr: learning_rate, pkeep: 0.75})\n",
    "\n",
    "# Run number of iterations training the NN    \n",
    "for i in range(10000+1): \n",
    "# for i in range(5000+1): \n",
    "    training_step(i)"
   ]
  },
  {
   "cell_type": "markdown",
   "metadata": {},
   "source": [
    "## Make Predictions"
   ]
  },
  {
   "cell_type": "code",
   "execution_count": 14,
   "metadata": {},
   "outputs": [],
   "source": [
    "# Print the accuracy on all 42,000 traing data\n",
    "# a, c = sess.run([accuracy, cross_entropy], {X: trainFeatureVectorsConvoFormat, Y_: ohTrainLabelsNdarray, pkeep: 1.0})\n",
    "# print(\"\\n ********* average accuracy: \" + str(a) + \" average loss: \" + str(c))"
   ]
  },
  {
   "cell_type": "code",
   "execution_count": 15,
   "metadata": {},
   "outputs": [],
   "source": [
    "# Get predictions on test data, first 10 images only\n",
    "p = sess.run([predictions], {X: testFeatureVectorsConvoFormat[0:10], pkeep: 1.0})\n",
    "\n",
    "# Get predictions on test data, 28,000 images, may cause memory shortage !\n",
    "# p = sess.run([predictions], {X: testFeatureVectorsConvoFormat, pkeep: 1.0})"
   ]
  },
  {
   "cell_type": "code",
   "execution_count": 16,
   "metadata": {},
   "outputs": [
    {
     "data": {
      "text/plain": [
       "array([2, 0, 9, 0, 3, 7, 0, 3, 0, 3])"
      ]
     },
     "execution_count": 16,
     "metadata": {},
     "output_type": "execute_result"
    }
   ],
   "source": [
    "p[0]"
   ]
  },
  {
   "cell_type": "markdown",
   "metadata": {},
   "source": [
    "### Test image"
   ]
  },
  {
   "cell_type": "code",
   "execution_count": 17,
   "metadata": {
    "scrolled": false
   },
   "outputs": [
    {
     "data": {
      "image/png": "[encoded data removed]",
      "text/plain": [
       "<matplotlib.figure.Figure at 0x7fc8f8857b00>"
      ]
     },
     "metadata": {},
     "output_type": "display_data"
    },
    {
     "data": {
      "image/png": "[encoded data removed]",
      "text/plain": [
       "<matplotlib.figure.Figure at 0x7fc8f89d5438>"
      ]
     },
     "metadata": {},
     "output_type": "display_data"
    },
    {
     "data": {
      "image/png": "[encoded data removed]",
      "text/plain": [
       "<matplotlib.figure.Figure at 0x7fc8f89a6128>"
      ]
     },
     "metadata": {},
     "output_type": "display_data"
    },
    {
     "data": {
      "image/png": "[encoded data removed]",
      "text/plain": [
       "<matplotlib.figure.Figure at 0x7fc8f8a47630>"
      ]
     },
     "metadata": {},
     "output_type": "display_data"
    },
    {
     "data": {
      "image/png": "[encoded data removed]",
      "text/plain": [
       "<matplotlib.figure.Figure at 0x7fc8f8affe10>"
      ]
     },
     "metadata": {},
     "output_type": "display_data"
    }
   ],
   "source": [
    "for i in range(0, 5):\n",
    "# Display an image read in from the CSV\n",
    "# testFeatureVectorsConvoFormat values are: [2, 0, 9, 0, 3, 7, ...]\n",
    "    pixels = testFeatureVectorsConvoFormat[i].reshape((28, 28))\n",
    "    plt.imshow(pixels, cmap='gray')\n",
    "    plt.show()"
   ]
  },
  {
   "cell_type": "code",
   "execution_count": 19,
   "metadata": {
    "scrolled": false
   },
   "outputs": [
    {
     "data": {
      "image/png": "[encoded data removed]",
      "text/plain": [
       "<matplotlib.figure.Figure at 0x7fc8f8b63da0>"
      ]
     },
     "metadata": {},
     "output_type": "display_data"
    },
    {
     "data": {
      "image/png": "[encoded data removed]",
      "text/plain": [
       "<matplotlib.figure.Figure at 0x7fc8f8bdfeb8>"
      ]
     },
     "metadata": {},
     "output_type": "display_data"
    },
    {
     "data": {
      "image/png": "[encoded data removed]",
      "text/plain": [
       "<matplotlib.figure.Figure at 0x7fc8f8ddbba8>"
      ]
     },
     "metadata": {},
     "output_type": "display_data"
    },
    {
     "data": {
      "image/png": "[encoded data removed]",
      "text/plain": [
       "<matplotlib.figure.Figure at 0x7fc8f8d872b0>"
      ]
     },
     "metadata": {},
     "output_type": "display_data"
    },
    {
     "data": {
      "image/png": "[encoded data removed]",
      "text/plain": [
       "<matplotlib.figure.Figure at 0x7fc8f8c1f4a8>"
      ]
     },
     "metadata": {},
     "output_type": "display_data"
    }
   ],
   "source": [
    "for i in range(5, 10):\n",
    "# Display an image read in from the CSV\n",
    "# testFeatureVectorsConvoFormat values are: [2, 0, 9, 0, 3, 7, ...]\n",
    "    pixels = testFeatureVectorsConvoFormat[i].reshape((28, 28))\n",
    "    plt.imshow(pixels, cmap='gray')\n",
    "    plt.show()"
   ]
  },
  {
   "cell_type": "markdown",
   "metadata": {},
   "source": [
    "---"
   ]
  },
  {
   "cell_type": "code",
   "execution_count": null,
   "metadata": {},
   "outputs": [],
   "source": [
    "# Write predictions to csv file\n",
    "# results = pd.DataFrame({'ImageId': pd.Series(range(1, len(p[0]) + 1)), 'Label': pd.Series(p[0])})\n",
    "# results.to_csv('results.csv', index=False)\n",
    "# results"
   ]
  },
  {
   "cell_type": "markdown",
   "metadata": {
    "collapsed": true
   },
   "source": [
    "---"
   ]
  }
 ],
 "metadata": {
  "kernelspec": {
   "display_name": "Python 3",
   "language": "python",
   "name": "python3"
  },
  "language_info": {
   "codemirror_mode": {
    "name": "ipython",
    "version": 3
   },
   "file_extension": ".py",
   "mimetype": "text/x-python",
   "name": "python",
   "nbconvert_exporter": "python",
   "pygments_lexer": "ipython3",
   "version": "3.6.4"
  }
 },
 "nbformat": 4,
 "nbformat_minor": 2
}
