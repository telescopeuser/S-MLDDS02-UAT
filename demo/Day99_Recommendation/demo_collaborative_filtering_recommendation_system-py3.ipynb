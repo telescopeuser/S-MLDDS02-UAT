{
 "cells": [
  {
   "cell_type": "markdown",
   "metadata": {},
   "source": [
    "# Introductory recommendation system\n",
    "\n",
    "Based on previous user interaction with the data source that the system takes the information from, the system is capable of recommending an item to a user. Think about the fact that Amazon recommends you books that they think you could like. \n",
    "\n",
    "Applications such as documents, movies, music, romantic partners, or who to follow on Twitter, are pervasive and widely known in the world of Information Retrieval."
   ]
  },
  {
   "cell_type": "markdown",
   "metadata": {},
   "source": [
    "<img class=\"irc_mi\" src=\"http://www.getvero.com/wp-content/uploads/2013/02/amazon-recommendations.jpeg\" alt=\"Image result for amazon recommendation\" onload=\"google.aft&amp;&amp;google.aft(this)\" width=\"500\" height=\"333\" style=\"margin-top: 0px;\">"
   ]
  },
  {
   "cell_type": "markdown",
   "metadata": {},
   "source": [
    "This will help you gain a basic understanding on collaborative based Recommender Systems, by building the most basic Recommender System out there.\n",
    "\n",
    "We will use a algorithm called collaborative filtering for this Recommender System. A collaborative filtering algorithm works by finding a set of people (assuming persons are the only client or user of a RS) with preferences or tastes similar to the target user. Using this smaller set of “similar” people, it constructs a ranked list of suggestions. There are several ways to measure the similarity of two people. It’s important to highlight that we’re not going to use attributes or descriptors of an item to recommend it, we’re just using the tastes or preferences over that item.\n",
    "The data can be organized as following:"
   ]
  },
  {
   "cell_type": "markdown",
   "metadata": {},
   "source": [
    "<img class=\"progressiveMedia-image js-progressiveMedia-image\" data-src=\"https://cdn-images-1.medium.com/max/1000/1*fTiGcm3TJ5exvoiKo9rWdg.png\" src=\"https://cdn-images-1.medium.com/max/1000/1*fTiGcm3TJ5exvoiKo9rWdg.png\" width=\"700\" height=\"700\" style=\"margin-left: 10px;\" >"
   ]
  },
  {
   "cell_type": "code",
   "execution_count": 1,
   "metadata": {},
   "outputs": [],
   "source": [
    "dataset={\n",
    " 'Lisa Rose': {  'Lady in the Water': 2.5,\n",
    "                 'Snakes on a Plane': 3.5,\n",
    "                 'Just My Luck': 3.0,\n",
    "                 'Superman Returns': 3.5,\n",
    "                 'You, Me and Dupree': 2.5,\n",
    "                 'The Night Listener': 3.0},\n",
    "                 'Gene Seymour': {'Lady in the Water': 3.0,\n",
    "                 'Snakes on a Plane': 3.5,\n",
    "                 'Just My Luck': 1.5,\n",
    "                 'Superman Returns': 5.0,\n",
    "                 'The Night Listener': 3.0,\n",
    "                 'You, Me and Dupree': 3.5},\n",
    " \n",
    " 'Michael Phillips': {'Lady in the Water': 2.5,\n",
    "                     'Snakes on a Plane': 3.0,\n",
    "                     'Superman Returns': 3.5,\n",
    "                     'The Night Listener': 4.0},\n",
    "                     'Claudia Puig': {'Snakes on a Plane': 3.5,\n",
    "                     'Just My Luck': 3.0,\n",
    "                     'The Night Listener': 4.5,\n",
    "                     'Superman Returns': 4.0,\n",
    "                     'You, Me and Dupree': 2.5},\n",
    " \n",
    " 'Mick LaSalle': {'Lady in the Water': 3.0,\n",
    "                 'Snakes on a Plane': 4.0,\n",
    "                 'Just My Luck': 2.0,\n",
    "                 'Superman Returns': 3.0,\n",
    "                 'The Night Listener': 3.0,\n",
    "                 'You, Me and Dupree': 2.0},\n",
    " \n",
    " 'Jack Matthews': {'Lady in the Water': 3.0,\n",
    "                 'Snakes on a Plane': 4.0,\n",
    "                 'The Night Listener': 3.0,\n",
    "                 'Superman Returns': 5.0,\n",
    "                 'You, Me and Dupree': 3.5},\n",
    " \n",
    " 'Toby': {'Snakes on a Plane':4.5,\n",
    "         'You, Me and Dupree':1.0,\n",
    "         'Superman Returns':4.0}}"
   ]
  },
  {
   "cell_type": "code",
   "execution_count": 2,
   "metadata": {},
   "outputs": [
    {
     "name": "stdout",
     "output_type": "stream",
     "text": [
      "Lisa Rose rating on Lady in the water: 2.5\n",
      "Michael Phillips rating on Lady in the water: 2.5\n"
     ]
    }
   ],
   "source": [
    "print (\"Lisa Rose rating on Lady in the water: {}\".format(dataset['Lisa Rose']['Lady in the Water']))\n",
    "print (\"Michael Phillips rating on Lady in the water: {}\".format(dataset['Michael Phillips']['Lady in the Water']))"
   ]
  },
  {
   "cell_type": "markdown",
   "metadata": {},
   "source": [
    "In order to solve this kind of problems, we do need a way to measure how similar people are based on their rankings. The most common approaches to the similarity problem, are score by Euclidean Distance, and using the Pearson Correlation Coefficient; both terms are deeply related to statistics and linear algebra."
   ]
  },
  {
   "cell_type": "markdown",
   "metadata": {},
   "source": [
    "# Similar Persons: Euclidean Distance"
   ]
  },
  {
   "cell_type": "markdown",
   "metadata": {},
   "source": [
    "The Euclidean distance between two points is the length of the path connecting them.This distance between two points is given by the Pythagorean theorem."
   ]
  },
  {
   "cell_type": "markdown",
   "metadata": {},
   "source": [
    "<img class=\"progressiveMedia-image js-progressiveMedia-image\" data-src=\"https://cdn-images-1.medium.com/max/1000/1*aY5nL4wQyEoGni9urD4ihg.png\" src=\"https://cdn-images-1.medium.com/max/1000/1*aY5nL4wQyEoGni9urD4ihg.png\" width=\"500\" height=\"500\" style=\"margin-left: 10px;\" >"
   ]
  },
  {
   "cell_type": "markdown",
   "metadata": {},
   "source": [
    "Two people belong to a certain preference space if and only if, they have ranked the two items that defines the preference space. So we define a preference space for each pair of distinct items, and the points in this preference space, are given by the people that ranked the two items. For example, below is the preference space, defined by the items Systems programming, and Programming language theory."
   ]
  },
  {
   "cell_type": "markdown",
   "metadata": {},
   "source": [
    "<img class=\"progressiveMedia-image js-progressiveMedia-image\" data-src=\"https://cdn-images-1.medium.com/max/1000/1*_Qr1aDmv15YOYEM6Lp8ljQ.png\" src=\"https://cdn-images-1.medium.com/max/1000/1*_Qr1aDmv15YOYEM6Lp8ljQ.png\" width=\"700\" height=\"700\" style=\"margin-left: 10px;\" >"
   ]
  },
  {
   "cell_type": "markdown",
   "metadata": {},
   "source": [
    "We can recognize similar users by looking to the cluster that they belongs. Leslie Lamport appears that low since he has ranked Systems programming with 2.76 and Programming language theory with 1.5. We can clearly see that regarding this items, John McCarthy, and Tony Hoare are pretty similar, while Robin Milner and Bob Floyd are slightly different;"
   ]
  },
  {
   "cell_type": "code",
   "execution_count": 3,
   "metadata": {},
   "outputs": [],
   "source": [
    "from math import sqrt"
   ]
  },
  {
   "cell_type": "markdown",
   "metadata": {},
   "source": [
    "If d( Person[ i ], Person[ j ] ) is small, then Person[ i ] is similar to Person[ j ]. Since we do want a metric that tells us how similar two people are; we do need a number (this number is proportional to the similarity of Person[ i ] and Person[ j ]). To achieve that, we are required to take a normalized value based on d( Person[ i ], Person[ j ] ). Our final similarity metric based on Euclidean distance is:\n",
    "\n",
    "<img class=\"progressiveMedia-image js-progressiveMedia-image\" data-src=\"https://cdn-images-1.medium.com/max/1000/1*8givRoS1qpaKVzzbHtr7lw.png\" src=\"https://cdn-images-1.medium.com/max/1000/1*8givRoS1qpaKVzzbHtr7lw.png\" width=\"500\" height=\"500\" style=\"margin-left: 10px;\" >\n",
    "\n",
    "This formula takes count of division by zero and the proportionality that we need."
   ]
  },
  {
   "cell_type": "code",
   "execution_count": 4,
   "metadata": {},
   "outputs": [],
   "source": [
    "# Returns ratio Euclidean distance score of person1 and person2 \n",
    "\n",
    "def similarity_score(person1,person2):\n",
    "    \n",
    "    # To get common rated items by person1 and person2\n",
    "    both_viewed = {} \n",
    "\n",
    "    for item in dataset[person1]:\n",
    "        if item in dataset[person2]:\n",
    "            both_viewed[item] = 1\n",
    "            \n",
    "        # Once we find the both_viewed we are checking the length of the both_viewed. \n",
    "        # If it zero there is no need to find similarity score why because it will zero.\n",
    "        if len(both_viewed) == 0:\n",
    "            return 0\n",
    "\n",
    "        # Find the Euclidean distance sum value by considering the items which were rated by both person1 and person2. \n",
    "        sum_of_eclidean_distance = []\n",
    "\n",
    "        for item in dataset[person1]:\n",
    "            if item in dataset[person2]:\n",
    "                sum_of_eclidean_distance.append(pow(dataset[person1][item] - dataset[person2][item],2))\n",
    "        sum_of_eclidean_distance = sum(sum_of_eclidean_distance)\n",
    "        \n",
    "        return 1/(1+sqrt(sum_of_eclidean_distance))\n",
    "        # The reason behind using inverted euclidean distance is generally euclidean distance \n",
    "        # returns the distance between the two users. \n",
    "        # If the distance between two users is fewer means they are more similar but we need high value for the \n",
    "        # people who are similar so this can be done by adding 1 to euclidean distance \n",
    "        # ( so you don’t get a division by zero error) and inverting it."
   ]
  },
  {
   "cell_type": "code",
   "execution_count": 5,
   "metadata": {},
   "outputs": [
    {
     "name": "stdout",
     "output_type": "stream",
     "text": [
      "0.3405424265831667\n"
     ]
    }
   ],
   "source": [
    "print (similarity_score('Lisa Rose','Jack Matthews'))"
   ]
  },
  {
   "cell_type": "markdown",
   "metadata": {},
   "source": [
    "Do you think the approach we used here is the good one to find the similarity between two users? Let’s consider an example to get the clear idea about is this good approach to find similarity between two users. Suppose we have two users X and Y. If X feels it’s good movie he will rate 4 for it, if he feels it’s an  average movie he will rate 2 and finally if he feel it’s not a good movie he will rate 1. In the same way, Y will rate 5 for a good movie, 4 for an average move and 3 for worst movie. In a nutshell, the users will have different norms on how they rate a product. "
   ]
  },
  {
   "cell_type": "markdown",
   "metadata": {},
   "source": [
    "<img src=\"https://i0.wp.com/dataaspirant.com/wp-content/uploads/2015/05/ratings_table.png?resize=418%2C194\" data-attachment-id=\"439\" data-permalink=\"https://dataaspirant.com/2015/05/25/collaborative-filtering-recommendation-engine-implementation-in-python/ratings_table/\" data-orig-file=\"https://i0.wp.com/dataaspirant.com/wp-content/uploads/2015/05/ratings_table.png?fit=418%2C194&amp;ssl=1\" data-orig-size=\"418,194\" data-comments-opened=\"1\" data-image-meta=\"{&quot;aperture&quot;:&quot;0&quot;,&quot;credit&quot;:&quot;&quot;,&quot;camera&quot;:&quot;&quot;,&quot;caption&quot;:&quot;&quot;,&quot;created_timestamp&quot;:&quot;0&quot;,&quot;copyright&quot;:&quot;&quot;,&quot;focal_length&quot;:&quot;0&quot;,&quot;iso&quot;:&quot;0&quot;,&quot;shutter_speed&quot;:&quot;0&quot;,&quot;title&quot;:&quot;&quot;,&quot;orientation&quot;:&quot;0&quot;}\" data-image-title=\"ratings_table\" data-image-description=\"\" data-medium-file=\"https://i0.wp.com/dataaspirant.com/wp-content/uploads/2015/05/ratings_table.png?fit=300%2C139&amp;ssl=1\" data-large-file=\"https://i0.wp.com/dataaspirant.com/wp-content/uploads/2015/05/ratings_table.png?fit=418%2C194&amp;ssl=1\" class=\" size-full wp-image-439 aligncenter\" alt=\"ratings_table\" srcset=\"https://i0.wp.com/dataaspirant.com/wp-content/uploads/2015/05/ratings_table.png?w=418 418w, https://i0.wp.com/dataaspirant.com/wp-content/uploads/2015/05/ratings_table.png?resize=300%2C139 300w\" sizes=\"(max-width: 418px) 100vw, 418px\" data-lazy-loaded=\"true\" width=\"418\" height=\"194\" style=\"display: block;\"  width=\"500\" height=\"500\" style=\"margin-left: 0px;\">"
   ]
  },
  {
   "cell_type": "markdown",
   "metadata": {},
   "source": [
    "If we calculated the similarity between both users it will somewhat similar but we are missing one great point here According to Euclidean distance if we consider a movie which rated by both X and Y. Suppose X-rated as 4 and Y rated as 4 then euclidean distance formulas give both  X and Y are more similar, but this movie is good one for user X and an average movie for Y. So if we use Euclidean distance our approach will be wrong. So we have to use some other approach to find similarity between two users. This approach is Pearson Correlation."
   ]
  },
  {
   "cell_type": "markdown",
   "metadata": {},
   "source": [
    "# Similar Persons: Pearson Correalation"
   ]
  },
  {
   "cell_type": "markdown",
   "metadata": {},
   "source": [
    "A slightly more sophisticated way to determine the similarity between people’s interests is to use a Pearson correlation coefficient. The correlation coefficient is a measure of how well two sets of data fit on a straight line. The formula for this is more complicated that the Euclidean distance score, but it tends to give better results in situations where the data isn’t well normalized like our present data set.\n",
    "\n",
    "<a target=\"_blank\" class=\"irc_mil i3597 iSMC_NEv3Nuw-zixyDjKkw5M\" rel=\"noopener\" jsaction=\"mousedown:irc.rl;keydown:irc.rlk\" data-noload=\"\" tabindex=\"0\" href=\"http://www.mathcaptain.com/statistics/pearson-correlation-coefficient.html\" saprocessedanchor=\"true\" data-href=\"http://www.mathcaptain.com/statistics/pearson-correlation-coefficient.html\" data-ved=\"0ahUKEwimtZWp6cvUAhUHs48KHfc7BAUQjRwIBw\"><img class=\"irc_mi\" src=\"http://image.mathcaptain.com/cms/images/41/pearson-correlation-coefficient-interpretation.jpeg\" onload=\"google.aft&amp;&amp;google.aft(this)\" width=\"585\" height=\"282\" style=\"margin-top: 1px;\" alt=\"Image result for pearson correlation coefficient\"></a>\n",
    "\n",
    "Implementation for the Pearson correlation score first finds the items rated by both users. It then calculates the sums and the sum of the squares of the ratings for the both users and calculates the sum of the products of their ratings. Finally, it uses these results to calculate the Pearson correlation coefficient.Unlike the distance metric, this formula is not intuitive, but it does tell you how much the variables change together divided by the product of how much they alter individually."
   ]
  },
  {
   "cell_type": "markdown",
   "metadata": {},
   "source": [
    "<img src=\"https://i0.wp.com/dataaspirant.com/wp-content/uploads/2015/05/correlation2.png?resize=322%2C206\" data-attachment-id=\"442\" data-permalink=\"https://dataaspirant.com/2015/05/25/collaborative-filtering-recommendation-engine-implementation-in-python/correlation2/\" data-orig-file=\"https://i0.wp.com/dataaspirant.com/wp-content/uploads/2015/05/correlation2.png?fit=322%2C206&amp;ssl=1\" data-orig-size=\"322,206\" data-comments-opened=\"1\" data-image-meta=\"{&quot;aperture&quot;:&quot;0&quot;,&quot;credit&quot;:&quot;&quot;,&quot;camera&quot;:&quot;&quot;,&quot;caption&quot;:&quot;&quot;,&quot;created_timestamp&quot;:&quot;0&quot;,&quot;copyright&quot;:&quot;&quot;,&quot;focal_length&quot;:&quot;0&quot;,&quot;iso&quot;:&quot;0&quot;,&quot;shutter_speed&quot;:&quot;0&quot;,&quot;title&quot;:&quot;&quot;,&quot;orientation&quot;:&quot;0&quot;}\" data-image-title=\"correlation2\" data-image-description=\"\" data-medium-file=\"https://i0.wp.com/dataaspirant.com/wp-content/uploads/2015/05/correlation2.png?fit=300%2C192&amp;ssl=1\" data-large-file=\"https://i0.wp.com/dataaspirant.com/wp-content/uploads/2015/05/correlation2.png?fit=322%2C206&amp;ssl=1\" class=\" size-full wp-image-442 aligncenter\" alt=\"correlation2\" srcset=\"https://i0.wp.com/dataaspirant.com/wp-content/uploads/2015/05/correlation2.png?w=322 322w, https://i0.wp.com/dataaspirant.com/wp-content/uploads/2015/05/correlation2.png?resize=300%2C192 300w\" sizes=\"(max-width: 322px) 100vw, 322px\" data-lazy-loaded=\"true\" width=\"322\" height=\"206\" style=\"display: block;\">"
   ]
  },
  {
   "cell_type": "code",
   "execution_count": 6,
   "metadata": {},
   "outputs": [],
   "source": [
    "def pearson_correlation(person1,person2):\n",
    " \n",
    "    # To get both rated items\n",
    "    both_rated = {}\n",
    "    for item in dataset[person1]:\n",
    "        if item in dataset[person2]:\n",
    "            both_rated[item] = 1\n",
    "\n",
    "    number_of_ratings = len(both_rated)\n",
    "\n",
    "    # Checking for number of ratings in common\n",
    "    if number_of_ratings == 0:\n",
    "        return 0\n",
    "\n",
    "    # Add up all the preferences of each user\n",
    "    person1_preferences_sum = sum([dataset[person1][item] for item in both_rated])\n",
    "    person2_preferences_sum = sum([dataset[person2][item] for item in both_rated])\n",
    "\n",
    "    # Sum up the squares of preferences of each user\n",
    "    person1_square_preferences_sum = sum([pow(dataset[person1][item],2) for item in both_rated])\n",
    "    person2_square_preferences_sum = sum([pow(dataset[person2][item],2) for item in both_rated])\n",
    "\n",
    "    # Sum up the product value of both preferences for each item\n",
    "    product_sum_of_both_users = sum([dataset[person1][item] * dataset[person2][item] for item in both_rated])\n",
    "\n",
    "    # Calculate the pearson score\n",
    "    numerator_value = product_sum_of_both_users - (person1_preferences_sum*person2_preferences_sum/number_of_ratings)\n",
    "    denominator_value = sqrt((person1_square_preferences_sum - pow(person1_preferences_sum,2)/number_of_ratings) * (person2_square_preferences_sum -pow(person2_preferences_sum,2)/number_of_ratings))\n",
    "   \n",
    "    if denominator_value == 0:\n",
    "        return 0\n",
    "    else:\n",
    "        r = numerator_value/denominator_value\n",
    "        return r"
   ]
  },
  {
   "cell_type": "code",
   "execution_count": 7,
   "metadata": {},
   "outputs": [
    {
     "name": "stdout",
     "output_type": "stream",
     "text": [
      "0.39605901719066977\n"
     ]
    }
   ],
   "source": [
    "print (pearson_correlation('Lisa Rose','Gene Seymour'))"
   ]
  },
  {
   "cell_type": "markdown",
   "metadata": {},
   "source": [
    "Generally, this pearson_correlation function returns a value between -1 to 1 . A value 1 means both users are having the same taste in all most all cases."
   ]
  },
  {
   "cell_type": "markdown",
   "metadata": {},
   "source": [
    "# Ranking similar users for a user:"
   ]
  },
  {
   "cell_type": "markdown",
   "metadata": {},
   "source": [
    "Now that we have functions for comparing two people, we can create a function that scores everyone against a given person and finds the closest matches. "
   ]
  },
  {
   "cell_type": "code",
   "execution_count": 8,
   "metadata": {},
   "outputs": [],
   "source": [
    "def most_similar_users(person,number_of_users):\n",
    "    \n",
    "    # returns the number_of_users (similar persons) for a given specific person.\n",
    "    scores = [(pearson_correlation(person,other_person),other_person) for other_person in dataset if other_person != person ]\n",
    "\n",
    "    # Sort the similar persons so that highest scores person will appear at the first\n",
    "    scores.sort()\n",
    "    scores.reverse()\n",
    "    return scores[0:number_of_users]"
   ]
  },
  {
   "cell_type": "code",
   "execution_count": 9,
   "metadata": {},
   "outputs": [
    {
     "name": "stdout",
     "output_type": "stream",
     "text": [
      "[(0.9912407071619299, 'Toby'), (0.7470178808339965, 'Jack Matthews'), (0.5940885257860044, 'Mick LaSalle')]\n"
     ]
    }
   ],
   "source": [
    "print (most_similar_users('Lisa Rose',3))"
   ]
  },
  {
   "cell_type": "markdown",
   "metadata": {},
   "source": [
    "What we have done now is we just look at the person who is the most similar  persons to him and Now we have to recommend some movie to that person. But that would be too permissive. Such an approach could accidentally turn up reviewers who haven’t rated  some of the movies that particular person like. It could also return a reviewer who strangely like a movie that got bad reviews from all the other person returned by most_similar_persons function."
   ]
  },
  {
   "cell_type": "markdown",
   "metadata": {},
   "source": [
    "To solve these issues, you need to score the items by producing a weighted score that ranks the users. Take the votes of all other persons and multiply how similar they are to a particular person by the score they gave to each move. Below image shows how we have to do that."
   ]
  },
  {
   "cell_type": "markdown",
   "metadata": {},
   "source": [
    "<img src=\"https://i0.wp.com/dataaspirant.com/wp-content/uploads/2015/05/recommendataion_for_toby.png?resize=640%2C400\" data-attachment-id=\"446\" data-permalink=\"https://dataaspirant.com/2015/05/25/collaborative-filtering-recommendation-engine-implementation-in-python/recommendataion_for_toby/\" data-orig-file=\"https://i0.wp.com/dataaspirant.com/wp-content/uploads/2015/05/recommendataion_for_toby.png?fit=640%2C400&amp;ssl=1\" data-orig-size=\"640,400\" data-comments-opened=\"1\" data-image-meta=\"{&quot;aperture&quot;:&quot;0&quot;,&quot;credit&quot;:&quot;&quot;,&quot;camera&quot;:&quot;&quot;,&quot;caption&quot;:&quot;&quot;,&quot;created_timestamp&quot;:&quot;0&quot;,&quot;copyright&quot;:&quot;&quot;,&quot;focal_length&quot;:&quot;0&quot;,&quot;iso&quot;:&quot;0&quot;,&quot;shutter_speed&quot;:&quot;0&quot;,&quot;title&quot;:&quot;&quot;,&quot;orientation&quot;:&quot;0&quot;}\" data-image-title=\"recommendataion_for_toby\" data-image-description=\"\" data-medium-file=\"https://i0.wp.com/dataaspirant.com/wp-content/uploads/2015/05/recommendataion_for_toby.png?fit=300%2C188&amp;ssl=1\" data-large-file=\"https://i0.wp.com/dataaspirant.com/wp-content/uploads/2015/05/recommendataion_for_toby.png?fit=640%2C400&amp;ssl=1\" class=\" size-full wp-image-446 aligncenter\" alt=\"recommendataion_for_toby\" srcset=\"https://i0.wp.com/dataaspirant.com/wp-content/uploads/2015/05/recommendataion_for_toby.png?w=640 640w, https://i0.wp.com/dataaspirant.com/wp-content/uploads/2015/05/recommendataion_for_toby.png?resize=300%2C188 300w\" sizes=\"(max-width: 640px) 100vw, 640px\" data-lazy-loaded=\"true\" width=\"640\" height=\"400\" style=\"display: block;\">"
   ]
  },
  {
   "cell_type": "markdown",
   "metadata": {},
   "source": [
    "This image shows the correlation scores for each person and the ratings they gave for three movies The Night Listener, Lady in the Water, and Just My Luck that Toby hasn’t rated. The Columns beginning with S.x give the similarity multiplied by the rating,so a person who is similar to Toby will contribute more to the overall score than a person who is different from Toby. The Total row shows the sum of all these numbers.\n",
    "\n",
    "We could just use the totals to calculate the rankings, but then a movie reviewed by more people would have a big advantage. To correct for this you need to divide by the sum of all the similarities for persons that reviewed that movie (the Sim.Sum row in the table). The Night Listener was reviewed by everyone, thus its' total is divided by the sum of every similarities. Lady in the water, however, was not reviewed by Puig, thus its' total is divided by sum of every similarities except Puig's similarity.\n",
    "\n",
    "The last row shows the results of this division."
   ]
  },
  {
   "cell_type": "code",
   "execution_count": 10,
   "metadata": {},
   "outputs": [],
   "source": [
    "def user_reommendations(person):\n",
    "\n",
    "    # Gets recommendations for a person by using a weighted average of every other user's rankings\n",
    "    totals = {}\n",
    "    simSums = {}\n",
    "    rankings_list =[]\n",
    "    for other in dataset:\n",
    "        \n",
    "        # don't compare me to myself\n",
    "        if other == person:\n",
    "            continue\n",
    "        sim = pearson_correlation(person,other)\n",
    "\n",
    "        # ignore scores of zero or lower\n",
    "        if sim <=0: \n",
    "            continue\n",
    "        for item in dataset[other]:\n",
    "\n",
    "            # only score movies i haven't seen yet\n",
    "            if item not in dataset[person] or dataset[person][item] == 0:\n",
    "\n",
    "            # Similarity * score\n",
    "                totals.setdefault(item,0)\n",
    "                totals[item] += dataset[other][item]* sim\n",
    "                \n",
    "                # sum of similarities\n",
    "                simSums.setdefault(item,0)\n",
    "                simSums[item]+= sim\n",
    "\n",
    "    # Create the normalized list\n",
    "    rankings = [(total/simSums[item],item) for item,total in totals.items()]\n",
    "    rankings.sort()\n",
    "    rankings.reverse()\n",
    "    \n",
    "    # returns the recommended items\n",
    "    recommendataions_list = [recommend_item for score,recommend_item in rankings]\n",
    "    return recommendataions_list"
   ]
  },
  {
   "cell_type": "code",
   "execution_count": 11,
   "metadata": {},
   "outputs": [
    {
     "name": "stdout",
     "output_type": "stream",
     "text": [
      "Recommendations for Toby\n",
      "['The Night Listener', 'Lady in the Water', 'Just My Luck']\n"
     ]
    }
   ],
   "source": [
    "print (\"Recommendations for Toby\")\n",
    "print (user_reommendations('Toby'))"
   ]
  },
  {
   "cell_type": "markdown",
   "metadata": {},
   "source": [
    "We have implemented a simple Recommendation engine!"
   ]
  },
  {
   "cell_type": "markdown",
   "metadata": {},
   "source": [
    "---"
   ]
  }
 ],
 "metadata": {
  "kernelspec": {
   "display_name": "Python 3",
   "language": "python",
   "name": "python3"
  },
  "language_info": {
   "codemirror_mode": {
    "name": "ipython",
    "version": 3
   },
   "file_extension": ".py",
   "mimetype": "text/x-python",
   "name": "python",
   "nbconvert_exporter": "python",
   "pygments_lexer": "ipython3",
   "version": "3.6.4"
  }
 },
 "nbformat": 4,
 "nbformat_minor": 2
}
