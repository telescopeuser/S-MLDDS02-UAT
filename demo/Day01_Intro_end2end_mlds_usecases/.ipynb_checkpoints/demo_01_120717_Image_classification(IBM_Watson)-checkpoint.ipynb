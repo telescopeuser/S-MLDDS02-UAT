{
 "cells": [
  {
   "cell_type": "markdown",
   "metadata": {},
   "source": [
    "# Image Classification using IBM Watson Image Recognition API"
   ]
  },
  {
   "cell_type": "markdown",
   "metadata": {},
   "source": [
    "<img class=\"irc_mi\" src=\"http://requestsforstartups.com/wp-content/uploads/2016/08/1-fB6jwIRW-76fGLtM92-IwA.png\" onload=\"google.aft&amp;&amp;google.aft(this)\" width=\"785\" height=\"544\" style=\"margin-top: 5px;\" alt=\"Image result for machine learning image classification\">"
   ]
  },
  {
   "cell_type": "markdown",
   "metadata": {},
   "source": [
    "The IBM Watson™ Visual Recognition service uses deep learning algorithms to identify scenes and objects."
   ]
  },
  {
   "cell_type": "markdown",
   "metadata": {},
   "source": [
    "**Steps:**\n",
    "- Sign in to IBM Bluemix \n",
    "- Dashboard -> create service -> click \"watson\" under Services category -> visual recognition \n",
    "- Service credentials -> view credentials -> copy \"api_key\""
   ]
  },
  {
   "cell_type": "markdown",
   "metadata": {},
   "source": [
    "**To begin, do \"pip3 install watson_developer_cloud\" in command prompt**"
   ]
  },
  {
   "cell_type": "code",
   "execution_count": 1,
   "metadata": {},
   "outputs": [],
   "source": [
    "from watson_developer_cloud import VisualRecognitionV3 as vr\n",
    "import matplotlib.pyplot as plt\n",
    "import numpy as np"
   ]
  },
  {
   "cell_type": "markdown",
   "metadata": {},
   "source": [
    "If Anaconda gives import error although you've downloaded it, try:"
   ]
  },
  {
   "cell_type": "code",
   "execution_count": 3,
   "metadata": {},
   "outputs": [],
   "source": [
    "import sys\n",
    "# sys.path.append(r'c:\\users\\joon park\\appdata\\local\\programs\\python\\python36-32\\lib\\site-packages')"
   ]
  },
  {
   "cell_type": "markdown",
   "metadata": {},
   "source": [
    "Now, we can simply select an image from the web or from offline and run visual recognition on it. For this tutorial, I'm using this giraffe image.\n",
    "\n",
    "The URL of the image is given https://giraffegenome.science.psu.edu/images/young-giraffe.jpg"
   ]
  },
  {
   "cell_type": "markdown",
   "metadata": {},
   "source": [
    "<img style=\"-webkit-user-select: none;background-position: 0px 0px, 10px 10px;background-size: 20px 20px;background-image:linear-gradient(45deg, #eee 25%, transparent 25%, transparent 75%, #eee 75%, #eee 100%),linear-gradient(45deg, #eee 25%, white 25%, white 75%, #eee 75%, #eee 100%);cursor: zoom-in;\" src=\"https://giraffegenome.science.psu.edu/images/young-giraffe.jpg\" width=\"681\" height=\"735\">"
   ]
  },
  {
   "cell_type": "code",
   "execution_count": 4,
   "metadata": {},
   "outputs": [
    {
     "ename": "TypeError",
     "evalue": "classify() got an unexpected keyword argument 'images_url'",
     "output_type": "error",
     "traceback": [
      "\u001b[0;31m---------------------------------------------------------------------------\u001b[0m",
      "\u001b[0;31mTypeError\u001b[0m                                 Traceback (most recent call last)",
      "\u001b[0;32m<ipython-input-4-a8383fd46cb3>\u001b[0m in \u001b[0;36m<module>\u001b[0;34m()\u001b[0m\n\u001b[1;32m      1\u001b[0m \u001b[0;31m# Replace with your own api_key and image address below.\u001b[0m\u001b[0;34m\u001b[0m\u001b[0;34m\u001b[0m\u001b[0m\n\u001b[1;32m      2\u001b[0m \u001b[0minstance\u001b[0m \u001b[0;34m=\u001b[0m \u001b[0mvr\u001b[0m\u001b[0;34m(\u001b[0m\u001b[0mapi_key\u001b[0m \u001b[0;34m=\u001b[0m \u001b[0;34m'5b4b65e25fc94f31b66e6fbf86870d938a381dee'\u001b[0m\u001b[0;34m,\u001b[0m \u001b[0mversion\u001b[0m \u001b[0;34m=\u001b[0m \u001b[0;34m'2017-06-07'\u001b[0m\u001b[0;34m)\u001b[0m\u001b[0;34m\u001b[0m\u001b[0m\n\u001b[0;32m----> 3\u001b[0;31m \u001b[0mimg\u001b[0m \u001b[0;34m=\u001b[0m \u001b[0minstance\u001b[0m\u001b[0;34m.\u001b[0m\u001b[0mclassify\u001b[0m\u001b[0;34m(\u001b[0m\u001b[0mimages_url\u001b[0m\u001b[0;34m=\u001b[0m\u001b[0;34m'https://giraffegenome.science.psu.edu/images/young-giraffe.jpg'\u001b[0m\u001b[0;34m)\u001b[0m\u001b[0;34m\u001b[0m\u001b[0m\n\u001b[0m",
      "\u001b[0;31mTypeError\u001b[0m: classify() got an unexpected keyword argument 'images_url'"
     ]
    }
   ],
   "source": [
    "# Replace with your own api_key and image address below.\n",
    "instance = vr(api_key = '5b4b65e25fc94f31b66e6fbf86870d938a381dee', version = '2017-06-07')\n",
    "img = instance.classify(images_url='https://giraffegenome.science.psu.edu/images/young-giraffe.jpg')"
   ]
  },
  {
   "cell_type": "code",
   "execution_count": 17,
   "metadata": {},
   "outputs": [
    {
     "name": "stdout",
     "output_type": "stream",
     "text": [
      "\n",
      " There is a 96.39999999999999% chance the image contains: giraffe\n",
      "\n",
      " There is a 96.6% chance the image contains: ruminant\n",
      "\n",
      " There is a 96.7% chance the image contains: mammal\n",
      "\n",
      " There is a 96.7% chance the image contains: animal\n",
      "\n",
      " There is a 53.0% chance the image contains: veld\n",
      "\n",
      " There is a 62.8% chance the image contains: beige color\n",
      "\n",
      " There is a 59.699999999999996% chance the image contains: azure color\n"
     ]
    }
   ],
   "source": [
    "# Classification results \n",
    "for things in img['images'][0]['classifiers'][0]['classes']:\n",
    "    print('\\n There is a ' + str(things['score']*100) + '% chance the image contains: '+ things['class'])"
   ]
  },
  {
   "cell_type": "markdown",
   "metadata": {},
   "source": [
    "**Plotting the result (keywords with scores) in horizontal bar chart**"
   ]
  },
  {
   "cell_type": "code",
   "execution_count": 18,
   "metadata": {},
   "outputs": [
    {
     "data": {
      "image/png": "[encoded data removed]",
      "text/plain": [
       "<matplotlib.figure.Figure at 0x21a58ca3780>"
      ]
     },
     "metadata": {},
     "output_type": "display_data"
    }
   ],
   "source": [
    "keyword = []\n",
    "score = []\n",
    "\n",
    "for i in img['images'][0]['classifiers'][0]['classes']:\n",
    "    keyword.append(list(i.values())[0]) \n",
    "    score.append(list(i.values())[1]*100) # Multiply 100 to Convert 0.xx% to xx%\n",
    "\n",
    "y_pos = np.arange(len(keyword))\n",
    "plt.barh(y_pos, score, align = 'center', alpha = 0.5)\n",
    "plt.yticks(y_pos, keyword)\n",
    "plt.xlabel('Score (%)')\n",
    "plt.ylabel('Classification results')\n",
    "plt.title('Image Classification')\n",
    "\n",
    "plt.show()"
   ]
  }
 ],
 "metadata": {
  "kernelspec": {
   "display_name": "Python 3",
   "language": "python",
   "name": "python3"
  },
  "language_info": {
   "codemirror_mode": {
    "name": "ipython",
    "version": 3
   },
   "file_extension": ".py",
   "mimetype": "text/x-python",
   "name": "python",
   "nbconvert_exporter": "python",
   "pygments_lexer": "ipython3",
   "version": "3.6.4"
  }
 },
 "nbformat": 4,
 "nbformat_minor": 2
}
