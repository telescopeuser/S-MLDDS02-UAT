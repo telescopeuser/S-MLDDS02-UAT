{
 "cells": [
  {
   "cell_type": "markdown",
   "metadata": {},
   "source": [
    "# Haar Cascade Object Detection Face & Eye (WebCam)"
   ]
  },
  {
   "cell_type": "markdown",
   "metadata": {},
   "source": [
    "<img class=\"progressiveMedia-image js-progressiveMedia-image\" data-src=\"https://cdn-images-1.medium.com/max/1000/1*izQuwClzcsJoCw5ybQC01Q.png\" src=\"https://cdn-images-1.medium.com/max/1000/1*izQuwClzcsJoCw5ybQC01Q.png\">"
   ]
  },
  {
   "cell_type": "markdown",
   "metadata": {},
   "source": [
    "In order to do object recognition/detection with cascade files, you first need cascade files. For the extremely popular tasks, these already exist. Detecting things like faces, cars, smiles, eyes, and license plates for example are all pretty prevalent.\n",
    "\n",
    "You can use Google to find various Haar Cascades of things you may want to detect. We will use a Face cascade and Eye cascade. You can find a few more at the root directory of Haar cascades. Note the license for using/distributing these Haar Cascades."
   ]
  },
  {
   "cell_type": "markdown",
   "metadata": {},
   "source": [
    "------------------------------------------------------------------------------------------------------------------------"
   ]
  },
  {
   "cell_type": "markdown",
   "metadata": {},
   "source": [
    "face: https://github.com/opencv/opencv/blob/master/data/haarcascades/haarcascade_frontalface_default.xml\n",
    "\n",
    "eye: https://github.com/opencv/opencv/blob/master/data/haarcascades/haarcascade_eye.xml\n",
    "\n",
    "To begin, download the haarcascade_eye.xml and haarcascade_frontalface_default.xml from the links above, and have these files in your project's directory."
   ]
  },
  {
   "cell_type": "markdown",
   "metadata": {},
   "source": [
    "pip install opencv-python to import cv2, and load in our face and eye cascades."
   ]
  },
  {
   "cell_type": "code",
   "execution_count": 3,
   "metadata": {},
   "outputs": [],
   "source": [
    "# !pip install opencv-python"
   ]
  },
  {
   "cell_type": "code",
   "execution_count": 4,
   "metadata": {},
   "outputs": [],
   "source": [
    "import numpy as np\n",
    "import cv2\n",
    "\n",
    "face = cv2.CascadeClassifier('haarcascade_frontalface_default.xml')\n",
    "eye = cv2.CascadeClassifier('haarcascade_eye.xml')\n",
    "\n",
    "frame = cv2.VideoCapture(0)"
   ]
  },
  {
   "cell_type": "code",
   "execution_count": null,
   "metadata": {},
   "outputs": [
    {
     "name": "stdout",
     "output_type": "stream",
     "text": [
      "faces= [[171  40 280 280]]\n"
     ]
    }
   ],
   "source": [
    "from cv2 import *\n",
    "import numpy as np\n",
    "face_cascade = CascadeClassifier('haarcascade_frontalface_default.xml')\n",
    "eye_cascade = CascadeClassifier('haarcascade_eye.xml')\n",
    "\n",
    "fname='300.jpg'\n",
    "img = imread(fname)\n",
    "gray = imread(fname, 0)\n",
    "rows,cols = gray.shape\n",
    "\n",
    "gray = np.array(gray, dtype='uint8')\n",
    "faces = face_cascade.detectMultiScale(gray, 1.3, 5, 0)\n",
    "print ('faces=', faces)\n",
    "\n",
    "for (x,y,w,h) in faces:\n",
    "    rectangle(img, (x,y), ((x+w),(x+h)), (255,0,0), 2)\n",
    "    roi_gray = gray[y:y+h, x:x+w]\n",
    "    roi_color = img[y:y+h, x:x+w]\n",
    "    eyes = eye_cascade.detectMultiScale(roi_gray)\n",
    "    for (ex,ey, ew, eh) in eyes:\n",
    "        rectangle(roi_color, (x,y), ((x+w), (y+h)), (50, 50, 50), 3)\n",
    "    imshow('eyes=%s' % (eyes,), roi_color)\n",
    "\n",
    "imshow(\"img\", img)\n",
    "waitKey(0)\n",
    "destroyAllWindows()"
   ]
  },
  {
   "cell_type": "markdown",
   "metadata": {
    "collapsed": true
   },
   "source": [
    "---"
   ]
  }
 ],
 "metadata": {
  "kernelspec": {
   "display_name": "Python 3",
   "language": "python",
   "name": "python3"
  },
  "language_info": {
   "codemirror_mode": {
    "name": "ipython",
    "version": 3
   },
   "file_extension": ".py",
   "mimetype": "text/x-python",
   "name": "python",
   "nbconvert_exporter": "python",
   "pygments_lexer": "ipython3",
   "version": "3.6.4"
  }
 },
 "nbformat": 4,
 "nbformat_minor": 2
}
