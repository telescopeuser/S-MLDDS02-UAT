{
 "cells": [
  {
   "cell_type": "markdown",
   "metadata": {},
   "source": [
    "# Image Classification using IBM Watson Image Recognition API"
   ]
  },
  {
   "cell_type": "markdown",
   "metadata": {},
   "source": [
    "<img class=\"irc_mi\" src=\"http://requestsforstartups.com/wp-content/uploads/2016/08/1-fB6jwIRW-76fGLtM92-IwA.png\" onload=\"google.aft&amp;&amp;google.aft(this)\" width=\"785\" height=\"544\" style=\"margin-top: 5px;\" alt=\"Image result for machine learning image classification\">"
   ]
  },
  {
   "cell_type": "markdown",
   "metadata": {},
   "source": [
    "The IBM Watson™ Visual Recognition service uses deep learning algorithms to identify scenes and objects."
   ]
  },
  {
   "cell_type": "markdown",
   "metadata": {},
   "source": [
    "**Steps:**\n",
    "- Sign in to IBM Bluemix \n",
    "- Dashboard -> create service -> click \"watson\" under Services category -> visual recognition \n",
    "- Service credentials -> view credentials -> copy \"api_key\""
   ]
  },
  {
   "cell_type": "markdown",
   "metadata": {},
   "source": [
    "**To begin, do \"pip3 install watson_developer_cloud\" in command prompt**"
   ]
  },
  {
   "cell_type": "code",
   "execution_count": 9,
   "metadata": {},
   "outputs": [],
   "source": [
    "from watson_developer_cloud import VisualRecognitionV3 as vr\n",
    "import matplotlib.pyplot as plt\n",
    "import numpy as np"
   ]
  },
  {
   "cell_type": "markdown",
   "metadata": {},
   "source": [
    "If Anaconda gives import error although you've downloaded it, try:"
   ]
  },
  {
   "cell_type": "code",
   "execution_count": 10,
   "metadata": {},
   "outputs": [],
   "source": [
    "import sys, json\n",
    "# sys.path.append(r'/usr/local/lib/python2.7/site-packages')"
   ]
  },
  {
   "cell_type": "markdown",
   "metadata": {
    "collapsed": true
   },
   "source": [
    "### Image Recognition 1"
   ]
  },
  {
   "cell_type": "markdown",
   "metadata": {},
   "source": [
    "Now, we can simply select an image from the web or from offline and run visual recognition on it. For this tutorial, I'm using this giraffe image.\n",
    "\n",
    "The URL of the image is given https://giraffegenome.science.psu.edu/images/young-giraffe.jpg"
   ]
  },
  {
   "cell_type": "markdown",
   "metadata": {},
   "source": [
    "<img style=\"-webkit-user-select: none;background-position: 0px 0px, 10px 10px;background-size: 20px 20px;background-image:linear-gradient(45deg, #eee 25%, transparent 25%, transparent 75%, #eee 75%, #eee 100%),linear-gradient(45deg, #eee 25%, white 25%, white 75%, #eee 75%, #eee 100%);cursor: zoom-in;\" src=\"https://giraffegenome.science.psu.edu/images/young-giraffe.jpg\" width=\"340\" height=\"735\">"
   ]
  },
  {
   "cell_type": "code",
   "execution_count": 3,
   "metadata": {},
   "outputs": [],
   "source": [
    "# Replace with your own api_key and image address below.\n",
    "instance = vr(api_key='198aa40bf49f31504ddf5e5021f9533845d8794d', version='2017-06-07')\n",
    "img = instance.classify(parameters=json.dumps({'url': 'https://giraffegenome.science.psu.edu/images/young-giraffe.jpg'}))"
   ]
  },
  {
   "cell_type": "code",
   "execution_count": 4,
   "metadata": {
    "scrolled": true
   },
   "outputs": [
    {
     "name": "stdout",
     "output_type": "stream",
     "text": [
      "\n",
      " There is a 89.2% chance the image contains: giraffe\n",
      "\n",
      " There is a 89.4% chance the image contains: ruminant\n",
      "\n",
      " There is a 89.8% chance the image contains: mammal\n",
      "\n",
      " There is a 93.5% chance the image contains: animal\n",
      "\n",
      " There is a 64.9% chance the image contains: veld\n",
      "\n",
      " There is a 50.0% chance the image contains: female mammal\n",
      "\n",
      " There is a 50.0% chance the image contains: female\n",
      "\n",
      " There is a 57.199999999999996% chance the image contains: pale yellow color\n"
     ]
    }
   ],
   "source": [
    "# Classification results \n",
    "for things in img['images'][0]['classifiers'][0]['classes']:\n",
    "    print('\\n There is a ' + str(things['score']*100) + '% chance the image contains: '+ things['class'])"
   ]
  },
  {
   "cell_type": "markdown",
   "metadata": {
    "collapsed": true
   },
   "source": [
    "### Image Recognition 2"
   ]
  },
  {
   "cell_type": "markdown",
   "metadata": {},
   "source": [
    "<img style=\"-webkit-user-select: none;background-position: 0px 0px, 10px 10px;background-size: 20px 20px;background-image:linear-gradient(45deg, #eee 25%, transparent 25%, transparent 75%, #eee 75%, #eee 100%),linear-gradient(45deg, #eee 25%, white 25%, white 75%, #eee 75%, #eee 100%);cursor: zoom-in;\" src=\"https://workingwithgrace.files.wordpress.com/2014/10/madame-tussauds-stefanie-sun-yan-zi.jpg\" width=\"340\" height=\"735\">"
   ]
  },
  {
   "cell_type": "code",
   "execution_count": 11,
   "metadata": {},
   "outputs": [],
   "source": [
    "# Replace with your own api_key and image address below.\n",
    "instance = vr(api_key='198aa40bf49f31504ddf5e5021f9533845d8794d', version='2017-06-07')\n",
    "img = instance.classify(parameters=json.dumps({'url': 'https://workingwithgrace.files.wordpress.com/2014/10/madame-tussauds-stefanie-sun-yan-zi.jpg'}))"
   ]
  },
  {
   "cell_type": "code",
   "execution_count": 12,
   "metadata": {
    "scrolled": false
   },
   "outputs": [
    {
     "name": "stdout",
     "output_type": "stream",
     "text": [
      "\n",
      " There is a 90.4% chance the image contains: host\n",
      "\n",
      " There is a 93.60000000000001% chance the image contains: entertainer\n",
      "\n",
      " There is a 93.60000000000001% chance the image contains: person\n",
      "\n",
      " There is a 50.0% chance the image contains: songster\n",
      "\n",
      " There is a 54.2% chance the image contains: singer\n",
      "\n",
      " There is a 54.2% chance the image contains: musician\n",
      "\n",
      " There is a 94.89999999999999% chance the image contains: pink color\n"
     ]
    }
   ],
   "source": [
    "# Classification results \n",
    "for things in img['images'][0]['classifiers'][0]['classes']:\n",
    "    print('\\n There is a ' + str(things['score']*100) + '% chance the image contains: '+ things['class'])"
   ]
  },
  {
   "cell_type": "markdown",
   "metadata": {},
   "source": [
    "---"
   ]
  }
 ],
 "metadata": {
  "kernelspec": {
   "display_name": "Python 3",
   "language": "python",
   "name": "python3"
  },
  "language_info": {
   "codemirror_mode": {
    "name": "ipython",
    "version": 3
   },
   "file_extension": ".py",
   "mimetype": "text/x-python",
   "name": "python",
   "nbconvert_exporter": "python",
   "pygments_lexer": "ipython3",
   "version": "3.6.4"
  }
 },
 "nbformat": 4,
 "nbformat_minor": 2
}
