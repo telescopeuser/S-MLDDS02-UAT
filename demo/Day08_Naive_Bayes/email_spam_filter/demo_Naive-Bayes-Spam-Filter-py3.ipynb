{
 "cells": [
  {
   "cell_type": "markdown",
   "metadata": {},
   "source": [
    "# Naive Bayes classifiers: Spam Filter"
   ]
  },
  {
   "cell_type": "markdown",
   "metadata": {},
   "source": [
    "Naive Bayes classifiers work by correlating the use of tokens (typically words, or sometimes other things), with spam and non-spam e-mails and then using Bayes' theorem to calculate a probability that an email is or is not spam.\n",
    "\n",
    "Naive Bayes spam filtering is a baseline technique for dealing with spam that can tailor itself to the email needs of individual users and give low false positive spam detection rates that are generally acceptable to users. It is one of the oldest ways of doing spam filtering, with roots in the 1990s."
   ]
  },
  {
   "cell_type": "markdown",
   "metadata": {},
   "source": [
    "Bag of words representation:\n",
    "    - The order of words in the message is not important.\n",
    "    - Each word is conditionally independent of the others given message class (spam / non spam)"
   ]
  },
  {
   "cell_type": "markdown",
   "metadata": {},
   "source": [
    "The Bayesian Rule is:"
   ]
  },
  {
   "cell_type": "markdown",
   "metadata": {},
   "source": [
    "<img class=\"irc_mi\" src=\"http://www.saedsayad.com/images/Bayes_rule.png\" onload=\"google.aft&amp;&amp;google.aft(this)\" width=\"385\" height=\"220\" style=\"margin-left: 0px;\" alt=\"Image result for naive bayes\">"
   ]
  },
  {
   "cell_type": "markdown",
   "metadata": {},
   "source": [
    "<img class=\"irc_mi\" src=\"http://www.saedsayad.com/images/Bayes_3.png\" onload=\"google.aft&amp;&amp;google.aft(this)\" width=\"900\" height=\"900\" style=\"margin-left: 0px;\" alt=\"Image result for naive bayes\">"
   ]
  },
  {
   "cell_type": "markdown",
   "metadata": {},
   "source": [
    "<img class=\"irc_mi\" src=\"https://i.stack.imgur.com/0QOII.png\" onload=\"google.aft&amp;&amp;google.aft(this)\" width=\"685\" height=\"355\" style=\"margin-top: 1px;\" alt=\"Image result for naive bayes spam filter\">"
   ]
  },
  {
   "cell_type": "code",
   "execution_count": 1,
   "metadata": {},
   "outputs": [],
   "source": [
    "import os\n",
    "import io\n",
    "import numpy\n",
    "from pandas import DataFrame\n",
    "from sklearn.feature_extraction.text import CountVectorizer\n",
    "from sklearn.naive_bayes import MultinomialNB\n",
    "\n",
    "def readFiles(path):\n",
    "    for root, dirnames, filenames in os.walk(path):\n",
    "        for filename in filenames:\n",
    "            path = os.path.join(root, filename)\n",
    "\n",
    "            inBody = False\n",
    "            lines = []\n",
    "            f = io.open(path, 'r', encoding='latin1')\n",
    "            for line in f:\n",
    "                if inBody:\n",
    "                    lines.append(line)\n",
    "                elif line == '\\n':\n",
    "                    inBody = True\n",
    "            f.close()\n",
    "            message = '\\n'.join(lines)\n",
    "            yield path, message\n",
    "\n",
    "def dataFrameFromDirectory(path, classification):\n",
    "    rows = []\n",
    "    index = []\n",
    "    for filename, message in readFiles(path):\n",
    "        rows.append({'message': message, 'class': classification})\n",
    "        index.append(filename)\n",
    "\n",
    "    return DataFrame(rows, index=index)\n",
    "\n",
    "data = DataFrame({'message': [], 'class': []})\n",
    "\n",
    "data = data.append(dataFrameFromDirectory('spam', 'spam'))\n",
    "data = data.append(dataFrameFromDirectory('ham', 'ham'))"
   ]
  },
  {
   "cell_type": "markdown",
   "metadata": {},
   "source": [
    "Let's take a look at the data."
   ]
  },
  {
   "cell_type": "code",
   "execution_count": 2,
   "metadata": {},
   "outputs": [
    {
     "data": {
      "text/html": [
       "<div>\n",
       "<style scoped>\n",
       "    .dataframe tbody tr th:only-of-type {\n",
       "        vertical-align: middle;\n",
       "    }\n",
       "\n",
       "    .dataframe tbody tr th {\n",
       "        vertical-align: top;\n",
       "    }\n",
       "\n",
       "    .dataframe thead th {\n",
       "        text-align: right;\n",
       "    }\n",
       "</style>\n",
       "<table border=\"1\" class=\"dataframe\">\n",
       "  <thead>\n",
       "    <tr style=\"text-align: right;\">\n",
       "      <th></th>\n",
       "      <th>class</th>\n",
       "      <th>message</th>\n",
       "    </tr>\n",
       "  </thead>\n",
       "  <tbody>\n",
       "    <tr>\n",
       "      <th>spam/00178.cdecf0f56ddc0bf61e922a131dc806c2</th>\n",
       "      <td>spam</td>\n",
       "      <td>Protect your financial well-being.\\n\\nPurchase...</td>\n",
       "    </tr>\n",
       "    <tr>\n",
       "      <th>spam/00063.2334fb4e465fc61e8406c75918ff72ed</th>\n",
       "      <td>spam</td>\n",
       "      <td>IS YOUR BUSINESS MAKING MONEY!\\n\\nSet Up To Ac...</td>\n",
       "    </tr>\n",
       "    <tr>\n",
       "      <th>spam/00474.30772a1ac9e824976fc6676844d68b76</th>\n",
       "      <td>spam</td>\n",
       "      <td>&lt;html&gt;&lt;head&gt;\\n\\n&lt;title&gt;Congratulations! You Ge...</td>\n",
       "    </tr>\n",
       "    <tr>\n",
       "      <th>spam/00401.309e29417819ce39d8599047d50933cc</th>\n",
       "      <td>spam</td>\n",
       "      <td>A great sponsor will not make you money.\\n\\nA ...</td>\n",
       "    </tr>\n",
       "    <tr>\n",
       "      <th>spam/00367.9688cdee9dfe720c297672c8f60d998f</th>\n",
       "      <td>spam</td>\n",
       "      <td>++++++++++++++++++++++++++++++++++++++++++++++...</td>\n",
       "    </tr>\n",
       "    <tr>\n",
       "      <th>spam/00466.ecb11c98ec4511b5422b20476d935bd1</th>\n",
       "      <td>spam</td>\n",
       "      <td>Dear Sir, \\n\\nWith due respect and humility I ...</td>\n",
       "    </tr>\n",
       "    <tr>\n",
       "      <th>spam/00026.da18dbed27ae933172f7a70f860c6ad0</th>\n",
       "      <td>spam</td>\n",
       "      <td>DEAR FRIEND,I AM MRS.  SESE-SEKO WIDOW OF LATE...</td>\n",
       "    </tr>\n",
       "    <tr>\n",
       "      <th>spam/00128.721b6b20d5834d490662e2ae8c5c0684</th>\n",
       "      <td>spam</td>\n",
       "      <td>------=_NextPart_000_00A0_03E30A1A.B1804B54\\n\\...</td>\n",
       "    </tr>\n",
       "    <tr>\n",
       "      <th>spam/00245.f129d5e7df2eebd03948bb4f33fa7107</th>\n",
       "      <td>spam</td>\n",
       "      <td>\\n\\nSent e-mail message   \\n\\n \\n\\nFrom: enen...</td>\n",
       "    </tr>\n",
       "    <tr>\n",
       "      <th>spam/00224.0654fe0af51e1dcefa0eb66eb932f55f</th>\n",
       "      <td>spam</td>\n",
       "      <td>Dear sir,,\\n\\n\\n\\n\\n\\nMy name is DR Steven M D...</td>\n",
       "    </tr>\n",
       "    <tr>\n",
       "      <th>spam/00131.d955acc659fb151479460f9dd2f87efe</th>\n",
       "      <td>spam</td>\n",
       "      <td>==============================================...</td>\n",
       "    </tr>\n",
       "    <tr>\n",
       "      <th>spam/00221.c4dfeecf0cacc9469540337f5baf69db</th>\n",
       "      <td>spam</td>\n",
       "      <td>&lt;!DOCTYPE HTML PUBLIC \"-//W3C//DTD HTML 4.0 Tr...</td>\n",
       "    </tr>\n",
       "    <tr>\n",
       "      <th>spam/00380.a262abe251ca7cc3026e4e146d9cf817</th>\n",
       "      <td>spam</td>\n",
       "      <td>&lt;html&gt;\\n\\n&lt;TABLE id=AutoNumber2 style=\"BORDER-...</td>\n",
       "    </tr>\n",
       "    <tr>\n",
       "      <th>spam/00271.85110ef4815c81ccea879857b0b062ed</th>\n",
       "      <td>spam</td>\n",
       "      <td>This is a multipart MIME message.\\n\\n\\n\\n--= M...</td>\n",
       "    </tr>\n",
       "    <tr>\n",
       "      <th>spam/00257.5c8ef87f8b11d2515df71a7fe46a70b6.eml</th>\n",
       "      <td>spam</td>\n",
       "      <td>NEWSLETTER COACHINVEST  SEPTEMBRE 2002\\n\\n\\n...</td>\n",
       "    </tr>\n",
       "    <tr>\n",
       "      <th>spam/00481.5c95b526e965fa325044123c4ce29c1f</th>\n",
       "      <td>spam</td>\n",
       "      <td>=?GB2312?B?yNW12squ0ru97NbQufq5+rzKtefX08nosb...</td>\n",
       "    </tr>\n",
       "    <tr>\n",
       "      <th>spam/00219.eaf6c0ff67706c784f67f5c1225028a1</th>\n",
       "      <td>spam</td>\n",
       "      <td>------=_NextPart_000_00D1_61B37D4A.A0476B56\\n\\...</td>\n",
       "    </tr>\n",
       "    <tr>\n",
       "      <th>spam/00440.647d9eb44fd0cb069ea92be204966a8e</th>\n",
       "      <td>spam</td>\n",
       "      <td>------=_NextPart_000_00A6_30E15B3E.B5031C68\\n\\...</td>\n",
       "    </tr>\n",
       "    <tr>\n",
       "      <th>spam/00004.eac8de8d759b7e74154f142194282724</th>\n",
       "      <td>spam</td>\n",
       "      <td>##############################################...</td>\n",
       "    </tr>\n",
       "    <tr>\n",
       "      <th>spam/00400.cc74b7994a7282f32ee2a3b7e3634d31</th>\n",
       "      <td>spam</td>\n",
       "      <td>Our delightful garden ornaments combine the fi...</td>\n",
       "    </tr>\n",
       "    <tr>\n",
       "      <th>spam/00075.28a918cd03a0ef5aa2f1e0551a798108</th>\n",
       "      <td>spam</td>\n",
       "      <td>Dear Sir / Madam\\n\\n\\n\\nIf you are fed up of b...</td>\n",
       "    </tr>\n",
       "    <tr>\n",
       "      <th>spam/00035.7ce3307b56dd90453027a6630179282e.eml</th>\n",
       "      <td>spam</td>\n",
       "      <td>&lt;html&gt;\\n\\n&lt;head&gt;\\n\\n&lt;meta http-equiv=\"content-...</td>\n",
       "    </tr>\n",
       "    <tr>\n",
       "      <th>spam/00270.5dcd9ce3be2992222b9038d7bf75a23a</th>\n",
       "      <td>spam</td>\n",
       "      <td>Dear Partner to be,\\n\\n\\n\\nFirst, I must apolo...</td>\n",
       "    </tr>\n",
       "    <tr>\n",
       "      <th>spam/00435.69467ebbdbdd2d891624bf8fccda579f</th>\n",
       "      <td>spam</td>\n",
       "      <td>This is a multi-part message in MIME format.\\n...</td>\n",
       "    </tr>\n",
       "    <tr>\n",
       "      <th>spam/00060.ec71d52a6f585ace52f4a2a2be2adfce</th>\n",
       "      <td>spam</td>\n",
       "      <td>Market Internet Access \\n\\n\\n\\nNo Investment N...</td>\n",
       "    </tr>\n",
       "    <tr>\n",
       "      <th>spam/00100.81611d62ec1f172be947fda4af7caa2c</th>\n",
       "      <td>spam</td>\n",
       "      <td>###################################\\n\\n\\n\\n  F...</td>\n",
       "    </tr>\n",
       "    <tr>\n",
       "      <th>spam/00490.f0020a3ea5546c122f688b39f4380c95</th>\n",
       "      <td>spam</td>\n",
       "      <td>\\n\\n\\n\\nsocial\\n\\n\\n\\n\\n\\n\\n\\nOn January 1st 2...</td>\n",
       "    </tr>\n",
       "    <tr>\n",
       "      <th>spam/00173.e10eb62e2c7808674c43d6a5e9e08a1c</th>\n",
       "      <td>spam</td>\n",
       "      <td>&lt;html&gt;\\n\\n&lt;body bgColor=\"#CCCCCC\" topmargin=1 ...</td>\n",
       "    </tr>\n",
       "    <tr>\n",
       "      <th>spam/00291.7aa227e74e89bdd529a3875459d0d5a2</th>\n",
       "      <td>spam</td>\n",
       "      <td>This is a multi-part message in MIME format.\\n...</td>\n",
       "    </tr>\n",
       "    <tr>\n",
       "      <th>spam/00023.b6d27c684f5fc803cfa1060adb2d0805</th>\n",
       "      <td>spam</td>\n",
       "      <td>------=_NextPart_000_00B2_83B03D1E.C6530E24\\n\\...</td>\n",
       "    </tr>\n",
       "    <tr>\n",
       "      <th>...</th>\n",
       "      <td>...</td>\n",
       "      <td>...</td>\n",
       "    </tr>\n",
       "    <tr>\n",
       "      <th>ham/01471.df4b4b9ea2810aa90193462b95cfc05b</th>\n",
       "      <td>ham</td>\n",
       "      <td>On Fri, 13 Sep 2002 the voices made carlo@alin...</td>\n",
       "    </tr>\n",
       "    <tr>\n",
       "      <th>ham/00109.bcb73e4561798e05f2299471ab0be1bb</th>\n",
       "      <td>ham</td>\n",
       "      <td>Seems fetchmail has a -a switch to get it all....</td>\n",
       "    </tr>\n",
       "    <tr>\n",
       "      <th>ham/01630.2ce9002966c4aabfcd51c0ed8182b513</th>\n",
       "      <td>ham</td>\n",
       "      <td>On 5 Sep 2002, Richard Bartlett wrote:\\n\\n\\n\\n...</td>\n",
       "    </tr>\n",
       "    <tr>\n",
       "      <th>ham/01599.30e5cb62246ea4c06dbe1f8024ef9ffc</th>\n",
       "      <td>ham</td>\n",
       "      <td>I'm getting \"no servers available\" about half ...</td>\n",
       "    </tr>\n",
       "    <tr>\n",
       "      <th>ham/02293.2ae2c667486323afb16d109b406b8783</th>\n",
       "      <td>ham</td>\n",
       "      <td>URL: http://www.newsisfree.com/click/-0,859765...</td>\n",
       "    </tr>\n",
       "    <tr>\n",
       "      <th>ham/00505.22cfc49506156219ff2e4441d92e077a</th>\n",
       "      <td>ham</td>\n",
       "      <td>&gt;&gt;&gt;&gt;&gt; \"J\" == James Rogers &lt;jamesr@best.com&gt; wr...</td>\n",
       "    </tr>\n",
       "    <tr>\n",
       "      <th>ham/02068.bbd1abb5ce3c84be97f8423e631a872a</th>\n",
       "      <td>ham</td>\n",
       "      <td>URL: http://www.newsisfree.com/click/-1,838114...</td>\n",
       "    </tr>\n",
       "    <tr>\n",
       "      <th>ham/00489.2a739cd71c4667d635698fff5120bceb</th>\n",
       "      <td>ham</td>\n",
       "      <td>Hah.  I guess she doesn't want everyone to kno...</td>\n",
       "    </tr>\n",
       "    <tr>\n",
       "      <th>ham/00856.b71f98991ee068f642498810ba0c5383</th>\n",
       "      <td>ham</td>\n",
       "      <td>\\n\\n----- Original Message -----\\n\\nFrom: \"Gar...</td>\n",
       "    </tr>\n",
       "    <tr>\n",
       "      <th>ham/02220.4280613b5d6f26a438b380b45b10c833</th>\n",
       "      <td>ham</td>\n",
       "      <td>URL: http://boingboing.net/#85516395\\n\\nDate: ...</td>\n",
       "    </tr>\n",
       "    <tr>\n",
       "      <th>ham/00879.798415ecafdee535a11c68481f5d66b2</th>\n",
       "      <td>ham</td>\n",
       "      <td>draw the pain\\n\\n\\n\\n\"Ken never wrote about th...</td>\n",
       "    </tr>\n",
       "    <tr>\n",
       "      <th>ham/01654.ade7f371dd3f7c4393baf201b803755a.eml</th>\n",
       "      <td>ham</td>\n",
       "      <td>\\n\\n&gt;&gt;&gt;&gt;&gt; \"NS\" == Neil Schemenauer &lt;nas@python...</td>\n",
       "    </tr>\n",
       "    <tr>\n",
       "      <th>ham/02475.9277ee243e3f51fa53ed6be55798d360</th>\n",
       "      <td>ham</td>\n",
       "      <td>Smith, Graham - Computing Technician wrote:\\n\\...</td>\n",
       "    </tr>\n",
       "    <tr>\n",
       "      <th>ham/01213.25bf48d2ed386aa84360862062fc9c54</th>\n",
       "      <td>ham</td>\n",
       "      <td>Once upon a time, Matthias wrote :\\n\\n\\n\\n&gt; I'...</td>\n",
       "    </tr>\n",
       "    <tr>\n",
       "      <th>ham/01780.cefffc9e96ebdadead2eb63ffc6fa8d8</th>\n",
       "      <td>ham</td>\n",
       "      <td>\\n\\nForwarded-by: Sven Guckes &lt;guckes@math.fu-...</td>\n",
       "    </tr>\n",
       "    <tr>\n",
       "      <th>ham/00835.9068443a73e2e4b91c9117ef9b022675</th>\n",
       "      <td>ham</td>\n",
       "      <td>Neat stuff. Seems to combine elements of Scien...</td>\n",
       "    </tr>\n",
       "    <tr>\n",
       "      <th>ham/00237.885411da9a2cf59e223a953a1747d44f</th>\n",
       "      <td>ham</td>\n",
       "      <td>ive just gotton myself a modem (no its not a w...</td>\n",
       "    </tr>\n",
       "    <tr>\n",
       "      <th>ham/02001.2c618fdfdfa2ea01d0a5b6dc936942fa</th>\n",
       "      <td>ham</td>\n",
       "      <td>URL: http://www.newsisfree.com/click/-4,825931...</td>\n",
       "    </tr>\n",
       "    <tr>\n",
       "      <th>ham/00707.72dce8440a545f840d53765a11adce4f</th>\n",
       "      <td>ham</td>\n",
       "      <td>\\n\\n\\n\\nA worthy study procrastination tool: )...</td>\n",
       "    </tr>\n",
       "    <tr>\n",
       "      <th>ham/02395.ff44e9fcba3b3fb6541d320cde0831a1</th>\n",
       "      <td>ham</td>\n",
       "      <td>URL: http://www.newsisfree.com/click/-3,868897...</td>\n",
       "    </tr>\n",
       "    <tr>\n",
       "      <th>ham/01194.222c2f540913589b180c35e7034fa5ee</th>\n",
       "      <td>ham</td>\n",
       "      <td>&gt; &gt; &gt; &gt; INFO (15299: 0)gst_xml_registry_rebuil...</td>\n",
       "    </tr>\n",
       "    <tr>\n",
       "      <th>ham/02066.90b20b7ff6897463b82a981713cbdef4</th>\n",
       "      <td>ham</td>\n",
       "      <td>URL: http://www.newsisfree.com/click/-0,836576...</td>\n",
       "    </tr>\n",
       "    <tr>\n",
       "      <th>ham/00850.9435ce0e094b16d0f2c9c458f2900706</th>\n",
       "      <td>ham</td>\n",
       "      <td>\\n\\nThis is something new, or at least new to ...</td>\n",
       "    </tr>\n",
       "    <tr>\n",
       "      <th>ham/00630.d4dad4b8734a30afbf8c80499e652c2c</th>\n",
       "      <td>ham</td>\n",
       "      <td>On Wed, 18 Sep 2002, R. A. Hettinga wrote:\\n\\n...</td>\n",
       "    </tr>\n",
       "    <tr>\n",
       "      <th>ham/02486.bdf90e871b673fd14f47f3fe36622742</th>\n",
       "      <td>ham</td>\n",
       "      <td>What the hell is it with these mini remote con...</td>\n",
       "    </tr>\n",
       "    <tr>\n",
       "      <th>ham/00009.371eca25b0169ce5cb4f71d3e07b9e2d</th>\n",
       "      <td>ham</td>\n",
       "      <td>The Scotsman\\n\\n\\n\\n Thu 22 Aug 2002 \\n\\n\\n\\n ...</td>\n",
       "    </tr>\n",
       "    <tr>\n",
       "      <th>ham/01512.9a1a7937d7a0691e79d806bdfbda28a3</th>\n",
       "      <td>ham</td>\n",
       "      <td>Update of /cvsroot/spamassassin/spamassassin/l...</td>\n",
       "    </tr>\n",
       "    <tr>\n",
       "      <th>ham/00281.a143a6b20ae0f54335a78d477b3d82fe</th>\n",
       "      <td>ham</td>\n",
       "      <td>Since libdvdcss-1.2.0, I have been unable to p...</td>\n",
       "    </tr>\n",
       "    <tr>\n",
       "      <th>ham/01097.08d3f921b8b1e6627c89504ea1c14069</th>\n",
       "      <td>ham</td>\n",
       "      <td>On Wed, Feb 06, 2002 at 04:30:18PM +0200, Harr...</td>\n",
       "    </tr>\n",
       "    <tr>\n",
       "      <th>ham/01787.8c7c325481bbce39e57c1fc224ded7d5</th>\n",
       "      <td>ham</td>\n",
       "      <td>use Perl Daily Headline Mailer\\n\\n\\n\\n\"Perl 6:...</td>\n",
       "    </tr>\n",
       "  </tbody>\n",
       "</table>\n",
       "<p>1804 rows × 2 columns</p>\n",
       "</div>"
      ],
      "text/plain": [
       "                                                class  \\\n",
       "spam/00178.cdecf0f56ddc0bf61e922a131dc806c2      spam   \n",
       "spam/00063.2334fb4e465fc61e8406c75918ff72ed      spam   \n",
       "spam/00474.30772a1ac9e824976fc6676844d68b76      spam   \n",
       "spam/00401.309e29417819ce39d8599047d50933cc      spam   \n",
       "spam/00367.9688cdee9dfe720c297672c8f60d998f      spam   \n",
       "spam/00466.ecb11c98ec4511b5422b20476d935bd1      spam   \n",
       "spam/00026.da18dbed27ae933172f7a70f860c6ad0      spam   \n",
       "spam/00128.721b6b20d5834d490662e2ae8c5c0684      spam   \n",
       "spam/00245.f129d5e7df2eebd03948bb4f33fa7107      spam   \n",
       "spam/00224.0654fe0af51e1dcefa0eb66eb932f55f      spam   \n",
       "spam/00131.d955acc659fb151479460f9dd2f87efe      spam   \n",
       "spam/00221.c4dfeecf0cacc9469540337f5baf69db      spam   \n",
       "spam/00380.a262abe251ca7cc3026e4e146d9cf817      spam   \n",
       "spam/00271.85110ef4815c81ccea879857b0b062ed      spam   \n",
       "spam/00257.5c8ef87f8b11d2515df71a7fe46a70b6.eml  spam   \n",
       "spam/00481.5c95b526e965fa325044123c4ce29c1f      spam   \n",
       "spam/00219.eaf6c0ff67706c784f67f5c1225028a1      spam   \n",
       "spam/00440.647d9eb44fd0cb069ea92be204966a8e      spam   \n",
       "spam/00004.eac8de8d759b7e74154f142194282724      spam   \n",
       "spam/00400.cc74b7994a7282f32ee2a3b7e3634d31      spam   \n",
       "spam/00075.28a918cd03a0ef5aa2f1e0551a798108      spam   \n",
       "spam/00035.7ce3307b56dd90453027a6630179282e.eml  spam   \n",
       "spam/00270.5dcd9ce3be2992222b9038d7bf75a23a      spam   \n",
       "spam/00435.69467ebbdbdd2d891624bf8fccda579f      spam   \n",
       "spam/00060.ec71d52a6f585ace52f4a2a2be2adfce      spam   \n",
       "spam/00100.81611d62ec1f172be947fda4af7caa2c      spam   \n",
       "spam/00490.f0020a3ea5546c122f688b39f4380c95      spam   \n",
       "spam/00173.e10eb62e2c7808674c43d6a5e9e08a1c      spam   \n",
       "spam/00291.7aa227e74e89bdd529a3875459d0d5a2      spam   \n",
       "spam/00023.b6d27c684f5fc803cfa1060adb2d0805      spam   \n",
       "...                                               ...   \n",
       "ham/01471.df4b4b9ea2810aa90193462b95cfc05b        ham   \n",
       "ham/00109.bcb73e4561798e05f2299471ab0be1bb        ham   \n",
       "ham/01630.2ce9002966c4aabfcd51c0ed8182b513        ham   \n",
       "ham/01599.30e5cb62246ea4c06dbe1f8024ef9ffc        ham   \n",
       "ham/02293.2ae2c667486323afb16d109b406b8783        ham   \n",
       "ham/00505.22cfc49506156219ff2e4441d92e077a        ham   \n",
       "ham/02068.bbd1abb5ce3c84be97f8423e631a872a        ham   \n",
       "ham/00489.2a739cd71c4667d635698fff5120bceb        ham   \n",
       "ham/00856.b71f98991ee068f642498810ba0c5383        ham   \n",
       "ham/02220.4280613b5d6f26a438b380b45b10c833        ham   \n",
       "ham/00879.798415ecafdee535a11c68481f5d66b2        ham   \n",
       "ham/01654.ade7f371dd3f7c4393baf201b803755a.eml    ham   \n",
       "ham/02475.9277ee243e3f51fa53ed6be55798d360        ham   \n",
       "ham/01213.25bf48d2ed386aa84360862062fc9c54        ham   \n",
       "ham/01780.cefffc9e96ebdadead2eb63ffc6fa8d8        ham   \n",
       "ham/00835.9068443a73e2e4b91c9117ef9b022675        ham   \n",
       "ham/00237.885411da9a2cf59e223a953a1747d44f        ham   \n",
       "ham/02001.2c618fdfdfa2ea01d0a5b6dc936942fa        ham   \n",
       "ham/00707.72dce8440a545f840d53765a11adce4f        ham   \n",
       "ham/02395.ff44e9fcba3b3fb6541d320cde0831a1        ham   \n",
       "ham/01194.222c2f540913589b180c35e7034fa5ee        ham   \n",
       "ham/02066.90b20b7ff6897463b82a981713cbdef4        ham   \n",
       "ham/00850.9435ce0e094b16d0f2c9c458f2900706        ham   \n",
       "ham/00630.d4dad4b8734a30afbf8c80499e652c2c        ham   \n",
       "ham/02486.bdf90e871b673fd14f47f3fe36622742        ham   \n",
       "ham/00009.371eca25b0169ce5cb4f71d3e07b9e2d        ham   \n",
       "ham/01512.9a1a7937d7a0691e79d806bdfbda28a3        ham   \n",
       "ham/00281.a143a6b20ae0f54335a78d477b3d82fe        ham   \n",
       "ham/01097.08d3f921b8b1e6627c89504ea1c14069        ham   \n",
       "ham/01787.8c7c325481bbce39e57c1fc224ded7d5        ham   \n",
       "\n",
       "                                                                                           message  \n",
       "spam/00178.cdecf0f56ddc0bf61e922a131dc806c2      Protect your financial well-being.\\n\\nPurchase...  \n",
       "spam/00063.2334fb4e465fc61e8406c75918ff72ed      IS YOUR BUSINESS MAKING MONEY!\\n\\nSet Up To Ac...  \n",
       "spam/00474.30772a1ac9e824976fc6676844d68b76      <html><head>\\n\\n<title>Congratulations! You Ge...  \n",
       "spam/00401.309e29417819ce39d8599047d50933cc      A great sponsor will not make you money.\\n\\nA ...  \n",
       "spam/00367.9688cdee9dfe720c297672c8f60d998f      ++++++++++++++++++++++++++++++++++++++++++++++...  \n",
       "spam/00466.ecb11c98ec4511b5422b20476d935bd1      Dear Sir, \\n\\nWith due respect and humility I ...  \n",
       "spam/00026.da18dbed27ae933172f7a70f860c6ad0      DEAR FRIEND,I AM MRS.  SESE-SEKO WIDOW OF LATE...  \n",
       "spam/00128.721b6b20d5834d490662e2ae8c5c0684      ------=_NextPart_000_00A0_03E30A1A.B1804B54\\n\\...  \n",
       "spam/00245.f129d5e7df2eebd03948bb4f33fa7107       \\n\\nSent e-mail message   \\n\\n \\n\\nFrom: enen...  \n",
       "spam/00224.0654fe0af51e1dcefa0eb66eb932f55f      Dear sir,,\\n\\n\\n\\n\\n\\nMy name is DR Steven M D...  \n",
       "spam/00131.d955acc659fb151479460f9dd2f87efe      ==============================================...  \n",
       "spam/00221.c4dfeecf0cacc9469540337f5baf69db      <!DOCTYPE HTML PUBLIC \"-//W3C//DTD HTML 4.0 Tr...  \n",
       "spam/00380.a262abe251ca7cc3026e4e146d9cf817      <html>\\n\\n<TABLE id=AutoNumber2 style=\"BORDER-...  \n",
       "spam/00271.85110ef4815c81ccea879857b0b062ed      This is a multipart MIME message.\\n\\n\\n\\n--= M...  \n",
       "spam/00257.5c8ef87f8b11d2515df71a7fe46a70b6.eml  NEWSLETTER COACHINVEST  SEPTEMBRE 2002\\n\\n\\n...  \n",
       "spam/00481.5c95b526e965fa325044123c4ce29c1f       =?GB2312?B?yNW12squ0ru97NbQufq5+rzKtefX08nosb...  \n",
       "spam/00219.eaf6c0ff67706c784f67f5c1225028a1      ------=_NextPart_000_00D1_61B37D4A.A0476B56\\n\\...  \n",
       "spam/00440.647d9eb44fd0cb069ea92be204966a8e      ------=_NextPart_000_00A6_30E15B3E.B5031C68\\n\\...  \n",
       "spam/00004.eac8de8d759b7e74154f142194282724      ##############################################...  \n",
       "spam/00400.cc74b7994a7282f32ee2a3b7e3634d31      Our delightful garden ornaments combine the fi...  \n",
       "spam/00075.28a918cd03a0ef5aa2f1e0551a798108      Dear Sir / Madam\\n\\n\\n\\nIf you are fed up of b...  \n",
       "spam/00035.7ce3307b56dd90453027a6630179282e.eml  <html>\\n\\n<head>\\n\\n<meta http-equiv=\"content-...  \n",
       "spam/00270.5dcd9ce3be2992222b9038d7bf75a23a      Dear Partner to be,\\n\\n\\n\\nFirst, I must apolo...  \n",
       "spam/00435.69467ebbdbdd2d891624bf8fccda579f      This is a multi-part message in MIME format.\\n...  \n",
       "spam/00060.ec71d52a6f585ace52f4a2a2be2adfce      Market Internet Access \\n\\n\\n\\nNo Investment N...  \n",
       "spam/00100.81611d62ec1f172be947fda4af7caa2c      ###################################\\n\\n\\n\\n  F...  \n",
       "spam/00490.f0020a3ea5546c122f688b39f4380c95      \\n\\n\\n\\nsocial\\n\\n\\n\\n\\n\\n\\n\\nOn January 1st 2...  \n",
       "spam/00173.e10eb62e2c7808674c43d6a5e9e08a1c      <html>\\n\\n<body bgColor=\"#CCCCCC\" topmargin=1 ...  \n",
       "spam/00291.7aa227e74e89bdd529a3875459d0d5a2      This is a multi-part message in MIME format.\\n...  \n",
       "spam/00023.b6d27c684f5fc803cfa1060adb2d0805      ------=_NextPart_000_00B2_83B03D1E.C6530E24\\n\\...  \n",
       "...                                                                                            ...  \n",
       "ham/01471.df4b4b9ea2810aa90193462b95cfc05b       On Fri, 13 Sep 2002 the voices made carlo@alin...  \n",
       "ham/00109.bcb73e4561798e05f2299471ab0be1bb       Seems fetchmail has a -a switch to get it all....  \n",
       "ham/01630.2ce9002966c4aabfcd51c0ed8182b513       On 5 Sep 2002, Richard Bartlett wrote:\\n\\n\\n\\n...  \n",
       "ham/01599.30e5cb62246ea4c06dbe1f8024ef9ffc       I'm getting \"no servers available\" about half ...  \n",
       "ham/02293.2ae2c667486323afb16d109b406b8783       URL: http://www.newsisfree.com/click/-0,859765...  \n",
       "ham/00505.22cfc49506156219ff2e4441d92e077a       >>>>> \"J\" == James Rogers <jamesr@best.com> wr...  \n",
       "ham/02068.bbd1abb5ce3c84be97f8423e631a872a       URL: http://www.newsisfree.com/click/-1,838114...  \n",
       "ham/00489.2a739cd71c4667d635698fff5120bceb       Hah.  I guess she doesn't want everyone to kno...  \n",
       "ham/00856.b71f98991ee068f642498810ba0c5383       \\n\\n----- Original Message -----\\n\\nFrom: \"Gar...  \n",
       "ham/02220.4280613b5d6f26a438b380b45b10c833       URL: http://boingboing.net/#85516395\\n\\nDate: ...  \n",
       "ham/00879.798415ecafdee535a11c68481f5d66b2       draw the pain\\n\\n\\n\\n\"Ken never wrote about th...  \n",
       "ham/01654.ade7f371dd3f7c4393baf201b803755a.eml   \\n\\n>>>>> \"NS\" == Neil Schemenauer <nas@python...  \n",
       "ham/02475.9277ee243e3f51fa53ed6be55798d360       Smith, Graham - Computing Technician wrote:\\n\\...  \n",
       "ham/01213.25bf48d2ed386aa84360862062fc9c54       Once upon a time, Matthias wrote :\\n\\n\\n\\n> I'...  \n",
       "ham/01780.cefffc9e96ebdadead2eb63ffc6fa8d8       \\n\\nForwarded-by: Sven Guckes <guckes@math.fu-...  \n",
       "ham/00835.9068443a73e2e4b91c9117ef9b022675       Neat stuff. Seems to combine elements of Scien...  \n",
       "ham/00237.885411da9a2cf59e223a953a1747d44f       ive just gotton myself a modem (no its not a w...  \n",
       "ham/02001.2c618fdfdfa2ea01d0a5b6dc936942fa       URL: http://www.newsisfree.com/click/-4,825931...  \n",
       "ham/00707.72dce8440a545f840d53765a11adce4f       \\n\\n\\n\\nA worthy study procrastination tool: )...  \n",
       "ham/02395.ff44e9fcba3b3fb6541d320cde0831a1       URL: http://www.newsisfree.com/click/-3,868897...  \n",
       "ham/01194.222c2f540913589b180c35e7034fa5ee       > > > > INFO (15299: 0)gst_xml_registry_rebuil...  \n",
       "ham/02066.90b20b7ff6897463b82a981713cbdef4       URL: http://www.newsisfree.com/click/-0,836576...  \n",
       "ham/00850.9435ce0e094b16d0f2c9c458f2900706       \\n\\nThis is something new, or at least new to ...  \n",
       "ham/00630.d4dad4b8734a30afbf8c80499e652c2c       On Wed, 18 Sep 2002, R. A. Hettinga wrote:\\n\\n...  \n",
       "ham/02486.bdf90e871b673fd14f47f3fe36622742       What the hell is it with these mini remote con...  \n",
       "ham/00009.371eca25b0169ce5cb4f71d3e07b9e2d       The Scotsman\\n\\n\\n\\n Thu 22 Aug 2002 \\n\\n\\n\\n ...  \n",
       "ham/01512.9a1a7937d7a0691e79d806bdfbda28a3       Update of /cvsroot/spamassassin/spamassassin/l...  \n",
       "ham/00281.a143a6b20ae0f54335a78d477b3d82fe       Since libdvdcss-1.2.0, I have been unable to p...  \n",
       "ham/01097.08d3f921b8b1e6627c89504ea1c14069       On Wed, Feb 06, 2002 at 04:30:18PM +0200, Harr...  \n",
       "ham/01787.8c7c325481bbce39e57c1fc224ded7d5       use Perl Daily Headline Mailer\\n\\n\\n\\n\"Perl 6:...  \n",
       "\n",
       "[1804 rows x 2 columns]"
      ]
     },
     "execution_count": 2,
     "metadata": {},
     "output_type": "execute_result"
    }
   ],
   "source": [
    "data"
   ]
  },
  {
   "cell_type": "markdown",
   "metadata": {},
   "source": [
    "Now we will use a CountVectorizer to split up each message into its list of words, and throw that into a MultinomialNB classifier. Call fit() and we've got a trained spam filter ready to go."
   ]
  },
  {
   "cell_type": "code",
   "execution_count": 3,
   "metadata": {},
   "outputs": [
    {
     "data": {
      "text/plain": [
       "MultinomialNB(alpha=1.0, class_prior=None, fit_prior=True)"
      ]
     },
     "execution_count": 3,
     "metadata": {},
     "output_type": "execute_result"
    }
   ],
   "source": [
    "vectorizer = CountVectorizer()\n",
    "counts = vectorizer.fit_transform(data['message'].values)\n",
    "\n",
    "classifier = MultinomialNB()\n",
    "targets = data['class'].values\n",
    "classifier.fit(counts, targets)"
   ]
  },
  {
   "cell_type": "markdown",
   "metadata": {},
   "source": [
    "Let's try out couple examples."
   ]
  },
  {
   "cell_type": "code",
   "execution_count": 4,
   "metadata": {},
   "outputs": [
    {
     "data": {
      "text/plain": [
       "array(['spam', 'ham', 'spam'],\n",
       "      dtype='<U4')"
      ]
     },
     "execution_count": 4,
     "metadata": {},
     "output_type": "execute_result"
    }
   ],
   "source": [
    "examples = ['free viagra', \"Hi Bob, how about a game of golf tomorrow?\", \"Come to Sam GU's free lunch!\"]\n",
    "example_counts = vectorizer.transform(examples)\n",
    "predictions = classifier.predict(example_counts)\n",
    "predictions"
   ]
  },
  {
   "cell_type": "markdown",
   "metadata": {},
   "source": [
    "The first message 'free viagra' was correctly classified as **spam** and the second message, seems to be an actual question, was classified as **non spam**."
   ]
  },
  {
   "cell_type": "markdown",
   "metadata": {},
   "source": [
    "### Let's digger deeper into above magic"
   ]
  },
  {
   "cell_type": "code",
   "execution_count": 5,
   "metadata": {},
   "outputs": [
    {
     "data": {
      "text/plain": [
       "<1804x55330 sparse matrix of type '<class 'numpy.int64'>'\n",
       "\twith 285221 stored elements in Compressed Sparse Row format>"
      ]
     },
     "execution_count": 5,
     "metadata": {},
     "output_type": "execute_result"
    }
   ],
   "source": [
    "counts"
   ]
  },
  {
   "cell_type": "code",
   "execution_count": 6,
   "metadata": {},
   "outputs": [
    {
     "name": "stdout",
     "output_type": "stream",
     "text": [
      "size in Mega Bytes:\n"
     ]
    },
    {
     "data": {
      "text/plain": [
       "95.1913070678711"
      ]
     },
     "execution_count": 6,
     "metadata": {},
     "output_type": "execute_result"
    }
   ],
   "source": [
    "print('size in Mega Bytes:')\n",
    "1804 * 55330 / 1024 / 1024"
   ]
  },
  {
   "cell_type": "markdown",
   "metadata": {},
   "source": [
    "### How many web pages are there on the internet in 2016?\n",
    "\n",
    "The size of the World Wide Web (The Internet)\n",
    "\n",
    "The Indexed Web contains at least **4.62 billion** pages (Wednesday, 30 March, 2016).\n",
    "The Dutch Indexed Web contains at least **231.99 million** pages (Wednesday, 30 March, 2016)"
   ]
  },
  {
   "cell_type": "code",
   "execution_count": 7,
   "metadata": {},
   "outputs": [
    {
     "name": "stdout",
     "output_type": "stream",
     "text": [
      "size in Tera Bytes:\n"
     ]
    },
    {
     "data": {
      "text/plain": [
       "5.935681632386063"
      ]
     },
     "execution_count": 7,
     "metadata": {},
     "output_type": "execute_result"
    }
   ],
   "source": [
    "# If we want to process all internet webpages (emails/document/news articles)\n",
    "print('size in Tera Bytes:')\n",
    "231.99 * 1000000 * 55330 / 1024 / 1024 / 1024 /2014"
   ]
  },
  {
   "cell_type": "code",
   "execution_count": 8,
   "metadata": {},
   "outputs": [
    {
     "data": {
      "text/plain": [
       "<1x55330 sparse matrix of type '<class 'numpy.int64'>'\n",
       "\twith 100 stored elements in Compressed Sparse Row format>"
      ]
     },
     "execution_count": 8,
     "metadata": {},
     "output_type": "execute_result"
    }
   ],
   "source": [
    "counts[0]"
   ]
  },
  {
   "cell_type": "code",
   "execution_count": 9,
   "metadata": {},
   "outputs": [
    {
     "data": {
      "text/plain": [
       "matrix([[0, 1, 0, ..., 0, 0, 0]])"
      ]
     },
     "execution_count": 9,
     "metadata": {},
     "output_type": "execute_result"
    }
   ],
   "source": [
    "counts[0].todense()"
   ]
  },
  {
   "cell_type": "code",
   "execution_count": 10,
   "metadata": {},
   "outputs": [
    {
     "data": {
      "text/plain": [
       "<1x55330 sparse matrix of type '<class 'numpy.int64'>'\n",
       "\twith 76 stored elements in Compressed Sparse Row format>"
      ]
     },
     "execution_count": 10,
     "metadata": {},
     "output_type": "execute_result"
    }
   ],
   "source": [
    "counts[1]"
   ]
  },
  {
   "cell_type": "code",
   "execution_count": 11,
   "metadata": {},
   "outputs": [
    {
     "data": {
      "text/plain": [
       "<3x55330 sparse matrix of type '<class 'numpy.int64'>'\n",
       "\twith 16 stored elements in Compressed Sparse Row format>"
      ]
     },
     "execution_count": 11,
     "metadata": {},
     "output_type": "execute_result"
    }
   ],
   "source": [
    "example_counts"
   ]
  },
  {
   "cell_type": "markdown",
   "metadata": {},
   "source": [
    "---"
   ]
  }
 ],
 "metadata": {
  "kernelspec": {
   "display_name": "Python 3",
   "language": "python",
   "name": "python3"
  },
  "language_info": {
   "codemirror_mode": {
    "name": "ipython",
    "version": 3
   },
   "file_extension": ".py",
   "mimetype": "text/x-python",
   "name": "python",
   "nbconvert_exporter": "python",
   "pygments_lexer": "ipython3",
   "version": "3.6.4"
  }
 },
 "nbformat": 4,
 "nbformat_minor": 2
}
