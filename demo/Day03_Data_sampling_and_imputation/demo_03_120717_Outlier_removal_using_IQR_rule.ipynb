{
 "cells": [
  {
   "cell_type": "markdown",
   "metadata": {},
   "source": [
    "# Outlier removal in Python using IQR rule "
   ]
  },
  {
   "cell_type": "markdown",
   "metadata": {},
   "source": [
    "In short outliers can be a bit of a pain and have an impact on the results. Grubbs (1969) states an outlier “is an observation point that is distant from other observations”. They can usually be seen when we plot the data, below we can see 1, maybe 2 outliers in the density plot. 2.5 is a clear outliers and 2.0 may or may not be.\n",
    "\n",
    "<img class=\" wp-image-138 size-medium aligncenter\" src=\"http://stamfordresearch.com/wp-content/uploads/2015/02/density-plot-300x284.jpg\" alt=\"Density Plot (outlier)\" width=\"300\" height=\"284\" srcset=\"http://stamfordresearch.com/wp-content/uploads/2015/02/density-plot-300x284.jpg 300w, http://stamfordresearch.com/wp-content/uploads/2015/02/density-plot.jpg 427w\" sizes=\"(max-width: 300px) 100vw, 300px\">\n",
    "\n",
    "So, one of the ways that we can identify outliers is through the use of the Interquartile Range Rule  (IQR Rule). This sets a min and max value for the range based on the 1st and 3rd quartile."
   ]
  },
  {
   "cell_type": "markdown",
   "metadata": {},
   "source": [
    "Step 1, get the  Interquartile Range:\n",
    "\n",
    "<img class=\"aligncenter size-full wp-image-139\" src=\"http://stamfordresearch.com/wp-content/uploads/2015/02/IQR.png\" alt=\"\" width=\"125\" height=\"16\" scale=\"0\">\n",
    "\n",
    "Step 2, calculate the upper and lower values:\n",
    "<img class=\"aligncenter size-full wp-image-141\" src=\"http://stamfordresearch.com/wp-content/uploads/2015/02/minIQR.png\" alt=\"\" width=\"196\" height=\"18\" scale=\"0\">\n",
    "<img class=\"aligncenter size-full wp-image-145\" src=\"http://stamfordresearch.com/wp-content/uploads/2015/02/MaxIQR.png\" alt=\"MaxIQR\" width=\"198\" height=\"18\" scale=\"0\">\n",
    "\n",
    "Step 3, remove anything greater than max, or less than min."
   ]
  },
  {
   "cell_type": "markdown",
   "metadata": {},
   "source": [
    "This time we’ll work along with the Titanic dataset. We will also do a little extra thing – log transform the data."
   ]
  },
  {
   "cell_type": "code",
   "execution_count": 34,
   "metadata": {
    "collapsed": true
   },
   "outputs": [],
   "source": [
    "import pandas as pd\n",
    "import numpy as np\n",
    "\n",
    "import matplotlib.pyplot as plt\n",
    "\n",
    "%matplotlib inline\n",
    "import seaborn as sns\n",
    "\n",
    "MAX_ROWS = 10\n",
    "pd.set_option('display.max_rows', MAX_ROWS)\n",
    "pd.set_option('display.max_columns', 200)\n",
    "\n",
    "sns.set_style(\"whitegrid\")\n",
    "sns.set_context(\"paper\")\n"
   ]
  },
  {
   "cell_type": "markdown",
   "metadata": {},
   "source": [
    "- pd.set_options are set to display only 10 rows but all columns. \n",
    "\n",
    "- We’re using Seaborn (external link) for some box plots. \n",
    "\n",
    "- Import Seaborn and use set_style and set_context. This makes the Matplotlib plots look better (publication quality)."
   ]
  },
  {
   "cell_type": "code",
   "execution_count": 35,
   "metadata": {},
   "outputs": [
    {
     "data": {
      "text/html": [
       "<div>\n",
       "<style>\n",
       "    .dataframe thead tr:only-child th {\n",
       "        text-align: right;\n",
       "    }\n",
       "\n",
       "    .dataframe thead th {\n",
       "        text-align: left;\n",
       "    }\n",
       "\n",
       "    .dataframe tbody tr th {\n",
       "        vertical-align: top;\n",
       "    }\n",
       "</style>\n",
       "<table border=\"1\" class=\"dataframe\">\n",
       "  <thead>\n",
       "    <tr style=\"text-align: right;\">\n",
       "      <th></th>\n",
       "      <th>PassengerId</th>\n",
       "      <th>Survived</th>\n",
       "      <th>Pclass</th>\n",
       "      <th>Name</th>\n",
       "      <th>Sex</th>\n",
       "      <th>Age</th>\n",
       "      <th>SibSp</th>\n",
       "      <th>Parch</th>\n",
       "      <th>Ticket</th>\n",
       "      <th>Fare</th>\n",
       "      <th>Cabin</th>\n",
       "      <th>Embarked</th>\n",
       "    </tr>\n",
       "  </thead>\n",
       "  <tbody>\n",
       "    <tr>\n",
       "      <th>0</th>\n",
       "      <td>1</td>\n",
       "      <td>0</td>\n",
       "      <td>3</td>\n",
       "      <td>Braund, Mr. Owen Harris</td>\n",
       "      <td>male</td>\n",
       "      <td>22.0</td>\n",
       "      <td>1</td>\n",
       "      <td>0</td>\n",
       "      <td>A/5 21171</td>\n",
       "      <td>7.2500</td>\n",
       "      <td>NaN</td>\n",
       "      <td>S</td>\n",
       "    </tr>\n",
       "    <tr>\n",
       "      <th>1</th>\n",
       "      <td>2</td>\n",
       "      <td>1</td>\n",
       "      <td>1</td>\n",
       "      <td>Cumings, Mrs. John Bradley (Florence Briggs Th...</td>\n",
       "      <td>female</td>\n",
       "      <td>38.0</td>\n",
       "      <td>1</td>\n",
       "      <td>0</td>\n",
       "      <td>PC 17599</td>\n",
       "      <td>71.2833</td>\n",
       "      <td>C85</td>\n",
       "      <td>C</td>\n",
       "    </tr>\n",
       "    <tr>\n",
       "      <th>2</th>\n",
       "      <td>3</td>\n",
       "      <td>1</td>\n",
       "      <td>3</td>\n",
       "      <td>Heikkinen, Miss. Laina</td>\n",
       "      <td>female</td>\n",
       "      <td>26.0</td>\n",
       "      <td>0</td>\n",
       "      <td>0</td>\n",
       "      <td>STON/O2. 3101282</td>\n",
       "      <td>7.9250</td>\n",
       "      <td>NaN</td>\n",
       "      <td>S</td>\n",
       "    </tr>\n",
       "    <tr>\n",
       "      <th>3</th>\n",
       "      <td>4</td>\n",
       "      <td>1</td>\n",
       "      <td>1</td>\n",
       "      <td>Futrelle, Mrs. Jacques Heath (Lily May Peel)</td>\n",
       "      <td>female</td>\n",
       "      <td>35.0</td>\n",
       "      <td>1</td>\n",
       "      <td>0</td>\n",
       "      <td>113803</td>\n",
       "      <td>53.1000</td>\n",
       "      <td>C123</td>\n",
       "      <td>S</td>\n",
       "    </tr>\n",
       "    <tr>\n",
       "      <th>4</th>\n",
       "      <td>5</td>\n",
       "      <td>0</td>\n",
       "      <td>3</td>\n",
       "      <td>Allen, Mr. William Henry</td>\n",
       "      <td>male</td>\n",
       "      <td>35.0</td>\n",
       "      <td>0</td>\n",
       "      <td>0</td>\n",
       "      <td>373450</td>\n",
       "      <td>8.0500</td>\n",
       "      <td>NaN</td>\n",
       "      <td>S</td>\n",
       "    </tr>\n",
       "  </tbody>\n",
       "</table>\n",
       "</div>"
      ],
      "text/plain": [
       "   PassengerId  Survived  Pclass  \\\n",
       "0            1         0       3   \n",
       "1            2         1       1   \n",
       "2            3         1       3   \n",
       "3            4         1       1   \n",
       "4            5         0       3   \n",
       "\n",
       "                                                Name     Sex   Age  SibSp  \\\n",
       "0                            Braund, Mr. Owen Harris    male  22.0      1   \n",
       "1  Cumings, Mrs. John Bradley (Florence Briggs Th...  female  38.0      1   \n",
       "2                             Heikkinen, Miss. Laina  female  26.0      0   \n",
       "3       Futrelle, Mrs. Jacques Heath (Lily May Peel)  female  35.0      1   \n",
       "4                           Allen, Mr. William Henry    male  35.0      0   \n",
       "\n",
       "   Parch            Ticket     Fare Cabin Embarked  \n",
       "0      0         A/5 21171   7.2500   NaN        S  \n",
       "1      0          PC 17599  71.2833   C85        C  \n",
       "2      0  STON/O2. 3101282   7.9250   NaN        S  \n",
       "3      0            113803  53.1000  C123        S  \n",
       "4      0            373450   8.0500   NaN        S  "
      ]
     },
     "execution_count": 35,
     "metadata": {},
     "output_type": "execute_result"
    }
   ],
   "source": [
    "df = pd.read_csv('Titanic.csv')\n",
    "df.head()"
   ]
  },
  {
   "cell_type": "code",
   "execution_count": 36,
   "metadata": {},
   "outputs": [
    {
     "data": {
      "text/plain": [
       "(891, 12)"
      ]
     },
     "execution_count": 36,
     "metadata": {},
     "output_type": "execute_result"
    }
   ],
   "source": [
    "df.shape"
   ]
  },
  {
   "cell_type": "markdown",
   "metadata": {},
   "source": [
    "We should see the full dataset, note: it has 891 rows and 12 columns."
   ]
  },
  {
   "cell_type": "markdown",
   "metadata": {},
   "source": [
    "# Visualize the data"
   ]
  },
  {
   "cell_type": "markdown",
   "metadata": {},
   "source": [
    "We are going to work with the Fares variable, so lets have a look at it."
   ]
  },
  {
   "cell_type": "markdown",
   "metadata": {},
   "source": [
    "We are also setting the x axis to a min and max values based on the min and max of the variable."
   ]
  },
  {
   "cell_type": "code",
   "execution_count": 37,
   "metadata": {},
   "outputs": [
    {
     "data": {
      "text/plain": [
       "<matplotlib.axes._subplots.AxesSubplot at 0x21fa24c70f0>"
      ]
     },
     "execution_count": 37,
     "metadata": {},
     "output_type": "execute_result"
    },
    {
     "data": {
      "image/png": "[encoded data removed]",
      "text/plain": [
       "<matplotlib.figure.Figure at 0x21fa24ce9b0>"
      ]
     },
     "metadata": {},
     "output_type": "display_data"
    }
   ],
   "source": [
    "i = 'Fare'\n",
    " \n",
    "plt.figure(figsize=(10,8))\n",
    "plt.subplot(211)\n",
    "plt.xlim(df[i].min(), df[i].max()*1.1)\n",
    " \n",
    "ax = df[i].plot(kind='kde')\n",
    " \n",
    "plt.subplot(212)\n",
    "plt.xlim(df[i].min(), df[i].max()*1.1)\n",
    "sns.boxplot(x=df[i])"
   ]
  },
  {
   "cell_type": "markdown",
   "metadata": {},
   "source": [
    "Here we have two plots, the density plot and the box plot. This is a good way to view the data as we can see in the density plot (top) that there is some data points in the tails but it is difficult to see, however it is clear in the box plot."
   ]
  },
  {
   "cell_type": "markdown",
   "metadata": {},
   "source": [
    "# Transform the data"
   ]
  },
  {
   "cell_type": "markdown",
   "metadata": {},
   "source": [
    "Clean the data"
   ]
  },
  {
   "cell_type": "code",
   "execution_count": 38,
   "metadata": {
    "collapsed": true
   },
   "outputs": [],
   "source": [
    "# Remove any zeros (otherwise we get (-inf)\n",
    "df.loc[df.Fare == 0, 'Fare'] = np.nan\n",
    "\n",
    "# Drop NA\n",
    "df.dropna(inplace=True)\n",
    "\n",
    "# Log Transform\n",
    "df['Log_' + i] = np.log(df[i])"
   ]
  },
  {
   "cell_type": "markdown",
   "metadata": {},
   "source": [
    "** Here's what we've done.**\n",
    "1. We set all zero values in Fares to NaN. A zero can cause a problem when using a log transform\n",
    "2. We drop all the rows with a NaN, this is a bit extreme in this example (you can change df.dropna(inplace=True) to df.dropna(subset=[‘Fare’], inplace=True) to keep more data)\n",
    "3. We create a new variable called ‘Log_’ + i where i is ‘Fare’, so the new variable is Log_Fare"
   ]
  },
  {
   "cell_type": "markdown",
   "metadata": {},
   "source": [
    "Plot the values as before changing i to 'Log_Fare'"
   ]
  },
  {
   "cell_type": "code",
   "execution_count": 39,
   "metadata": {},
   "outputs": [
    {
     "data": {
      "text/plain": [
       "<matplotlib.axes._subplots.AxesSubplot at 0x21fa12b39e8>"
      ]
     },
     "execution_count": 39,
     "metadata": {},
     "output_type": "execute_result"
    },
    {
     "data": {
      "image/png": "[encoded data removed]",
      "text/plain": [
       "<matplotlib.figure.Figure at 0x21fa12f9668>"
      ]
     },
     "metadata": {},
     "output_type": "display_data"
    }
   ],
   "source": [
    "i = 'Log_Fare'\n",
    " \n",
    "plt.figure(figsize=(10,8))\n",
    "plt.subplot(211)\n",
    "plt.xlim(df[i].min(), df[i].max()*1.1)\n",
    " \n",
    "ax = df[i].plot(kind='kde')\n",
    " \n",
    "plt.subplot(212)\n",
    "plt.xlim(df[i].min(), df[i].max()*1.1)\n",
    "sns.boxplot(x=df[i])"
   ]
  },
  {
   "cell_type": "markdown",
   "metadata": {},
   "source": [
    "# Determine min & max"
   ]
  },
  {
   "cell_type": "markdown",
   "metadata": {},
   "source": [
    "Next we need to determine the min and max cuttoffs for detecting the outliers.\n",
    "\n",
    "Step 1, get the  Interquartile Range:\n",
    "\n",
    "<img class=\"aligncenter size-full wp-image-139\" src=\"http://stamfordresearch.com/wp-content/uploads/2015/02/IQR.png\" alt=\"\" width=\"125\" height=\"16\" scale=\"0\">\n",
    "\n",
    "Step 2, calculate the upper and lower values:\n",
    "<img class=\"aligncenter size-full wp-image-141\" src=\"http://stamfordresearch.com/wp-content/uploads/2015/02/minIQR.png\" alt=\"\" width=\"196\" height=\"18\" scale=\"0\">\n",
    "<img class=\"aligncenter size-full wp-image-145\" src=\"http://stamfordresearch.com/wp-content/uploads/2015/02/MaxIQR.png\" alt=\"MaxIQR\" width=\"198\" height=\"18\" scale=\"0\">"
   ]
  },
  {
   "cell_type": "code",
   "execution_count": 40,
   "metadata": {
    "collapsed": true
   },
   "outputs": [],
   "source": [
    "q75, q25 = np.percentile(df.Log_Fare.dropna(), [75 ,25])\n",
    "iqr = q75 - q25\n",
    " \n",
    "min = q25 - (iqr*1.5)\n",
    "max = q75 + (iqr*1.5)"
   ]
  },
  {
   "cell_type": "markdown",
   "metadata": {},
   "source": [
    "We can visualise this using similar code as shown above by adding plt.axvline."
   ]
  },
  {
   "cell_type": "code",
   "execution_count": 41,
   "metadata": {},
   "outputs": [
    {
     "data": {
      "text/plain": [
       "<matplotlib.lines.Line2D at 0x21fa13eb978>"
      ]
     },
     "execution_count": 41,
     "metadata": {},
     "output_type": "execute_result"
    },
    {
     "data": {
      "image/png": "[encoded data removed]",
      "text/plain": [
       "<matplotlib.figure.Figure at 0x21fa2620f60>"
      ]
     },
     "metadata": {},
     "output_type": "display_data"
    }
   ],
   "source": [
    "i = 'Log_Fare'\n",
    " \n",
    "plt.figure(figsize=(10,8))\n",
    "plt.subplot(211)\n",
    "plt.xlim(df[i].min(), df[i].max()*1.1)\n",
    "plt.axvline(x=min)\n",
    "plt.axvline(x=max)\n",
    " \n",
    "ax = df[i].plot(kind='kde')\n",
    " \n",
    "plt.subplot(212)\n",
    "plt.xlim(df[i].min(), df[i].max()*1.1)\n",
    "sns.boxplot(x=df[i])\n",
    "plt.axvline(x=min)\n",
    "plt.axvline(x=max)"
   ]
  },
  {
   "cell_type": "markdown",
   "metadata": {},
   "source": [
    "# Finishing touches"
   ]
  },
  {
   "cell_type": "markdown",
   "metadata": {},
   "source": [
    "Now lets identify the outliers. First we set a new variable in the dataframe called ‘Outlier’ defaulted to 0, then is a row is outside this range we set it to 1. \n",
    "\n",
    "**Note: i should still be ‘Log_Fare’**"
   ]
  },
  {
   "cell_type": "code",
   "execution_count": 42,
   "metadata": {
    "collapsed": true
   },
   "outputs": [],
   "source": [
    "df['Outlier'] = 0\n",
    " \n",
    "df.loc[df[i] < min, 'Outlier'] = 1\n",
    "df.loc[df[i] > max, 'Outlier'] = 1"
   ]
  },
  {
   "cell_type": "code",
   "execution_count": 43,
   "metadata": {
    "collapsed": true
   },
   "outputs": [],
   "source": [
    "df2 = df[df[\"Outlier\"] == 0]"
   ]
  },
  {
   "cell_type": "markdown",
   "metadata": {},
   "source": [
    "Now we can plot the original data and the data without the outliers in (Clean Data)."
   ]
  },
  {
   "cell_type": "code",
   "execution_count": 46,
   "metadata": {},
   "outputs": [
    {
     "data": {
      "image/png": "[encoded data removed]",
      "text/plain": [
       "<matplotlib.figure.Figure at 0x21fa24afe10>"
      ]
     },
     "metadata": {},
     "output_type": "display_data"
    },
    {
     "data": {
      "image/png": "[encoded data removed]",
      "text/plain": [
       "<matplotlib.figure.Figure at 0x21fa25e7668>"
      ]
     },
     "metadata": {},
     "output_type": "display_data"
    }
   ],
   "source": [
    "i = 'Log_Fare'\n",
    " \n",
    "plt.figure(figsize=(10,8))\n",
    "plt.subplot(211)\n",
    "plt.title(\"Original Data\")\n",
    "plt.xlim(df[i].min(), df[i].max()*1.1)\n",
    "ax = df[i].plot(kind='kde')\n",
    "\n",
    "plt.figure(figsize=(10,8))\n",
    "plt.subplot(211)\n",
    "plt.title(\"Cleaned Data\")\n",
    "plt.xlim(df2[i].min(), df2[i].max()*1.1)\n",
    "ax = df2[i].plot(kind='kde')"
   ]
  }
 ],
 "metadata": {
  "kernelspec": {
   "display_name": "Python 3",
   "language": "python",
   "name": "python3"
  },
  "language_info": {
   "codemirror_mode": {
    "name": "ipython",
    "version": 3
   },
   "file_extension": ".py",
   "mimetype": "text/x-python",
   "name": "python",
   "nbconvert_exporter": "python",
   "pygments_lexer": "ipython3",
   "version": "3.5.3"
  }
 },
 "nbformat": 4,
 "nbformat_minor": 2
}
