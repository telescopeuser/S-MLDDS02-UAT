{
 "cells": [
  {
   "cell_type": "code",
   "execution_count": 31,
   "metadata": {},
   "outputs": [],
   "source": [
    "import numpy as np\n",
    "import pandas as pd\n",
    "from pylab import *\n",
    "from sklearn import svm"
   ]
  },
  {
   "cell_type": "code",
   "execution_count": 49,
   "metadata": {
    "scrolled": true
   },
   "outputs": [
    {
     "data": {
      "text/html": [
       "<div>\n",
       "<style scoped>\n",
       "    .dataframe tbody tr th:only-of-type {\n",
       "        vertical-align: middle;\n",
       "    }\n",
       "\n",
       "    .dataframe tbody tr th {\n",
       "        vertical-align: top;\n",
       "    }\n",
       "\n",
       "    .dataframe thead th {\n",
       "        text-align: right;\n",
       "    }\n",
       "</style>\n",
       "<table border=\"1\" class=\"dataframe\">\n",
       "  <thead>\n",
       "    <tr style=\"text-align: right;\">\n",
       "      <th></th>\n",
       "      <th>Case #</th>\n",
       "      <th>I0</th>\n",
       "      <th>PA500</th>\n",
       "      <th>HFS</th>\n",
       "      <th>DA</th>\n",
       "      <th>Area</th>\n",
       "      <th>A/DA</th>\n",
       "      <th>Max IP</th>\n",
       "      <th>DR</th>\n",
       "      <th>P</th>\n",
       "    </tr>\n",
       "  </thead>\n",
       "  <tbody>\n",
       "    <tr>\n",
       "      <th>count</th>\n",
       "      <td>106.000000</td>\n",
       "      <td>106.000000</td>\n",
       "      <td>106.000000</td>\n",
       "      <td>106.000000</td>\n",
       "      <td>106.000000</td>\n",
       "      <td>106.000000</td>\n",
       "      <td>106.000000</td>\n",
       "      <td>106.000000</td>\n",
       "      <td>106.000000</td>\n",
       "      <td>106.000000</td>\n",
       "    </tr>\n",
       "    <tr>\n",
       "      <th>mean</th>\n",
       "      <td>53.500000</td>\n",
       "      <td>784.251618</td>\n",
       "      <td>0.120133</td>\n",
       "      <td>0.114691</td>\n",
       "      <td>190.568642</td>\n",
       "      <td>7335.155162</td>\n",
       "      <td>23.473784</td>\n",
       "      <td>75.381258</td>\n",
       "      <td>166.710575</td>\n",
       "      <td>810.638127</td>\n",
       "    </tr>\n",
       "    <tr>\n",
       "      <th>std</th>\n",
       "      <td>30.743563</td>\n",
       "      <td>753.950075</td>\n",
       "      <td>0.068596</td>\n",
       "      <td>0.101347</td>\n",
       "      <td>190.801448</td>\n",
       "      <td>18580.314213</td>\n",
       "      <td>23.354672</td>\n",
       "      <td>81.345838</td>\n",
       "      <td>181.309580</td>\n",
       "      <td>763.019135</td>\n",
       "    </tr>\n",
       "    <tr>\n",
       "      <th>min</th>\n",
       "      <td>1.000000</td>\n",
       "      <td>103.000000</td>\n",
       "      <td>0.012392</td>\n",
       "      <td>-0.066323</td>\n",
       "      <td>19.647670</td>\n",
       "      <td>70.426239</td>\n",
       "      <td>1.595742</td>\n",
       "      <td>7.968783</td>\n",
       "      <td>-9.257696</td>\n",
       "      <td>124.978561</td>\n",
       "    </tr>\n",
       "    <tr>\n",
       "      <th>25%</th>\n",
       "      <td>27.250000</td>\n",
       "      <td>250.000000</td>\n",
       "      <td>0.067413</td>\n",
       "      <td>0.043982</td>\n",
       "      <td>53.845470</td>\n",
       "      <td>409.647141</td>\n",
       "      <td>8.180321</td>\n",
       "      <td>26.893773</td>\n",
       "      <td>41.781258</td>\n",
       "      <td>270.215238</td>\n",
       "    </tr>\n",
       "    <tr>\n",
       "      <th>50%</th>\n",
       "      <td>53.500000</td>\n",
       "      <td>384.936489</td>\n",
       "      <td>0.105418</td>\n",
       "      <td>0.086568</td>\n",
       "      <td>120.777303</td>\n",
       "      <td>2219.581163</td>\n",
       "      <td>16.133657</td>\n",
       "      <td>44.216040</td>\n",
       "      <td>97.832557</td>\n",
       "      <td>454.108153</td>\n",
       "    </tr>\n",
       "    <tr>\n",
       "      <th>75%</th>\n",
       "      <td>79.750000</td>\n",
       "      <td>1487.989626</td>\n",
       "      <td>0.169602</td>\n",
       "      <td>0.166504</td>\n",
       "      <td>255.334809</td>\n",
       "      <td>7615.204968</td>\n",
       "      <td>30.953294</td>\n",
       "      <td>83.671755</td>\n",
       "      <td>232.990070</td>\n",
       "      <td>1301.559438</td>\n",
       "    </tr>\n",
       "    <tr>\n",
       "      <th>max</th>\n",
       "      <td>106.000000</td>\n",
       "      <td>2800.000000</td>\n",
       "      <td>0.358316</td>\n",
       "      <td>0.467748</td>\n",
       "      <td>1063.441427</td>\n",
       "      <td>174480.476218</td>\n",
       "      <td>164.071543</td>\n",
       "      <td>436.099640</td>\n",
       "      <td>977.552367</td>\n",
       "      <td>2896.582483</td>\n",
       "    </tr>\n",
       "  </tbody>\n",
       "</table>\n",
       "</div>"
      ],
      "text/plain": [
       "           Case #           I0       PA500         HFS           DA  \\\n",
       "count  106.000000   106.000000  106.000000  106.000000   106.000000   \n",
       "mean    53.500000   784.251618    0.120133    0.114691   190.568642   \n",
       "std     30.743563   753.950075    0.068596    0.101347   190.801448   \n",
       "min      1.000000   103.000000    0.012392   -0.066323    19.647670   \n",
       "25%     27.250000   250.000000    0.067413    0.043982    53.845470   \n",
       "50%     53.500000   384.936489    0.105418    0.086568   120.777303   \n",
       "75%     79.750000  1487.989626    0.169602    0.166504   255.334809   \n",
       "max    106.000000  2800.000000    0.358316    0.467748  1063.441427   \n",
       "\n",
       "                Area        A/DA      Max IP          DR            P  \n",
       "count     106.000000  106.000000  106.000000  106.000000   106.000000  \n",
       "mean     7335.155162   23.473784   75.381258  166.710575   810.638127  \n",
       "std     18580.314213   23.354672   81.345838  181.309580   763.019135  \n",
       "min        70.426239    1.595742    7.968783   -9.257696   124.978561  \n",
       "25%       409.647141    8.180321   26.893773   41.781258   270.215238  \n",
       "50%      2219.581163   16.133657   44.216040   97.832557   454.108153  \n",
       "75%      7615.204968   30.953294   83.671755  232.990070  1301.559438  \n",
       "max    174480.476218  164.071543  436.099640  977.552367  2896.582483  "
      ]
     },
     "execution_count": 49,
     "metadata": {},
     "output_type": "execute_result"
    }
   ],
   "source": [
    "dataset = pd.read_excel('./BreastTissue.xls','Data')\n",
    "dataset.describe()"
   ]
  },
  {
   "cell_type": "code",
   "execution_count": 50,
   "metadata": {},
   "outputs": [
    {
     "data": {
      "text/html": [
       "<div>\n",
       "<style scoped>\n",
       "    .dataframe tbody tr th:only-of-type {\n",
       "        vertical-align: middle;\n",
       "    }\n",
       "\n",
       "    .dataframe tbody tr th {\n",
       "        vertical-align: top;\n",
       "    }\n",
       "\n",
       "    .dataframe thead th {\n",
       "        text-align: right;\n",
       "    }\n",
       "</style>\n",
       "<table border=\"1\" class=\"dataframe\">\n",
       "  <thead>\n",
       "    <tr style=\"text-align: right;\">\n",
       "      <th></th>\n",
       "      <th>Class</th>\n",
       "      <th>I0</th>\n",
       "      <th>PA500</th>\n",
       "      <th>HFS</th>\n",
       "      <th>DA</th>\n",
       "      <th>Area</th>\n",
       "      <th>A/DA</th>\n",
       "      <th>Max IP</th>\n",
       "      <th>DR</th>\n",
       "      <th>P</th>\n",
       "    </tr>\n",
       "  </thead>\n",
       "  <tbody>\n",
       "    <tr>\n",
       "      <th>0</th>\n",
       "      <td>car</td>\n",
       "      <td>524.794072</td>\n",
       "      <td>0.187448</td>\n",
       "      <td>0.032114</td>\n",
       "      <td>228.800228</td>\n",
       "      <td>6843.598481</td>\n",
       "      <td>29.910803</td>\n",
       "      <td>60.204880</td>\n",
       "      <td>220.737212</td>\n",
       "      <td>556.828334</td>\n",
       "    </tr>\n",
       "    <tr>\n",
       "      <th>1</th>\n",
       "      <td>car</td>\n",
       "      <td>330.000000</td>\n",
       "      <td>0.226893</td>\n",
       "      <td>0.265290</td>\n",
       "      <td>121.154201</td>\n",
       "      <td>3163.239472</td>\n",
       "      <td>26.109202</td>\n",
       "      <td>69.717361</td>\n",
       "      <td>99.084964</td>\n",
       "      <td>400.225776</td>\n",
       "    </tr>\n",
       "    <tr>\n",
       "      <th>2</th>\n",
       "      <td>car</td>\n",
       "      <td>551.879287</td>\n",
       "      <td>0.232478</td>\n",
       "      <td>0.063530</td>\n",
       "      <td>264.804935</td>\n",
       "      <td>11888.391827</td>\n",
       "      <td>44.894903</td>\n",
       "      <td>77.793297</td>\n",
       "      <td>253.785300</td>\n",
       "      <td>656.769449</td>\n",
       "    </tr>\n",
       "    <tr>\n",
       "      <th>3</th>\n",
       "      <td>car</td>\n",
       "      <td>380.000000</td>\n",
       "      <td>0.240855</td>\n",
       "      <td>0.286234</td>\n",
       "      <td>137.640111</td>\n",
       "      <td>5402.171180</td>\n",
       "      <td>39.248524</td>\n",
       "      <td>88.758446</td>\n",
       "      <td>105.198568</td>\n",
       "      <td>493.701814</td>\n",
       "    </tr>\n",
       "    <tr>\n",
       "      <th>4</th>\n",
       "      <td>car</td>\n",
       "      <td>362.831266</td>\n",
       "      <td>0.200713</td>\n",
       "      <td>0.244346</td>\n",
       "      <td>124.912559</td>\n",
       "      <td>3290.462446</td>\n",
       "      <td>26.342127</td>\n",
       "      <td>69.389389</td>\n",
       "      <td>103.866552</td>\n",
       "      <td>424.796503</td>\n",
       "    </tr>\n",
       "  </tbody>\n",
       "</table>\n",
       "</div>"
      ],
      "text/plain": [
       "  Class          I0     PA500       HFS          DA          Area       A/DA  \\\n",
       "0   car  524.794072  0.187448  0.032114  228.800228   6843.598481  29.910803   \n",
       "1   car  330.000000  0.226893  0.265290  121.154201   3163.239472  26.109202   \n",
       "2   car  551.879287  0.232478  0.063530  264.804935  11888.391827  44.894903   \n",
       "3   car  380.000000  0.240855  0.286234  137.640111   5402.171180  39.248524   \n",
       "4   car  362.831266  0.200713  0.244346  124.912559   3290.462446  26.342127   \n",
       "\n",
       "      Max IP          DR           P  \n",
       "0  60.204880  220.737212  556.828334  \n",
       "1  69.717361   99.084964  400.225776  \n",
       "2  77.793297  253.785300  656.769449  \n",
       "3  88.758446  105.198568  493.701814  \n",
       "4  69.389389  103.866552  424.796503  "
      ]
     },
     "execution_count": 50,
     "metadata": {},
     "output_type": "execute_result"
    }
   ],
   "source": [
    "dataset.drop(dataset.columns[0],inplace=True,axis=1)\n",
    "dataset.head()"
   ]
  },
  {
   "cell_type": "code",
   "execution_count": 51,
   "metadata": {},
   "outputs": [
    {
     "name": "stdout",
     "output_type": "stream",
     "text": [
      "['Class', 'I0', 'PA500', 'HFS', 'DA', 'Area', 'A/DA', 'Max IP', 'DR', 'P']\n"
     ]
    }
   ],
   "source": [
    "dataset_columns = dataset.columns\n",
    "print(list(dataset_columns))"
   ]
  },
  {
   "cell_type": "code",
   "execution_count": 52,
   "metadata": {},
   "outputs": [
    {
     "data": {
      "image/png": "[encoded data removed]",
      "text/plain": [
       "<matplotlib.figure.Figure at 0x7f1c0dc15f60>"
      ]
     },
     "metadata": {},
     "output_type": "display_data"
    }
   ],
   "source": [
    "fig = dataset.boxplot()\n",
    "# fig.figure"
   ]
  },
  {
   "cell_type": "code",
   "execution_count": 53,
   "metadata": {},
   "outputs": [
    {
     "name": "stdout",
     "output_type": "stream",
     "text": [
      "['I0' 'PA500' 'HFS' 'DA' 'Area' 'A/DA' 'Max IP' 'DR' 'P']\n"
     ]
    }
   ],
   "source": [
    "print (dataset.columns.values[1:])\n",
    "for name in dataset.columns.values[1:]:\n",
    "    Q1 = dataset[name].quantile(0.25)\n",
    "    Q3 = dataset[name].quantile(0.75)\n",
    "    IQR = Q3 - Q1\n",
    "    mask = (dataset[name] < (Q1 - 1.5 * IQR)) | (dataset[name] > (Q3 + 1.5 * IQR))\n",
    "    dataset.loc[mask,[name]] = np.nan"
   ]
  },
  {
   "cell_type": "code",
   "execution_count": 54,
   "metadata": {},
   "outputs": [
    {
     "data": {
      "text/html": [
       "<div>\n",
       "<style scoped>\n",
       "    .dataframe tbody tr th:only-of-type {\n",
       "        vertical-align: middle;\n",
       "    }\n",
       "\n",
       "    .dataframe tbody tr th {\n",
       "        vertical-align: top;\n",
       "    }\n",
       "\n",
       "    .dataframe thead th {\n",
       "        text-align: right;\n",
       "    }\n",
       "</style>\n",
       "<table border=\"1\" class=\"dataframe\">\n",
       "  <thead>\n",
       "    <tr style=\"text-align: right;\">\n",
       "      <th></th>\n",
       "      <th>I0</th>\n",
       "      <th>PA500</th>\n",
       "      <th>HFS</th>\n",
       "      <th>DA</th>\n",
       "      <th>Area</th>\n",
       "      <th>A/DA</th>\n",
       "      <th>Max IP</th>\n",
       "      <th>DR</th>\n",
       "      <th>P</th>\n",
       "    </tr>\n",
       "  </thead>\n",
       "  <tbody>\n",
       "    <tr>\n",
       "      <th>count</th>\n",
       "      <td>106.000000</td>\n",
       "      <td>105.000000</td>\n",
       "      <td>102.000000</td>\n",
       "      <td>99.000000</td>\n",
       "      <td>98.000000</td>\n",
       "      <td>101.000000</td>\n",
       "      <td>95.000000</td>\n",
       "      <td>99.000000</td>\n",
       "      <td>105.000000</td>\n",
       "    </tr>\n",
       "    <tr>\n",
       "      <th>mean</th>\n",
       "      <td>784.251618</td>\n",
       "      <td>0.117864</td>\n",
       "      <td>0.103145</td>\n",
       "      <td>155.127909</td>\n",
       "      <td>3724.337564</td>\n",
       "      <td>19.786807</td>\n",
       "      <td>52.331548</td>\n",
       "      <td>131.803170</td>\n",
       "      <td>790.771991</td>\n",
       "    </tr>\n",
       "    <tr>\n",
       "      <th>std</th>\n",
       "      <td>753.950075</td>\n",
       "      <td>0.064807</td>\n",
       "      <td>0.083831</td>\n",
       "      <td>133.964402</td>\n",
       "      <td>4359.496549</td>\n",
       "      <td>14.846681</td>\n",
       "      <td>36.319006</td>\n",
       "      <td>122.952680</td>\n",
       "      <td>738.620125</td>\n",
       "    </tr>\n",
       "    <tr>\n",
       "      <th>min</th>\n",
       "      <td>103.000000</td>\n",
       "      <td>0.012392</td>\n",
       "      <td>-0.066323</td>\n",
       "      <td>19.647670</td>\n",
       "      <td>70.426239</td>\n",
       "      <td>1.595742</td>\n",
       "      <td>7.968783</td>\n",
       "      <td>-9.257696</td>\n",
       "      <td>124.978561</td>\n",
       "    </tr>\n",
       "    <tr>\n",
       "      <th>25%</th>\n",
       "      <td>250.000000</td>\n",
       "      <td>0.067195</td>\n",
       "      <td>0.042761</td>\n",
       "      <td>50.845281</td>\n",
       "      <td>367.293098</td>\n",
       "      <td>7.556963</td>\n",
       "      <td>25.878665</td>\n",
       "      <td>36.683776</td>\n",
       "      <td>267.517446</td>\n",
       "    </tr>\n",
       "    <tr>\n",
       "      <th>50%</th>\n",
       "      <td>384.936489</td>\n",
       "      <td>0.104720</td>\n",
       "      <td>0.084823</td>\n",
       "      <td>100.788080</td>\n",
       "      <td>1386.534866</td>\n",
       "      <td>15.670203</td>\n",
       "      <td>37.384724</td>\n",
       "      <td>86.576561</td>\n",
       "      <td>445.513299</td>\n",
       "    </tr>\n",
       "    <tr>\n",
       "      <th>75%</th>\n",
       "      <td>1487.989626</td>\n",
       "      <td>0.165806</td>\n",
       "      <td>0.160221</td>\n",
       "      <td>224.047865</td>\n",
       "      <td>5672.499772</td>\n",
       "      <td>27.824923</td>\n",
       "      <td>70.876186</td>\n",
       "      <td>198.789606</td>\n",
       "      <td>1197.762150</td>\n",
       "    </tr>\n",
       "    <tr>\n",
       "      <th>max</th>\n",
       "      <td>2800.000000</td>\n",
       "      <td>0.317824</td>\n",
       "      <td>0.297404</td>\n",
       "      <td>555.352318</td>\n",
       "      <td>16640.723619</td>\n",
       "      <td>63.651988</td>\n",
       "      <td>160.065460</td>\n",
       "      <td>501.038494</td>\n",
       "      <td>2686.435346</td>\n",
       "    </tr>\n",
       "  </tbody>\n",
       "</table>\n",
       "</div>"
      ],
      "text/plain": [
       "                I0       PA500         HFS          DA          Area  \\\n",
       "count   106.000000  105.000000  102.000000   99.000000     98.000000   \n",
       "mean    784.251618    0.117864    0.103145  155.127909   3724.337564   \n",
       "std     753.950075    0.064807    0.083831  133.964402   4359.496549   \n",
       "min     103.000000    0.012392   -0.066323   19.647670     70.426239   \n",
       "25%     250.000000    0.067195    0.042761   50.845281    367.293098   \n",
       "50%     384.936489    0.104720    0.084823  100.788080   1386.534866   \n",
       "75%    1487.989626    0.165806    0.160221  224.047865   5672.499772   \n",
       "max    2800.000000    0.317824    0.297404  555.352318  16640.723619   \n",
       "\n",
       "             A/DA      Max IP          DR            P  \n",
       "count  101.000000   95.000000   99.000000   105.000000  \n",
       "mean    19.786807   52.331548  131.803170   790.771991  \n",
       "std     14.846681   36.319006  122.952680   738.620125  \n",
       "min      1.595742    7.968783   -9.257696   124.978561  \n",
       "25%      7.556963   25.878665   36.683776   267.517446  \n",
       "50%     15.670203   37.384724   86.576561   445.513299  \n",
       "75%     27.824923   70.876186  198.789606  1197.762150  \n",
       "max     63.651988  160.065460  501.038494  2686.435346  "
      ]
     },
     "execution_count": 54,
     "metadata": {},
     "output_type": "execute_result"
    }
   ],
   "source": [
    "dataset.describe()"
   ]
  },
  {
   "cell_type": "code",
   "execution_count": 55,
   "metadata": {},
   "outputs": [
    {
     "data": {
      "image/png": "[encoded data removed]",
      "text/plain": [
       "<matplotlib.figure.Figure at 0x7f1c0dfc7a20>"
      ]
     },
     "metadata": {},
     "output_type": "display_data"
    }
   ],
   "source": [
    "plt.cla()\n",
    "fig = dataset.boxplot()\n",
    "# infig.figure"
   ]
  },
  {
   "cell_type": "code",
   "execution_count": 56,
   "metadata": {},
   "outputs": [
    {
     "data": {
      "text/html": [
       "<div>\n",
       "<style scoped>\n",
       "    .dataframe tbody tr th:only-of-type {\n",
       "        vertical-align: middle;\n",
       "    }\n",
       "\n",
       "    .dataframe tbody tr th {\n",
       "        vertical-align: top;\n",
       "    }\n",
       "\n",
       "    .dataframe thead th {\n",
       "        text-align: right;\n",
       "    }\n",
       "</style>\n",
       "<table border=\"1\" class=\"dataframe\">\n",
       "  <thead>\n",
       "    <tr style=\"text-align: right;\">\n",
       "      <th></th>\n",
       "      <th>I0</th>\n",
       "      <th>PA500</th>\n",
       "      <th>HFS</th>\n",
       "      <th>DA</th>\n",
       "      <th>Area</th>\n",
       "      <th>A/DA</th>\n",
       "      <th>Max IP</th>\n",
       "      <th>DR</th>\n",
       "      <th>P</th>\n",
       "    </tr>\n",
       "  </thead>\n",
       "  <tbody>\n",
       "    <tr>\n",
       "      <th>count</th>\n",
       "      <td>106.000000</td>\n",
       "      <td>105.000000</td>\n",
       "      <td>102.000000</td>\n",
       "      <td>99.000000</td>\n",
       "      <td>98.000000</td>\n",
       "      <td>101.000000</td>\n",
       "      <td>95.000000</td>\n",
       "      <td>99.000000</td>\n",
       "      <td>105.000000</td>\n",
       "    </tr>\n",
       "    <tr>\n",
       "      <th>mean</th>\n",
       "      <td>784.251618</td>\n",
       "      <td>0.117864</td>\n",
       "      <td>0.103145</td>\n",
       "      <td>155.127909</td>\n",
       "      <td>3724.337564</td>\n",
       "      <td>19.786807</td>\n",
       "      <td>52.331548</td>\n",
       "      <td>131.803170</td>\n",
       "      <td>790.771991</td>\n",
       "    </tr>\n",
       "    <tr>\n",
       "      <th>std</th>\n",
       "      <td>753.950075</td>\n",
       "      <td>0.064807</td>\n",
       "      <td>0.083831</td>\n",
       "      <td>133.964402</td>\n",
       "      <td>4359.496549</td>\n",
       "      <td>14.846681</td>\n",
       "      <td>36.319006</td>\n",
       "      <td>122.952680</td>\n",
       "      <td>738.620125</td>\n",
       "    </tr>\n",
       "    <tr>\n",
       "      <th>min</th>\n",
       "      <td>103.000000</td>\n",
       "      <td>0.012392</td>\n",
       "      <td>-0.066323</td>\n",
       "      <td>19.647670</td>\n",
       "      <td>70.426239</td>\n",
       "      <td>1.595742</td>\n",
       "      <td>7.968783</td>\n",
       "      <td>-9.257696</td>\n",
       "      <td>124.978561</td>\n",
       "    </tr>\n",
       "    <tr>\n",
       "      <th>25%</th>\n",
       "      <td>250.000000</td>\n",
       "      <td>0.067195</td>\n",
       "      <td>0.042761</td>\n",
       "      <td>50.845281</td>\n",
       "      <td>367.293098</td>\n",
       "      <td>7.556963</td>\n",
       "      <td>25.878665</td>\n",
       "      <td>36.683776</td>\n",
       "      <td>267.517446</td>\n",
       "    </tr>\n",
       "    <tr>\n",
       "      <th>50%</th>\n",
       "      <td>384.936489</td>\n",
       "      <td>0.104720</td>\n",
       "      <td>0.084823</td>\n",
       "      <td>100.788080</td>\n",
       "      <td>1386.534866</td>\n",
       "      <td>15.670203</td>\n",
       "      <td>37.384724</td>\n",
       "      <td>86.576561</td>\n",
       "      <td>445.513299</td>\n",
       "    </tr>\n",
       "    <tr>\n",
       "      <th>75%</th>\n",
       "      <td>1487.989626</td>\n",
       "      <td>0.165806</td>\n",
       "      <td>0.160221</td>\n",
       "      <td>224.047865</td>\n",
       "      <td>5672.499772</td>\n",
       "      <td>27.824923</td>\n",
       "      <td>70.876186</td>\n",
       "      <td>198.789606</td>\n",
       "      <td>1197.762150</td>\n",
       "    </tr>\n",
       "    <tr>\n",
       "      <th>max</th>\n",
       "      <td>2800.000000</td>\n",
       "      <td>0.317824</td>\n",
       "      <td>0.297404</td>\n",
       "      <td>555.352318</td>\n",
       "      <td>16640.723619</td>\n",
       "      <td>63.651988</td>\n",
       "      <td>160.065460</td>\n",
       "      <td>501.038494</td>\n",
       "      <td>2686.435346</td>\n",
       "    </tr>\n",
       "  </tbody>\n",
       "</table>\n",
       "</div>"
      ],
      "text/plain": [
       "                I0       PA500         HFS          DA          Area  \\\n",
       "count   106.000000  105.000000  102.000000   99.000000     98.000000   \n",
       "mean    784.251618    0.117864    0.103145  155.127909   3724.337564   \n",
       "std     753.950075    0.064807    0.083831  133.964402   4359.496549   \n",
       "min     103.000000    0.012392   -0.066323   19.647670     70.426239   \n",
       "25%     250.000000    0.067195    0.042761   50.845281    367.293098   \n",
       "50%     384.936489    0.104720    0.084823  100.788080   1386.534866   \n",
       "75%    1487.989626    0.165806    0.160221  224.047865   5672.499772   \n",
       "max    2800.000000    0.317824    0.297404  555.352318  16640.723619   \n",
       "\n",
       "             A/DA      Max IP          DR            P  \n",
       "count  101.000000   95.000000   99.000000   105.000000  \n",
       "mean    19.786807   52.331548  131.803170   790.771991  \n",
       "std     14.846681   36.319006  122.952680   738.620125  \n",
       "min      1.595742    7.968783   -9.257696   124.978561  \n",
       "25%      7.556963   25.878665   36.683776   267.517446  \n",
       "50%     15.670203   37.384724   86.576561   445.513299  \n",
       "75%     27.824923   70.876186  198.789606  1197.762150  \n",
       "max     63.651988  160.065460  501.038494  2686.435346  "
      ]
     },
     "execution_count": 56,
     "metadata": {},
     "output_type": "execute_result"
    }
   ],
   "source": [
    "dataset.describe()"
   ]
  },
  {
   "cell_type": "markdown",
   "metadata": {},
   "source": [
    "### Interpolate missing values"
   ]
  },
  {
   "cell_type": "code",
   "execution_count": 57,
   "metadata": {},
   "outputs": [
    {
     "name": "stdout",
     "output_type": "stream",
     "text": [
      "\n",
      "Before interpolate: \n",
      "\n",
      " Class      0\n",
      "I0         0\n",
      "PA500      1\n",
      "HFS        4\n",
      "DA         7\n",
      "Area       8\n",
      "A/DA       5\n",
      "Max IP    11\n",
      "DR         7\n",
      "P          1\n",
      "dtype: int64\n",
      "\n",
      "After  interpolate: \n",
      "\n",
      " Class     0\n",
      "I0        0\n",
      "PA500     0\n",
      "HFS       0\n",
      "DA        0\n",
      "Area      0\n",
      "A/DA      0\n",
      "Max IP    0\n",
      "DR        0\n",
      "P         0\n",
      "dtype: int64\n"
     ]
    }
   ],
   "source": [
    "print('\\nBefore interpolate: \\n\\n', dataset.isnull().sum())\n",
    "dataset = dataset.interpolate()\n",
    "print('\\nAfter  interpolate: \\n\\n', dataset.isnull().sum())"
   ]
  },
  {
   "cell_type": "markdown",
   "metadata": {},
   "source": [
    "### Normalization"
   ]
  },
  {
   "cell_type": "code",
   "execution_count": 58,
   "metadata": {
    "scrolled": true
   },
   "outputs": [
    {
     "data": {
      "text/html": [
       "<div>\n",
       "<style scoped>\n",
       "    .dataframe tbody tr th:only-of-type {\n",
       "        vertical-align: middle;\n",
       "    }\n",
       "\n",
       "    .dataframe tbody tr th {\n",
       "        vertical-align: top;\n",
       "    }\n",
       "\n",
       "    .dataframe thead th {\n",
       "        text-align: right;\n",
       "    }\n",
       "</style>\n",
       "<table border=\"1\" class=\"dataframe\">\n",
       "  <thead>\n",
       "    <tr style=\"text-align: right;\">\n",
       "      <th></th>\n",
       "      <th>Class</th>\n",
       "      <th>I0</th>\n",
       "      <th>PA500</th>\n",
       "      <th>HFS</th>\n",
       "      <th>DA</th>\n",
       "      <th>Area</th>\n",
       "      <th>A/DA</th>\n",
       "      <th>Max IP</th>\n",
       "      <th>DR</th>\n",
       "      <th>P</th>\n",
       "    </tr>\n",
       "  </thead>\n",
       "  <tbody>\n",
       "    <tr>\n",
       "      <th>0</th>\n",
       "      <td>car</td>\n",
       "      <td>-0.345766</td>\n",
       "      <td>1.056984</td>\n",
       "      <td>-0.871188</td>\n",
       "      <td>0.410123</td>\n",
       "      <td>0.564953</td>\n",
       "      <td>0.625722</td>\n",
       "      <td>0.060448</td>\n",
       "      <td>0.581174</td>\n",
       "      <td>-0.331950</td>\n",
       "    </tr>\n",
       "    <tr>\n",
       "      <th>1</th>\n",
       "      <td>car</td>\n",
       "      <td>-0.605358</td>\n",
       "      <td>1.664464</td>\n",
       "      <td>1.917483</td>\n",
       "      <td>-0.342691</td>\n",
       "      <td>-0.226330</td>\n",
       "      <td>0.374037</td>\n",
       "      <td>0.305421</td>\n",
       "      <td>-0.344302</td>\n",
       "      <td>-0.542654</td>\n",
       "    </tr>\n",
       "    <tr>\n",
       "      <th>2</th>\n",
       "      <td>car</td>\n",
       "      <td>-0.309671</td>\n",
       "      <td>1.750478</td>\n",
       "      <td>-0.495469</td>\n",
       "      <td>0.661919</td>\n",
       "      <td>1.649591</td>\n",
       "      <td>1.617743</td>\n",
       "      <td>0.513399</td>\n",
       "      <td>0.832590</td>\n",
       "      <td>-0.197483</td>\n",
       "    </tr>\n",
       "    <tr>\n",
       "      <th>3</th>\n",
       "      <td>car</td>\n",
       "      <td>-0.538725</td>\n",
       "      <td>1.879501</td>\n",
       "      <td>2.167962</td>\n",
       "      <td>-0.227398</td>\n",
       "      <td>0.255044</td>\n",
       "      <td>1.243925</td>\n",
       "      <td>0.795783</td>\n",
       "      <td>-0.297792</td>\n",
       "      <td>-0.416885</td>\n",
       "    </tr>\n",
       "    <tr>\n",
       "      <th>4</th>\n",
       "      <td>car</td>\n",
       "      <td>-0.561605</td>\n",
       "      <td>1.261269</td>\n",
       "      <td>1.667004</td>\n",
       "      <td>-0.316407</td>\n",
       "      <td>-0.198977</td>\n",
       "      <td>0.389458</td>\n",
       "      <td>0.296975</td>\n",
       "      <td>-0.307926</td>\n",
       "      <td>-0.509595</td>\n",
       "    </tr>\n",
       "  </tbody>\n",
       "</table>\n",
       "</div>"
      ],
      "text/plain": [
       "  Class        I0     PA500       HFS        DA      Area      A/DA    Max IP  \\\n",
       "0   car -0.345766  1.056984 -0.871188  0.410123  0.564953  0.625722  0.060448   \n",
       "1   car -0.605358  1.664464  1.917483 -0.342691 -0.226330  0.374037  0.305421   \n",
       "2   car -0.309671  1.750478 -0.495469  0.661919  1.649591  1.617743  0.513399   \n",
       "3   car -0.538725  1.879501  2.167962 -0.227398  0.255044  1.243925  0.795783   \n",
       "4   car -0.561605  1.261269  1.667004 -0.316407 -0.198977  0.389458  0.296975   \n",
       "\n",
       "         DR         P  \n",
       "0  0.581174 -0.331950  \n",
       "1 -0.344302 -0.542654  \n",
       "2  0.832590 -0.197483  \n",
       "3 -0.297792 -0.416885  \n",
       "4 -0.307926 -0.509595  "
      ]
     },
     "execution_count": 58,
     "metadata": {},
     "output_type": "execute_result"
    }
   ],
   "source": [
    "from sklearn.preprocessing import StandardScaler\n",
    "y = dataset[dataset.columns[0]]\n",
    "# print(y)\n",
    "X = dataset.drop(dataset.columns[0],axis=1)\n",
    "# print(X)\n",
    "scaler = StandardScaler()\n",
    "scaler.fit(X)\n",
    "X = scaler.transform(X)\n",
    "# print(scaler.mean_)\n",
    "\n",
    "X = pd.DataFrame(X)\n",
    "dataset = pd.concat([y, X], axis=1)\n",
    "dataset.columns = list(dataset_columns)\n",
    "dataset.head()"
   ]
  },
  {
   "cell_type": "markdown",
   "metadata": {},
   "source": [
    "### Training model"
   ]
  },
  {
   "cell_type": "code",
   "execution_count": 353,
   "metadata": {},
   "outputs": [
    {
     "name": "stdout",
     "output_type": "stream",
     "text": [
      "Prediction:  con Actual:  con\n",
      "Prediction:  fad Actual:  fad\n",
      "Prediction:  adi Actual:  adi\n",
      "Prediction:  car Actual:  mas\n",
      "Prediction:  car Actual:  car\n",
      "Prediction:  adi Actual:  adi\n",
      "Prediction:  adi Actual:  adi\n",
      "Prediction:  con Actual:  con\n",
      "Prediction:  car Actual:  car\n",
      "Prediction:  adi Actual:  adi\n",
      "Prediction:  fad Actual:  fad\n",
      "Prediction:  mas Actual:  mas\n",
      "Prediction:  adi Actual:  adi\n",
      "Prediction:  adi Actual:  adi\n",
      "Prediction:  adi Actual:  adi\n",
      "Prediction:  fad Actual:  fad\n",
      "Prediction:  mas Actual:  gla\n",
      "Prediction:  con Actual:  con\n",
      "Prediction:  gla Actual:  mas\n",
      "Prediction:  car Actual:  car\n",
      "Prediction:  mas Actual:  mas\n",
      "Prediction:  fad Actual:  gla\n",
      "Prediction:  car Actual:  car\n",
      "Prediction:  con Actual:  con\n",
      "Prediction:  con Actual:  con\n",
      "Prediction:  gla Actual:  gla\n",
      "\n",
      " Accuracy =  84.61538461538461\n"
     ]
    }
   ],
   "source": [
    "from sklearn import svm\n",
    "from sklearn.ensemble import RandomForestClassifier\n",
    "from sklearn.utils import shuffle\n",
    "\n",
    "# telescopeuser\n",
    "total = float(len(range(80,106)))\n",
    "correct = 0.0\n",
    "\n",
    "y_true = dataset.iloc[80:106,0]\n",
    "y_pred = []\n",
    "\n",
    "clf = svm.SVC(kernel='linear', C=10)\n",
    "# clf = svm.SVC(kernel='poly', C=10, degree=2)\n",
    "# clf = RandomForestClassifier(n_estimators=10, max_depth=3)\n",
    "dataset.sample(frac=1).reset_index(drop=True)\n",
    "dataset = shuffle(dataset)\n",
    "X = dataset.iloc[:80,1:].copy().reset_index(drop=True)\n",
    "y = dataset.iloc[:80,0].copy().reset_index(drop=True)\n",
    "clf.fit(X, y)\n",
    "total = float(len(range(80,106)))\n",
    "correct = 0.0\n",
    "for i in list(range(80,106)):\n",
    "    prediction = clf.predict([dataset.iloc[i,1:]])[0]\n",
    "    print (\"Prediction: \",prediction, \"Actual: \",dataset.iloc[i,0])\n",
    "    y_pred.append(prediction)\n",
    "    if clf.predict([dataset.iloc[i,1:]])[0] == dataset.iloc[i,0]:\n",
    "        correct += 1.0\n",
    "print (\"\\n Accuracy = \",(correct/total)*100.0)\n",
    "    "
   ]
  },
  {
   "cell_type": "code",
   "execution_count": 354,
   "metadata": {},
   "outputs": [
    {
     "data": {
      "text/plain": [
       "array(['mas', 'gla', 'fad', 'car', 'adi', 'con'], dtype=object)"
      ]
     },
     "execution_count": 354,
     "metadata": {},
     "output_type": "execute_result"
    }
   ],
   "source": [
    "dataset.Class.unique()"
   ]
  },
  {
   "cell_type": "code",
   "execution_count": 355,
   "metadata": {},
   "outputs": [
    {
     "name": "stdout",
     "output_type": "stream",
     "text": [
      "mas 18\n",
      "gla 16\n",
      "fad 15\n",
      "car 21\n",
      "adi 22\n",
      "con 14\n"
     ]
    }
   ],
   "source": [
    "for name in dataset.Class.unique():\n",
    "    print (name, dataset.loc[dataset.Class==name,\"Class\"].count())"
   ]
  },
  {
   "cell_type": "markdown",
   "metadata": {
    "collapsed": true
   },
   "source": [
    "### confusion matrix"
   ]
  },
  {
   "cell_type": "code",
   "execution_count": 356,
   "metadata": {},
   "outputs": [
    {
     "data": {
      "text/plain": [
       "array([[0, 0, 2, 0, 0, 0],\n",
       "       [0, 0, 0, 0, 2, 1],\n",
       "       [2, 2, 2, 1, 1, 0],\n",
       "       [0, 0, 0, 0, 2, 2],\n",
       "       [1, 0, 0, 3, 1, 2],\n",
       "       [0, 0, 0, 1, 1, 0]])"
      ]
     },
     "execution_count": 356,
     "metadata": {},
     "output_type": "execute_result"
    }
   ],
   "source": [
    "from sklearn.metrics import confusion_matrix\n",
    "from sklearn import metrics\n",
    "import itertools\n",
    "\n",
    "classes = dataset.Class.unique()\n",
    "cm = confusion_matrix(y_true, y_pred, labels=classes)\n",
    "cm"
   ]
  },
  {
   "cell_type": "code",
   "execution_count": 357,
   "metadata": {},
   "outputs": [],
   "source": [
    "def plot_confusion_matrix(cm, classes,\n",
    "                          normalize=False,\n",
    "                          title='Confusion matrix',\n",
    "                          cmap=plt.cm.Blues):\n",
    "    \"\"\"\n",
    "    This function prints and plots the confusion matrix.\n",
    "    Normalization can be applied by setting `normalize=True`.\n",
    "    \"\"\"\n",
    "    if normalize:\n",
    "        cm = cm.astype('float') / cm.sum(axis=1)[:, np.newaxis]\n",
    "        print(\"Normalized confusion matrix\")\n",
    "    else:\n",
    "        print('Confusion matrix, without normalization')\n",
    "\n",
    "#     print(cm)\n",
    "\n",
    "    plt.imshow(cm, interpolation='nearest', cmap=cmap)\n",
    "    plt.title(title)\n",
    "    plt.colorbar()\n",
    "    tick_marks = np.arange(len(classes))\n",
    "    plt.xticks(tick_marks, classes, rotation=45)\n",
    "    plt.yticks(tick_marks, classes)\n",
    "\n",
    "    fmt = '.2f' if normalize else 'd'\n",
    "    thresh = cm.max() / 2.\n",
    "    for i, j in itertools.product(range(cm.shape[0]), range(cm.shape[1])):\n",
    "        plt.text(j, i, format(cm[i, j], fmt),\n",
    "                 horizontalalignment=\"center\",\n",
    "                 color=\"white\" if cm[i, j] > thresh else \"black\")\n",
    "\n",
    "    plt.tight_layout()\n",
    "    plt.ylabel('True label')\n",
    "    plt.xlabel('Predicted label')"
   ]
  },
  {
   "cell_type": "code",
   "execution_count": 358,
   "metadata": {},
   "outputs": [
    {
     "name": "stdout",
     "output_type": "stream",
     "text": [
      "Confusion matrix, without normalization\n"
     ]
    },
    {
     "data": {
      "image/png": "[encoded data removed]",
      "text/plain": [
       "<matplotlib.figure.Figure at 0x7f1c0dc96828>"
      ]
     },
     "metadata": {},
     "output_type": "display_data"
    }
   ],
   "source": [
    "plt.figure()\n",
    "plot_confusion_matrix(cm,classes=classes)\n",
    "plt.show()"
   ]
  },
  {
   "cell_type": "code",
   "execution_count": 359,
   "metadata": {},
   "outputs": [
    {
     "name": "stdout",
     "output_type": "stream",
     "text": [
      "0.115384615385 0.0793650793651\n"
     ]
    }
   ],
   "source": [
    "accuracy = metrics.accuracy_score(y_true, y_pred)\n",
    "f1 = metrics.f1_score(y_true, y_pred,average=None)\n",
    "print (accuracy, np.average(f1))"
   ]
  },
  {
   "cell_type": "code",
   "execution_count": 360,
   "metadata": {},
   "outputs": [
    {
     "name": "stdout",
     "output_type": "stream",
     "text": [
      "             precision    recall  f1-score   support\n",
      "\n",
      "        adi       0.14      0.14      0.14         7\n",
      "        car       0.00      0.00      0.00         4\n",
      "        con       0.00      0.00      0.00         2\n",
      "        fad       0.50      0.25      0.33         8\n",
      "        gla       0.00      0.00      0.00         3\n",
      "        mas       0.00      0.00      0.00         2\n",
      "\n",
      "avg / total       0.19      0.12      0.14        26\n",
      "\n"
     ]
    }
   ],
   "source": [
    "print (metrics.classification_report(y_true, y_pred))"
   ]
  },
  {
   "cell_type": "markdown",
   "metadata": {},
   "source": [
    "### learning curve"
   ]
  },
  {
   "cell_type": "code",
   "execution_count": 361,
   "metadata": {},
   "outputs": [],
   "source": [
    "from sklearn import svm\n",
    "from sklearn.utils import shuffle\n",
    "from sklearn.model_selection import learning_curve\n",
    "\n",
    "# clf = svm.SVC(kernel='linear')\n",
    "# dataset.sample(frac=1).reset_index(drop=True)\n",
    "# dataset = shuffle(dataset)\n",
    "# X = dataset.iloc[:80,1:].copy().reset_index(drop=True)\n",
    "# y = dataset.iloc[:80,0].copy().reset_index(drop=True)\n",
    "# clf.fit(X, y).score(X, y)\n",
    "\n",
    "dataset.sample(frac=1).reset_index(drop=True)\n",
    "dataset = shuffle(dataset)\n",
    "X = dataset.iloc[:80,1:].copy().reset_index(drop=True)\n",
    "y = dataset.iloc[:80,0].copy().reset_index(drop=True)\n",
    "\n",
    "# train_sizes, train_scores, valid_scores = learning_curve(svm.SVC(kernel='linear'), X, y, train_sizes=list(np.arange(10,60,10)), cv=5)\n",
    "train_sizes, train_scores, valid_scores = learning_curve(clf, X, y, train_sizes=list(np.arange(10,60,10)), cv=5)\n"
   ]
  },
  {
   "cell_type": "code",
   "execution_count": 362,
   "metadata": {},
   "outputs": [
    {
     "name": "stdout",
     "output_type": "stream",
     "text": [
      "[ 1.          0.83        0.84666667  0.85        0.86      ] [ 0.40797009  0.5408547   0.53946581  0.55418803  0.65606838]\n"
     ]
    },
    {
     "data": {
      "image/png": "[encoded data removed]",
      "text/plain": [
       "<matplotlib.figure.Figure at 0x7f1c0dc966a0>"
      ]
     },
     "metadata": {},
     "output_type": "display_data"
    }
   ],
   "source": [
    "train = np.mean(train_scores,axis=1)\n",
    "test = np.mean(valid_scores,axis=1)\n",
    "print (train,test)\n",
    "plt.clf()\n",
    "plt.plot(train)\n",
    "plt.plot(test)\n",
    "plt.show()"
   ]
  },
  {
   "cell_type": "code",
   "execution_count": null,
   "metadata": {},
   "outputs": [],
   "source": []
  }
 ],
 "metadata": {
  "kernelspec": {
   "display_name": "Python 3",
   "language": "python",
   "name": "python3"
  },
  "language_info": {
   "codemirror_mode": {
    "name": "ipython",
    "version": 3
   },
   "file_extension": ".py",
   "mimetype": "text/x-python",
   "name": "python",
   "nbconvert_exporter": "python",
   "pygments_lexer": "ipython3",
   "version": "3.6.4"
  }
 },
 "nbformat": 4,
 "nbformat_minor": 2
}
